{
 "cells": [
  {
   "cell_type": "markdown",
   "id": "violent-strike",
   "metadata": {},
   "source": [
    "# PSTAT 100 Final Project Report"
   ]
  },
  {
   "cell_type": "markdown",
   "id": "horizontal-cassette",
   "metadata": {},
   "source": [
    "This file is part of an adaptation of HW3 into a project-like format, and paired with the file codes.ipynb, which contains the codes used in data processing, analysis, tabulation, and visualization to generate the results shown here.\n",
    "\n",
    "Since you did this analysis already in the homework, you have some idea of what went into generating this report. Notice just how little of the full process appears here -- just four figures and three tables are included. The focus is less on showing each step and documenting the analysis, and more on telling a story."
   ]
  },
  {
   "cell_type": "code",
   "execution_count": 7,
   "id": "pleasant-estate",
   "metadata": {},
   "outputs": [],
   "source": [
    "# libraries\n",
    "import pandas as pd\n",
    "import numpy as np\n",
    "import altair as alt"
   ]
  },
  {
   "cell_type": "markdown",
   "id": "eight-mouse",
   "metadata": {},
   "source": [
    "## Group information\n",
    "\n",
    "**Group members**:\n",
    "<br>\n",
    "Gabriel Fei <br>\n",
    "Heejae Park <br>\n",
    "Kristian Abad <br>\n",
    "\n",
    "**Contributions**:\n",
    "1. Member 1 studied the data documentation and prepared the data description.\n",
    "2. Member 2 worked on tidying the dataset and exploratory analysis.\n",
    "3. Member 3 worked on tidying the dataset and exploratory analysis.\n",
    "4. All 3 worked on proposed questions and approaches."
   ]
  }
 ],
 "metadata": {
  "kernelspec": {
   "display_name": "Python 3",
   "language": "python",
   "name": "python3"
  },
  "language_info": {
   "codemirror_mode": {
    "name": "ipython",
    "version": 3
   },
   "file_extension": ".py",
   "mimetype": "text/x-python",
   "name": "python",
   "nbconvert_exporter": "python",
   "pygments_lexer": "ipython3",
   "version": "3.9.1"
  }
 },
 "nbformat": 4,
 "nbformat_minor": 5
}
