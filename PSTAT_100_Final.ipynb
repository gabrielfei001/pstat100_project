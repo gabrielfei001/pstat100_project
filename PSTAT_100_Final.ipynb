{
 "cells": [
  {
   "cell_type": "markdown",
   "id": "hourly-samba",
   "metadata": {},
   "source": [
    "# Game Development"
   ]
  },
  {
   "cell_type": "code",
   "execution_count": 47,
   "id": "dominant-robinson",
   "metadata": {},
   "outputs": [],
   "source": [
    "# libraries\n",
    "import pandas as pd\n",
    "import numpy as np\n",
    "import altair as alt"
   ]
  },
  {
   "cell_type": "markdown",
   "id": "mighty-substance",
   "metadata": {},
   "source": [
    "Group Members:\n",
    "\n",
    "#### Author contributions\n",
    "\n",
    "Author 1 contributed ...\n",
    "\n",
    "Author 2 contributed ...\n",
    "\n",
    "#### Abstract\n",
    "\n",
    "Prepare an abstract *after* you've written the entire report. The abstract should be 4-6 sentences summarizing the report contents. Typically:\n",
    "* the first 1-2 sentences introduce and motivate the topic;\n",
    "* the next 1-2 sentences state the aims;\n",
    "* the next 1-2 sentences state the findings."
   ]
  },
  {
   "cell_type": "markdown",
   "id": "cloudy-wrong",
   "metadata": {},
   "source": [
    "---\n",
    "## Background: Sales of videogames \n",
    "\n",
    "Videogames have been an increasingly popular form of entertainment coming out of the crash of 1983 to the present pushing computational hardware, content creation, competitive play, and opening many commercial opportunities along the way. Titles or the games themselves have existed through various means such as consoles or specifically curated hardware from companies such as Sony with their Playstation series of console, Microsoft with Xbox consoles, and Nintendo with their most recent Switch console. Another popular option in terms of hardware comes through custom built computers.\n",
    "<br>\n"
   ]
  },
  {
   "cell_type": "markdown",
   "id": "worse-morgan",
   "metadata": {},
   "source": [
    "<center><img src=\"https://encrypted-tbn0.gstatic.com/images?q=tbn:ANd9GcS3Ecto-QEVl3cg5U7-xtEhNdgRFqLHoa6_nQ&usqp=CAU\" width=\"300\" height=\"300\"/></center>"
   ]
  },
  {
   "cell_type": "code",
   "execution_count": 48,
   "id": "proved-israel",
   "metadata": {
    "scrolled": true
   },
   "outputs": [
    {
     "data": {
      "text/html": [
       "<div>\n",
       "<style scoped>\n",
       "    .dataframe tbody tr th:only-of-type {\n",
       "        vertical-align: middle;\n",
       "    }\n",
       "\n",
       "    .dataframe tbody tr th {\n",
       "        vertical-align: top;\n",
       "    }\n",
       "\n",
       "    .dataframe thead th {\n",
       "        text-align: right;\n",
       "    }\n",
       "</style>\n",
       "<table border=\"1\" class=\"dataframe\">\n",
       "  <thead>\n",
       "    <tr style=\"text-align: right;\">\n",
       "      <th></th>\n",
       "      <th>Rank</th>\n",
       "      <th>Name</th>\n",
       "      <th>Platform</th>\n",
       "      <th>Year</th>\n",
       "      <th>Genre</th>\n",
       "      <th>Publisher</th>\n",
       "      <th>NA_Sales</th>\n",
       "      <th>EU_Sales</th>\n",
       "      <th>JP_Sales</th>\n",
       "      <th>Other_Sales</th>\n",
       "      <th>Global_Sales</th>\n",
       "    </tr>\n",
       "  </thead>\n",
       "  <tbody>\n",
       "    <tr>\n",
       "      <th>0</th>\n",
       "      <td>1</td>\n",
       "      <td>Wii Sports</td>\n",
       "      <td>Wii</td>\n",
       "      <td>2006</td>\n",
       "      <td>Sports</td>\n",
       "      <td>Nintendo</td>\n",
       "      <td>41.49</td>\n",
       "      <td>29.02</td>\n",
       "      <td>3.77</td>\n",
       "      <td>8.46</td>\n",
       "      <td>82.74</td>\n",
       "    </tr>\n",
       "    <tr>\n",
       "      <th>1</th>\n",
       "      <td>2</td>\n",
       "      <td>Super Mario Bros.</td>\n",
       "      <td>NES</td>\n",
       "      <td>1985</td>\n",
       "      <td>Platform</td>\n",
       "      <td>Nintendo</td>\n",
       "      <td>29.08</td>\n",
       "      <td>3.58</td>\n",
       "      <td>6.81</td>\n",
       "      <td>0.77</td>\n",
       "      <td>40.24</td>\n",
       "    </tr>\n",
       "    <tr>\n",
       "      <th>2</th>\n",
       "      <td>3</td>\n",
       "      <td>Mario Kart Wii</td>\n",
       "      <td>Wii</td>\n",
       "      <td>2008</td>\n",
       "      <td>Racing</td>\n",
       "      <td>Nintendo</td>\n",
       "      <td>15.85</td>\n",
       "      <td>12.88</td>\n",
       "      <td>3.79</td>\n",
       "      <td>3.31</td>\n",
       "      <td>35.82</td>\n",
       "    </tr>\n",
       "    <tr>\n",
       "      <th>3</th>\n",
       "      <td>4</td>\n",
       "      <td>Wii Sports Resort</td>\n",
       "      <td>Wii</td>\n",
       "      <td>2009</td>\n",
       "      <td>Sports</td>\n",
       "      <td>Nintendo</td>\n",
       "      <td>15.75</td>\n",
       "      <td>11.01</td>\n",
       "      <td>3.28</td>\n",
       "      <td>2.96</td>\n",
       "      <td>33.00</td>\n",
       "    </tr>\n",
       "    <tr>\n",
       "      <th>4</th>\n",
       "      <td>5</td>\n",
       "      <td>Pokemon Red/Pokemon Blue</td>\n",
       "      <td>GB</td>\n",
       "      <td>1996</td>\n",
       "      <td>Role-Playing</td>\n",
       "      <td>Nintendo</td>\n",
       "      <td>11.27</td>\n",
       "      <td>8.89</td>\n",
       "      <td>10.22</td>\n",
       "      <td>1.00</td>\n",
       "      <td>31.37</td>\n",
       "    </tr>\n",
       "  </tbody>\n",
       "</table>\n",
       "</div>"
      ],
      "text/plain": [
       "   Rank                      Name Platform  Year         Genre Publisher  \\\n",
       "0     1                Wii Sports      Wii  2006        Sports  Nintendo   \n",
       "1     2         Super Mario Bros.      NES  1985      Platform  Nintendo   \n",
       "2     3            Mario Kart Wii      Wii  2008        Racing  Nintendo   \n",
       "3     4         Wii Sports Resort      Wii  2009        Sports  Nintendo   \n",
       "4     5  Pokemon Red/Pokemon Blue       GB  1996  Role-Playing  Nintendo   \n",
       "\n",
       "   NA_Sales  EU_Sales  JP_Sales  Other_Sales  Global_Sales  \n",
       "0     41.49     29.02      3.77         8.46         82.74  \n",
       "1     29.08      3.58      6.81         0.77         40.24  \n",
       "2     15.85     12.88      3.79         3.31         35.82  \n",
       "3     15.75     11.01      3.28         2.96         33.00  \n",
       "4     11.27      8.89     10.22         1.00         31.37  "
      ]
     },
     "execution_count": 48,
     "metadata": {},
     "output_type": "execute_result"
    }
   ],
   "source": [
    "vg_sales = pd.read_csv('vgsales.csv')\n",
    "vg_sales.head()"
   ]
  },
  {
   "cell_type": "markdown",
   "id": "sudden-adaptation",
   "metadata": {},
   "source": [
    "<blockquote> \n",
    "<p>\n",
    "    <strong>Figure 1</strong>: Shows the total number of video game sold globally from 1980 - 2016.\n",
    "</p>\n",
    "</blockquote>"
   ]
  },
  {
   "cell_type": "code",
   "execution_count": 14,
   "id": "institutional-custom",
   "metadata": {
    "scrolled": true
   },
   "outputs": [
    {
     "data": {
      "text/html": [
       "\n",
       "<div id=\"altair-viz-dad4aef0682a4e83aa80d07d1dd3753e\"></div>\n",
       "<script type=\"text/javascript\">\n",
       "  (function(spec, embedOpt){\n",
       "    let outputDiv = document.currentScript.previousElementSibling;\n",
       "    if (outputDiv.id !== \"altair-viz-dad4aef0682a4e83aa80d07d1dd3753e\") {\n",
       "      outputDiv = document.getElementById(\"altair-viz-dad4aef0682a4e83aa80d07d1dd3753e\");\n",
       "    }\n",
       "    const paths = {\n",
       "      \"vega\": \"https://cdn.jsdelivr.net/npm//vega@5?noext\",\n",
       "      \"vega-lib\": \"https://cdn.jsdelivr.net/npm//vega-lib?noext\",\n",
       "      \"vega-lite\": \"https://cdn.jsdelivr.net/npm//vega-lite@4.8.1?noext\",\n",
       "      \"vega-embed\": \"https://cdn.jsdelivr.net/npm//vega-embed@6?noext\",\n",
       "    };\n",
       "\n",
       "    function loadScript(lib) {\n",
       "      return new Promise(function(resolve, reject) {\n",
       "        var s = document.createElement('script');\n",
       "        s.src = paths[lib];\n",
       "        s.async = true;\n",
       "        s.onload = () => resolve(paths[lib]);\n",
       "        s.onerror = () => reject(`Error loading script: ${paths[lib]}`);\n",
       "        document.getElementsByTagName(\"head\")[0].appendChild(s);\n",
       "      });\n",
       "    }\n",
       "\n",
       "    function showError(err) {\n",
       "      outputDiv.innerHTML = `<div class=\"error\" style=\"color:red;\">${err}</div>`;\n",
       "      throw err;\n",
       "    }\n",
       "\n",
       "    function displayChart(vegaEmbed) {\n",
       "      vegaEmbed(outputDiv, spec, embedOpt)\n",
       "        .catch(err => showError(`Javascript Error: ${err.message}<br>This usually means there's a typo in your chart specification. See the javascript console for the full traceback.`));\n",
       "    }\n",
       "\n",
       "    if(typeof define === \"function\" && define.amd) {\n",
       "      requirejs.config({paths});\n",
       "      require([\"vega-embed\"], displayChart, err => showError(`Error loading script: ${err.message}`));\n",
       "    } else if (typeof vegaEmbed === \"function\") {\n",
       "      displayChart(vegaEmbed);\n",
       "    } else {\n",
       "      loadScript(\"vega\")\n",
       "        .then(() => loadScript(\"vega-lite\"))\n",
       "        .then(() => loadScript(\"vega-embed\"))\n",
       "        .catch(showError)\n",
       "        .then(() => displayChart(vegaEmbed));\n",
       "    }\n",
       "  })({\"config\": {\"view\": {\"continuousWidth\": 400, \"continuousHeight\": 300}}, \"data\": {\"name\": \"data-1b838e84fbb5d262541a1b1a7e35035b\"}, \"mark\": \"bar\", \"encoding\": {\"x\": {\"type\": \"nominal\", \"field\": \"Year\"}, \"y\": {\"type\": \"quantitative\", \"field\": \"Global_Sales\"}}, \"$schema\": \"https://vega.github.io/schema/vega-lite/v4.8.1.json\", \"datasets\": {\"data-1b838e84fbb5d262541a1b1a7e35035b\": [{\"Year\": \"1980\", \"Rank\": 29826, \"NA_Sales\": 10.590000000000003, \"EU_Sales\": 0.6700000000000002, \"JP_Sales\": 0.0, \"Other_Sales\": 0.11999999999999998, \"Global_Sales\": 11.379999999999999}, {\"Year\": \"1981\", \"Rank\": 190488, \"NA_Sales\": 33.04999999999999, \"EU_Sales\": 1.9600000000000006, \"JP_Sales\": 0.0, \"Other_Sales\": 0.3200000000000001, \"Global_Sales\": 35.77000000000001}, {\"Year\": \"1982\", \"Rank\": 149186, \"NA_Sales\": 26.920000000000005, \"EU_Sales\": 1.6500000000000008, \"JP_Sales\": 0.0, \"Other_Sales\": 0.31000000000000016, \"Global_Sales\": 28.859999999999996}, {\"Year\": \"1983\", \"Rank\": 56759, \"NA_Sales\": 7.76, \"EU_Sales\": 0.8000000000000003, \"JP_Sales\": 8.1, \"Other_Sales\": 0.13999999999999999, \"Global_Sales\": 16.790000000000003}, {\"Year\": \"1984\", \"Rank\": 22911, \"NA_Sales\": 33.28, \"EU_Sales\": 2.0999999999999996, \"JP_Sales\": 14.269999999999998, \"Other_Sales\": 0.7000000000000002, \"Global_Sales\": 50.360000000000014}, {\"Year\": \"1985\", \"Rank\": 55505, \"NA_Sales\": 33.27, \"EU_Sales\": 4.74, \"JP_Sales\": 14.56, \"Other_Sales\": 0.9200000000000002, \"Global_Sales\": 53.940000000000005}, {\"Year\": \"1986\", \"Rank\": 35986, \"NA_Sales\": 12.5, \"EU_Sales\": 2.8400000000000007, \"JP_Sales\": 19.81, \"Other_Sales\": 1.9300000000000002, \"Global_Sales\": 37.07}, {\"Year\": \"1987\", \"Rank\": 54701, \"NA_Sales\": 8.460000000000003, \"EU_Sales\": 1.4100000000000001, \"JP_Sales\": 11.63, \"Other_Sales\": 0.20000000000000004, \"Global_Sales\": 21.739999999999995}, {\"Year\": \"1988\", \"Rank\": 37181, \"NA_Sales\": 23.869999999999997, \"EU_Sales\": 6.590000000000001, \"JP_Sales\": 15.759999999999998, \"Other_Sales\": 0.9900000000000001, \"Global_Sales\": 47.22}, {\"Year\": \"1989\", \"Rank\": 40156, \"NA_Sales\": 45.15, \"EU_Sales\": 8.44, \"JP_Sales\": 18.360000000000003, \"Other_Sales\": 1.5000000000000002, \"Global_Sales\": 73.45}, {\"Year\": \"1990\", \"Rank\": 25106, \"NA_Sales\": 25.46, \"EU_Sales\": 7.629999999999998, \"JP_Sales\": 14.880000000000003, \"Other_Sales\": 1.4000000000000004, \"Global_Sales\": 49.38999999999999}, {\"Year\": \"1991\", \"Rank\": 212821, \"NA_Sales\": 12.76, \"EU_Sales\": 3.9499999999999993, \"JP_Sales\": 14.780000000000001, \"Other_Sales\": 0.7400000000000001, \"Global_Sales\": 32.230000000000004}, {\"Year\": \"1992\", \"Rank\": 208926, \"NA_Sales\": 33.87, \"EU_Sales\": 11.710000000000003, \"JP_Sales\": 28.91, \"Other_Sales\": 1.6500000000000004, \"Global_Sales\": 76.15999999999998}, {\"Year\": \"1993\", \"Rank\": 378762, \"NA_Sales\": 14.120000000000001, \"EU_Sales\": 4.6499999999999995, \"JP_Sales\": 25.33000000000001, \"Other_Sales\": 0.8900000000000001, \"Global_Sales\": 45.98}, {\"Year\": \"1994\", \"Rank\": 868891, \"NA_Sales\": 28.150000000000002, \"EU_Sales\": 14.879999999999997, \"JP_Sales\": 33.990000000000016, \"Other_Sales\": 2.199999999999999, \"Global_Sales\": 79.17000000000003}, {\"Year\": \"1995\", \"Rank\": 1879594, \"NA_Sales\": 24.82000000000001, \"EU_Sales\": 14.709999999999981, \"JP_Sales\": 45.750000000000014, \"Other_Sales\": 2.6399999999999926, \"Global_Sales\": 88.10999999999991}, {\"Year\": \"1996\", \"Rank\": 1911672, \"NA_Sales\": 86.75999999999999, \"EU_Sales\": 47.259999999999984, \"JP_Sales\": 57.43999999999997, \"Other_Sales\": 7.689999999999979, \"Global_Sales\": 199.14999999999995}, {\"Year\": \"1997\", \"Rank\": 1896978, \"NA_Sales\": 94.30000000000007, \"EU_Sales\": 48.319999999999986, \"JP_Sales\": 48.86999999999997, \"Other_Sales\": 9.129999999999978, \"Global_Sales\": 200.98000000000013}, {\"Year\": \"1998\", \"Rank\": 2623490, \"NA_Sales\": 128.35999999999999, \"EU_Sales\": 66.70000000000012, \"JP_Sales\": 50.04, \"Other_Sales\": 11.02999999999994, \"Global_Sales\": 256.46999999999963}, {\"Year\": \"1999\", \"Rank\": 2187044, \"NA_Sales\": 125.61000000000004, \"EU_Sales\": 62.67000000000003, \"JP_Sales\": 52.34, \"Other_Sales\": 10.049999999999951, \"Global_Sales\": 251.27000000000018}, {\"Year\": \"2000\", \"Rank\": 2376372, \"NA_Sales\": 92.10000000000005, \"EU_Sales\": 52.75000000000003, \"JP_Sales\": 42.770000000000046, \"Other_Sales\": 11.619999999999937, \"Global_Sales\": 201.5600000000002}, {\"Year\": \"2001\", \"Rank\": 3386770, \"NA_Sales\": 173.7200000000004, \"EU_Sales\": 94.88999999999986, \"JP_Sales\": 40.06999999999999, \"Other_Sales\": 22.760000000000186, \"Global_Sales\": 331.4699999999991}, {\"Year\": \"2002\", \"Rank\": 6830188, \"NA_Sales\": 215.78000000000011, \"EU_Sales\": 109.09000000000034, \"JP_Sales\": 41.76000000000002, \"Other_Sales\": 27.280000000000253, \"Global_Sales\": 395.5199999999983}, {\"Year\": \"2003\", \"Rank\": 6110995, \"NA_Sales\": 192.97000000000062, \"EU_Sales\": 102.37000000000032, \"JP_Sales\": 34.43000000000002, \"Other_Sales\": 26.010000000000247, \"Global_Sales\": 357.8499999999989}, {\"Year\": \"2004\", \"Rank\": 5677266, \"NA_Sales\": 218.41000000000034, \"EU_Sales\": 105.92000000000036, \"JP_Sales\": 41.64999999999999, \"Other_Sales\": 47.23999999999984, \"Global_Sales\": 414.0099999999987}, {\"Year\": \"2005\", \"Rank\": 7680275, \"NA_Sales\": 241.5500000000005, \"EU_Sales\": 121.5600000000004, \"JP_Sales\": 54.28000000000001, \"Other_Sales\": 40.54999999999983, \"Global_Sales\": 458.50999999999766}, {\"Year\": \"2006\", \"Rank\": 9563593, \"NA_Sales\": 262.9299999999988, \"EU_Sales\": 128.46000000000018, \"JP_Sales\": 73.72999999999998, \"Other_Sales\": 54.429999999999836, \"Global_Sales\": 521.0399999999917}, {\"Year\": \"2007\", \"Rank\": 10331350, \"NA_Sales\": 310.4299999999983, \"EU_Sales\": 159.7499999999997, \"JP_Sales\": 60.21000000000011, \"Other_Sales\": 77.58000000000102, \"Global_Sales\": 609.8399999999934}, {\"Year\": \"2008\", \"Rank\": 12088007, \"NA_Sales\": 349.3999999999992, \"EU_Sales\": 183.7799999999998, \"JP_Sales\": 60.26000000000002, \"Other_Sales\": 82.39000000000141, \"Global_Sales\": 678.8999999999952}, {\"Year\": \"2009\", \"Rank\": 12420219, \"NA_Sales\": 338.67999999999887, \"EU_Sales\": 190.70999999999984, \"JP_Sales\": 61.88999999999998, \"Other_Sales\": 74.77000000000145, \"Global_Sales\": 667.2999999999947}, {\"Year\": \"2010\", \"Rank\": 11021245, \"NA_Sales\": 301.35999999999996, \"EU_Sales\": 175.40000000000018, \"JP_Sales\": 59.450000000000216, \"Other_Sales\": 59.89999999999995, \"Global_Sales\": 600.2499999999949}, {\"Year\": \"2011\", \"Rank\": 9977031, \"NA_Sales\": 240.2500000000009, \"EU_Sales\": 166.3600000000002, \"JP_Sales\": 53.040000000000084, \"Other_Sales\": 54.38999999999983, \"Global_Sales\": 515.7999999999972}, {\"Year\": \"2012\", \"Rank\": 5525585, \"NA_Sales\": 154.03000000000003, \"EU_Sales\": 117.46000000000002, \"JP_Sales\": 51.74000000000012, \"Other_Sales\": 37.82, \"Global_Sales\": 363.4899999999984}, {\"Year\": \"2013\", \"Rank\": 4398356, \"NA_Sales\": 154.7700000000001, \"EU_Sales\": 123.80000000000005, \"JP_Sales\": 47.59000000000005, \"Other_Sales\": 39.82000000000001, \"Global_Sales\": 368.10999999999865}, {\"Year\": \"2014\", \"Rank\": 4808736, \"NA_Sales\": 131.9700000000002, \"EU_Sales\": 125.1000000000001, \"JP_Sales\": 39.460000000000086, \"Other_Sales\": 40.02, \"Global_Sales\": 337.0299999999985}, {\"Year\": \"2015\", \"Rank\": 6015847, \"NA_Sales\": 102.37999999999992, \"EU_Sales\": 97.21000000000002, \"JP_Sales\": 33.72000000000013, \"Other_Sales\": 30.010000000000133, \"Global_Sales\": 264.43999999999795}, {\"Year\": \"2016\", \"Rank\": 3899499, \"NA_Sales\": 22.66000000000006, \"EU_Sales\": 26.760000000000066, \"JP_Sales\": 13.66999999999997, \"Other_Sales\": 7.749999999999982, \"Global_Sales\": 70.90000000000013}, {\"Year\": \"2017\", \"Rank\": 47078, \"NA_Sales\": 0.0, \"EU_Sales\": 0.0, \"JP_Sales\": 0.05, \"Other_Sales\": 0.0, \"Global_Sales\": 0.05}, {\"Year\": \"2020\", \"Rank\": 5959, \"NA_Sales\": 0.27, \"EU_Sales\": 0.0, \"JP_Sales\": 0.0, \"Other_Sales\": 0.02, \"Global_Sales\": 0.29}]}}, {\"mode\": \"vega-lite\"});\n",
       "</script>"
      ],
      "text/plain": [
       "alt.Chart(...)"
      ]
     },
     "execution_count": 14,
     "metadata": {},
     "output_type": "execute_result"
    }
   ],
   "source": [
    "vg_sales_mod = vg_sales.dropna(0)\n",
    "vg_sales_mod2 = vg_sales_mod.groupby('Year').sum().reset_index()\n",
    "alt.data_transformers.disable_max_rows()\n",
    "alt.Chart(vg_sales_mod2).mark_bar().encode(\n",
    "    x=alt.X('Year'),\n",
    "    y=alt.Y('Global_Sales') #sum sales\n",
    ")"
   ]
  },
  {
   "cell_type": "markdown",
   "id": "comparative-industry",
   "metadata": {},
   "source": [
    "--- \n",
    "## 1. Data Description"
   ]
  },
  {
   "cell_type": "markdown",
   "id": "hazardous-provision",
   "metadata": {},
   "source": [
    "The data are recorded number of sales in games from year 1980 through 2020 that had sold more than 100,000 copies."
   ]
  },
  {
   "cell_type": "markdown",
   "id": "everyday-belly",
   "metadata": {},
   "source": [
    "### Basic Information About Collection of Data"
   ]
  },
  {
   "cell_type": "markdown",
   "id": "younger-custom",
   "metadata": {},
   "source": [
    "The data was found online at https://www.kaggle.com/arslanali4343/sales-of-video-games. The intention for the collection of the data was for general purposes. Regarding the source of data, it is noted that the data values were web scraped off the website https://www.vgchartz.com/ using the python library Beautiful Soup, which is known to pull data from HTML or XML documents. The dataset is composed of popular games introduced to the game market since 1980 and the sampling mechanism was specifically framed around games that totalled up to more than 100,000 copies sold. Additionally, the scope of inference can be extended to games leaning more towards consoles (data is limited in that it does not contain the entirety of the Steam and other platforms) that are currently out for sale in the game market. "
   ]
  },
  {
   "cell_type": "markdown",
   "id": "surprised-hopkins",
   "metadata": {},
   "source": [
    "### Data Structure"
   ]
  },
  {
   "cell_type": "markdown",
   "id": "featured-substance",
   "metadata": {},
   "source": [
    "For this study, the observational units are popular games published between 1980 and 2017, with the variables consisting of the rank, Name, Platform, Year, Genre, Publisher, NA_Sales, EU_Sales, JP_Sales, Other_Sales, and the Global_Sales. Additional details regarding the variables can be found below."
   ]
  },
  {
   "cell_type": "markdown",
   "id": "russian-credit",
   "metadata": {},
   "source": [
    "<blockquote> \n",
    "<p>\n",
    "    <strong>Table 1</strong>: The variable description, data type, and the units of measurement for each variable are provided in the table below.\n",
    "</p>\n",
    "</blockquote>"
   ]
  },
  {
   "cell_type": "markdown",
   "id": "simple-dictionary",
   "metadata": {},
   "source": [
    "Name | Variable description | Type | Units of measurement\n",
    "---|---|---|---\n",
    "Rank | Ranking of Overall Sales | Ordinal | Rank Numbers\n",
    "Name | Name of The Game | Nominal | Game Names\n",
    "Platform | Platform of Game Release | Nominal | Game Platforms\n",
    "Year | Year of Game Release | Ordinal | Calendar Year\n",
    "Genre | Genre of The Game | Nominal | Game Genres\n",
    "Publisher | Publisher of The Game | Nominal | Game Companies\n",
    "NA_Sales | Total Sales in North America | Numeric | in Millions\n",
    "EU_Sales | Total Sales in Europe | Numeric | in Millions\n",
    "JP_Sales | Total Sales in Japan | Numeric | in Millions\n",
    "Other_Sales | Total Sales in Rest of the World | Numeric | in Millions\n",
    "Global_Sales | Total Sales Worldwide | Numeric | in Millions"
   ]
  },
  {
   "cell_type": "markdown",
   "id": "adaptive-amateur",
   "metadata": {},
   "source": [
    "### Preprocessing of Data"
   ]
  },
  {
   "cell_type": "markdown",
   "id": "chinese-acrylic",
   "metadata": {},
   "source": [
    "After doing some data exploration, it was seen that a substantial number of observations had missing values in them.    The exact number of missing numbers for each variable had can be found below. "
   ]
  },
  {
   "cell_type": "markdown",
   "id": "explicit-bailey",
   "metadata": {},
   "source": [
    "<blockquote> \n",
    "<p>\n",
    "    <strong>Table 2</strong>: Table shows the number of missing values in the observations by variable in the table below.\n",
    "</p>\n",
    "</blockquote>"
   ]
  },
  {
   "cell_type": "markdown",
   "id": "minus-trustee",
   "metadata": {},
   "source": [
    "Name | No of Missing Values \n",
    "---|---\n",
    "Rank | 0 \n",
    "Name | 0\n",
    "Platform | 0\n",
    "Year | 271 \n",
    "Genre | 0 \n",
    "Publisher | 58 \n",
    "NA_Sales | 0\n",
    "EU_Sales | 0\n",
    "JP_Sales | 0\n",
    "Other_Sales | 0\n",
    "Global_Sales | 2"
   ]
  },
  {
   "cell_type": "code",
   "execution_count": 55,
   "id": "eastern-improvement",
   "metadata": {},
   "outputs": [],
   "source": [
    "vg_sales.iloc[179,3]=2004\n",
    "vg_sales.iloc[377,3]=2004\n",
    "vg_sales.iloc[431,3]=2008\n",
    "vg_sales.iloc[470,3]=2006\n",
    "vg_sales.iloc[470,5]='THQ'\n",
    "vg_sales.iloc[607,3]=1980\n",
    "vg_sales.iloc[624,3]=2007\n",
    "vg_sales.iloc[649,3]=2001\n",
    "vg_sales.iloc[652,3]=2008\n",
    "vg_sales.iloc[711,3]=2006\n",
    "vg_sales.iloc[782,3]=2008"
   ]
  },
  {
   "cell_type": "markdown",
   "id": "toxic-professor",
   "metadata": {},
   "source": [
    "Upon exploration of the data, it was decided that it would be too dangerous/risky to plainly remove the observations with missing values as they might later be crucial for the subsequent analysis portion. For each observation that was ranked between 1 and 1000 -- signfying that they had greater sales and proved to be of greater importance; these observations had their missing values replaced with their actual values after searching online."
   ]
  },
  {
   "cell_type": "markdown",
   "id": "cooked-compression",
   "metadata": {},
   "source": [
    "---\n",
    "## 2. Methods"
   ]
  },
  {
   "cell_type": "markdown",
   "id": "basic-chicago",
   "metadata": {},
   "source": [
    "---\n",
    "## 3. Results"
   ]
  },
  {
   "cell_type": "code",
   "execution_count": 87,
   "id": "enormous-peoples",
   "metadata": {},
   "outputs": [],
   "source": [
    "# data_plot1 = vg_sales_mod.groupby(['Platform', 'Year']).sum().reset_index().drop('Rank', axis = 1)\n",
    "# alt.Chart(data_plot1).mark_line(point = True).encode(\n",
    "#     y = alt.Y('Global_Sales:Q', title = 'Total Global Sales'),\n",
    "#     x = alt.X('Year:Q', title = 'Year'),\n",
    "#     color = alt.Color('Platform', title = 'Console')\n",
    "# ).properties(\n",
    "#     width = 500,\n",
    "#     height = 500\n",
    "# ).mark_area(opacity = 0.5) #let's smooth this, also maybe do some density work, we could do mean estimates\n",
    "#                                                  # to do more comparisons"
   ]
  },
  {
   "cell_type": "code",
   "execution_count": 17,
   "id": "veterinary-nelson",
   "metadata": {},
   "outputs": [
    {
     "data": {
      "text/html": [
       "<div>\n",
       "<style scoped>\n",
       "    .dataframe tbody tr th:only-of-type {\n",
       "        vertical-align: middle;\n",
       "    }\n",
       "\n",
       "    .dataframe tbody tr th {\n",
       "        vertical-align: top;\n",
       "    }\n",
       "\n",
       "    .dataframe thead th {\n",
       "        text-align: right;\n",
       "    }\n",
       "</style>\n",
       "<table border=\"1\" class=\"dataframe\">\n",
       "  <thead>\n",
       "    <tr style=\"text-align: right;\">\n",
       "      <th></th>\n",
       "      <th>Rank</th>\n",
       "      <th>NA_Sales</th>\n",
       "      <th>EU_Sales</th>\n",
       "      <th>JP_Sales</th>\n",
       "      <th>Other_Sales</th>\n",
       "      <th>Global_Sales</th>\n",
       "    </tr>\n",
       "    <tr>\n",
       "      <th>Genre</th>\n",
       "      <th></th>\n",
       "      <th></th>\n",
       "      <th></th>\n",
       "      <th></th>\n",
       "      <th></th>\n",
       "      <th></th>\n",
       "    </tr>\n",
       "  </thead>\n",
       "  <tbody>\n",
       "    <tr>\n",
       "      <th>Action</th>\n",
       "      <td>26441383</td>\n",
       "      <td>875.45</td>\n",
       "      <td>521.68</td>\n",
       "      <td>159.95</td>\n",
       "      <td>187.38</td>\n",
       "      <td>1751.18</td>\n",
       "    </tr>\n",
       "    <tr>\n",
       "      <th>Sports</th>\n",
       "      <td>17419112</td>\n",
       "      <td>680.92</td>\n",
       "      <td>376.41</td>\n",
       "      <td>135.60</td>\n",
       "      <td>134.97</td>\n",
       "      <td>1330.93</td>\n",
       "    </tr>\n",
       "    <tr>\n",
       "      <th>Shooter</th>\n",
       "      <td>9653872</td>\n",
       "      <td>581.65</td>\n",
       "      <td>312.12</td>\n",
       "      <td>38.28</td>\n",
       "      <td>102.69</td>\n",
       "      <td>1037.37</td>\n",
       "    </tr>\n",
       "    <tr>\n",
       "      <th>Role-Playing</th>\n",
       "      <td>12032228</td>\n",
       "      <td>326.41</td>\n",
       "      <td>187.18</td>\n",
       "      <td>352.31</td>\n",
       "      <td>59.61</td>\n",
       "      <td>927.37</td>\n",
       "    </tr>\n",
       "    <tr>\n",
       "      <th>Platform</th>\n",
       "      <td>6137545</td>\n",
       "      <td>445.59</td>\n",
       "      <td>200.37</td>\n",
       "      <td>130.77</td>\n",
       "      <td>51.59</td>\n",
       "      <td>831.37</td>\n",
       "    </tr>\n",
       "  </tbody>\n",
       "</table>\n",
       "</div>"
      ],
      "text/plain": [
       "                  Rank  NA_Sales  EU_Sales  JP_Sales  Other_Sales  \\\n",
       "Genre                                                               \n",
       "Action        26441383    875.45    521.68    159.95       187.38   \n",
       "Sports        17419112    680.92    376.41    135.60       134.97   \n",
       "Shooter        9653872    581.65    312.12     38.28       102.69   \n",
       "Role-Playing  12032228    326.41    187.18    352.31        59.61   \n",
       "Platform       6137545    445.59    200.37    130.77        51.59   \n",
       "\n",
       "              Global_Sales  \n",
       "Genre                       \n",
       "Action             1751.18  \n",
       "Sports             1330.93  \n",
       "Shooter            1037.37  \n",
       "Role-Playing        927.37  \n",
       "Platform            831.37  "
      ]
     },
     "execution_count": 17,
     "metadata": {},
     "output_type": "execute_result"
    }
   ],
   "source": [
    "vg_sales.groupby('Genre').aggregate(sum).sort_values(by='Global_Sales', ascending=False).head(5)"
   ]
  },
  {
   "cell_type": "markdown",
   "id": "external-nursery",
   "metadata": {},
   "source": [
    "### Sales of Video Games by Genre Over Time ( Top 5 )"
   ]
  },
  {
   "cell_type": "markdown",
   "id": "several-partner",
   "metadata": {},
   "source": [
    "<blockquote> \n",
    "<p>\n",
    "    <strong>Figure 1</strong>: Plots show the changes in overall sales for the top 5 genres between 1980 and 2017.\n",
    "</p>\n",
    "</blockquote>"
   ]
  },
  {
   "cell_type": "code",
   "execution_count": 18,
   "id": "legislative-atlanta",
   "metadata": {},
   "outputs": [
    {
     "data": {
      "text/html": [
       "\n",
       "<div id=\"altair-viz-90aa5404457c4f659ba26b270a1ec328\"></div>\n",
       "<script type=\"text/javascript\">\n",
       "  (function(spec, embedOpt){\n",
       "    let outputDiv = document.currentScript.previousElementSibling;\n",
       "    if (outputDiv.id !== \"altair-viz-90aa5404457c4f659ba26b270a1ec328\") {\n",
       "      outputDiv = document.getElementById(\"altair-viz-90aa5404457c4f659ba26b270a1ec328\");\n",
       "    }\n",
       "    const paths = {\n",
       "      \"vega\": \"https://cdn.jsdelivr.net/npm//vega@5?noext\",\n",
       "      \"vega-lib\": \"https://cdn.jsdelivr.net/npm//vega-lib?noext\",\n",
       "      \"vega-lite\": \"https://cdn.jsdelivr.net/npm//vega-lite@4.8.1?noext\",\n",
       "      \"vega-embed\": \"https://cdn.jsdelivr.net/npm//vega-embed@6?noext\",\n",
       "    };\n",
       "\n",
       "    function loadScript(lib) {\n",
       "      return new Promise(function(resolve, reject) {\n",
       "        var s = document.createElement('script');\n",
       "        s.src = paths[lib];\n",
       "        s.async = true;\n",
       "        s.onload = () => resolve(paths[lib]);\n",
       "        s.onerror = () => reject(`Error loading script: ${paths[lib]}`);\n",
       "        document.getElementsByTagName(\"head\")[0].appendChild(s);\n",
       "      });\n",
       "    }\n",
       "\n",
       "    function showError(err) {\n",
       "      outputDiv.innerHTML = `<div class=\"error\" style=\"color:red;\">${err}</div>`;\n",
       "      throw err;\n",
       "    }\n",
       "\n",
       "    function displayChart(vegaEmbed) {\n",
       "      vegaEmbed(outputDiv, spec, embedOpt)\n",
       "        .catch(err => showError(`Javascript Error: ${err.message}<br>This usually means there's a typo in your chart specification. See the javascript console for the full traceback.`));\n",
       "    }\n",
       "\n",
       "    if(typeof define === \"function\" && define.amd) {\n",
       "      requirejs.config({paths});\n",
       "      require([\"vega-embed\"], displayChart, err => showError(`Error loading script: ${err.message}`));\n",
       "    } else if (typeof vegaEmbed === \"function\") {\n",
       "      displayChart(vegaEmbed);\n",
       "    } else {\n",
       "      loadScript(\"vega\")\n",
       "        .then(() => loadScript(\"vega-lite\"))\n",
       "        .then(() => loadScript(\"vega-embed\"))\n",
       "        .catch(showError)\n",
       "        .then(() => displayChart(vegaEmbed));\n",
       "    }\n",
       "  })({\"config\": {\"view\": {\"continuousWidth\": 400, \"continuousHeight\": 300}}, \"data\": {\"name\": \"data-8ad6c2f41c71f3ab1eda36ed6fbbd68c\"}, \"facet\": {\"type\": \"nominal\", \"field\": \"Genre\"}, \"spec\": {\"mark\": {\"type\": \"area\", \"opacity\": 0.5}, \"encoding\": {\"color\": {\"type\": \"nominal\", \"field\": \"Genre\"}, \"x\": {\"type\": \"nominal\", \"axis\": {\"labels\": false, \"ticks\": false}, \"field\": \"Year\"}, \"y\": {\"type\": \"quantitative\", \"field\": \"Global_Sales\"}}, \"width\": 150}, \"$schema\": \"https://vega.github.io/schema/vega-lite/v4.8.1.json\", \"datasets\": {\"data-8ad6c2f41c71f3ab1eda36ed6fbbd68c\": [{\"Genre\": \"Action\", \"Year\": \"1980\", \"Rank\": 5368, \"NA_Sales\": 0.32, \"EU_Sales\": 0.02, \"JP_Sales\": 0.0, \"Other_Sales\": 0.0, \"Global_Sales\": 0.34}, {\"Genre\": \"Action\", \"Year\": \"1981\", \"Rank\": 111447, \"NA_Sales\": 13.510000000000005, \"EU_Sales\": 0.8100000000000002, \"JP_Sales\": 0.0, \"Other_Sales\": 0.11999999999999998, \"Global_Sales\": 14.84}, {\"Genre\": \"Action\", \"Year\": \"1982\", \"Rank\": 102009, \"NA_Sales\": 6.069999999999999, \"EU_Sales\": 0.38000000000000006, \"JP_Sales\": 0.0, \"Other_Sales\": 0.05, \"Global_Sales\": 6.52}, {\"Genre\": \"Action\", \"Year\": \"1983\", \"Rank\": 36311, \"NA_Sales\": 2.67, \"EU_Sales\": 0.17, \"JP_Sales\": 0.0, \"Other_Sales\": 0.02, \"Global_Sales\": 2.86}, {\"Genre\": \"Action\", \"Year\": \"1984\", \"Rank\": 940, \"NA_Sales\": 0.8, \"EU_Sales\": 0.19, \"JP_Sales\": 0.83, \"Other_Sales\": 0.03, \"Global_Sales\": 1.85}, {\"Genre\": \"Action\", \"Year\": \"1985\", \"Rank\": 16245, \"NA_Sales\": 1.64, \"EU_Sales\": 0.38, \"JP_Sales\": 1.44, \"Other_Sales\": 0.06, \"Global_Sales\": 3.52}, {\"Genre\": \"Action\", \"Year\": \"1986\", \"Rank\": 8897, \"NA_Sales\": 6.5200000000000005, \"EU_Sales\": 1.66, \"JP_Sales\": 5.3100000000000005, \"Other_Sales\": 0.25, \"Global_Sales\": 13.740000000000002}, {\"Genre\": \"Action\", \"Year\": \"1987\", \"Rank\": 7316, \"NA_Sales\": 1.04, \"EU_Sales\": 0.06, \"JP_Sales\": 0.0, \"Other_Sales\": 0.01, \"Global_Sales\": 1.12}, {\"Genre\": \"Action\", \"Year\": \"1988\", \"Rank\": 8189, \"NA_Sales\": 1.1500000000000001, \"EU_Sales\": 0.16, \"JP_Sales\": 0.42, \"Other_Sales\": 0.01, \"Global_Sales\": 1.75}, {\"Genre\": \"Action\", \"Year\": \"1989\", \"Rank\": 4426, \"NA_Sales\": 3.83, \"EU_Sales\": 0.46, \"JP_Sales\": 0.31, \"Other_Sales\": 0.05, \"Global_Sales\": 4.64}, {\"Genre\": \"Action\", \"Year\": \"1990\", \"Rank\": 2505, \"NA_Sales\": 4.2700000000000005, \"EU_Sales\": 0.9700000000000001, \"JP_Sales\": 1.01, \"Other_Sales\": 0.14, \"Global_Sales\": 6.390000000000001}, {\"Genre\": \"Action\", \"Year\": \"1991\", \"Rank\": 25052, \"NA_Sales\": 3.4699999999999998, \"EU_Sales\": 1.08, \"JP_Sales\": 2.0599999999999996, \"Other_Sales\": 0.15, \"Global_Sales\": 6.76}, {\"Genre\": \"Action\", \"Year\": \"1992\", \"Rank\": 319, \"NA_Sales\": 2.21, \"EU_Sales\": 0.96, \"JP_Sales\": 0.54, \"Other_Sales\": 0.13, \"Global_Sales\": 3.83}, {\"Genre\": \"Action\", \"Year\": \"1993\", \"Rank\": 50955, \"NA_Sales\": 0.64, \"EU_Sales\": 0.22, \"JP_Sales\": 0.9200000000000002, \"Other_Sales\": 0.03, \"Global_Sales\": 1.81}, {\"Genre\": \"Action\", \"Year\": \"1994\", \"Rank\": 42811, \"NA_Sales\": 0.57, \"EU_Sales\": 0.12, \"JP_Sales\": 0.8400000000000001, \"Other_Sales\": 0.02, \"Global_Sales\": 1.55}, {\"Genre\": \"Action\", \"Year\": \"1995\", \"Rank\": 50751, \"NA_Sales\": 1.7300000000000002, \"EU_Sales\": 0.26, \"JP_Sales\": 1.2599999999999998, \"Other_Sales\": 0.14, \"Global_Sales\": 3.5700000000000007}, {\"Genre\": \"Action\", \"Year\": \"1996\", \"Rank\": 136730, \"NA_Sales\": 10.65, \"EU_Sales\": 5.879999999999998, \"JP_Sales\": 2.62, \"Other_Sales\": 1.4500000000000002, \"Global_Sales\": 20.580000000000005}, {\"Genre\": \"Action\", \"Year\": \"1997\", \"Rank\": 202456, \"NA_Sales\": 14.4, \"EU_Sales\": 9.859999999999996, \"JP_Sales\": 1.9000000000000001, \"Other_Sales\": 1.4300000000000004, \"Global_Sales\": 27.580000000000002}, {\"Genre\": \"Action\", \"Year\": \"1998\", \"Rank\": 306435, \"NA_Sales\": 20.149999999999995, \"EU_Sales\": 11.899999999999999, \"JP_Sales\": 5.549999999999999, \"Other_Sales\": 1.8100000000000007, \"Global_Sales\": 39.440000000000005}, {\"Genre\": \"Action\", \"Year\": \"1999\", \"Rank\": 258790, \"NA_Sales\": 14.909999999999997, \"EU_Sales\": 8.679999999999996, \"JP_Sales\": 2.9, \"Other_Sales\": 1.2400000000000004, \"Global_Sales\": 27.77999999999999}, {\"Genre\": \"Action\", \"Year\": \"2000\", \"Rank\": 261494, \"NA_Sales\": 17.79000000000001, \"EU_Sales\": 10.840000000000002, \"JP_Sales\": 3.7399999999999993, \"Other_Sales\": 1.6100000000000005, \"Global_Sales\": 34.04000000000002}, {\"Genre\": \"Action\", \"Year\": \"2001\", \"Rank\": 475980, \"NA_Sales\": 29.550000000000004, \"EU_Sales\": 19.250000000000018, \"JP_Sales\": 5.989999999999999, \"Other_Sales\": 4.329999999999994, \"Global_Sales\": 59.39000000000001}, {\"Genre\": \"Action\", \"Year\": \"2002\", \"Rank\": 933236, \"NA_Sales\": 47.40000000000002, \"EU_Sales\": 27.010000000000023, \"JP_Sales\": 5.099999999999999, \"Other_Sales\": 6.7299999999999915, \"Global_Sales\": 86.76999999999992}, {\"Genre\": \"Action\", \"Year\": \"2003\", \"Rank\": 1117416, \"NA_Sales\": 37.74000000000002, \"EU_Sales\": 20.88000000000003, \"JP_Sales\": 4.19, \"Other_Sales\": 5.169999999999989, \"Global_Sales\": 67.92999999999999}, {\"Genre\": \"Action\", \"Year\": \"2004\", \"Rank\": 943120, \"NA_Sales\": 39.08000000000002, \"EU_Sales\": 16.029999999999976, \"JP_Sales\": 4.82, \"Other_Sales\": 16.220000000000013, \"Global_Sales\": 76.25999999999998}, {\"Genre\": \"Action\", \"Year\": \"2005\", \"Rank\": 1479818, \"NA_Sales\": 49.59000000000001, \"EU_Sales\": 21.95000000000003, \"JP_Sales\": 6.319999999999999, \"Other_Sales\": 7.629999999999982, \"Global_Sales\": 85.69000000000005}, {\"Genre\": \"Action\", \"Year\": \"2006\", \"Rank\": 1747340, \"NA_Sales\": 38.369999999999976, \"EU_Sales\": 14.92999999999997, \"JP_Sales\": 5.769999999999996, \"Other_Sales\": 7.059999999999985, \"Global_Sales\": 66.58}, {\"Genre\": \"Action\", \"Year\": \"2007\", \"Rank\": 1550052, \"NA_Sales\": 58.799999999999976, \"EU_Sales\": 25.430000000000046, \"JP_Sales\": 6.129999999999997, \"Other_Sales\": 15.39999999999997, \"Global_Sales\": 106.50000000000006}, {\"Genre\": \"Action\", \"Year\": \"2008\", \"Rank\": 1610396, \"NA_Sales\": 72.39, \"EU_Sales\": 39.490000000000016, \"JP_Sales\": 5.999999999999996, \"Other_Sales\": 18.550000000000075, \"Global_Sales\": 136.39}, {\"Genre\": \"Action\", \"Year\": \"2009\", \"Rank\": 2081261, \"NA_Sales\": 71.60999999999997, \"EU_Sales\": 39.200000000000045, \"JP_Sales\": 11.959999999999988, \"Other_Sales\": 16.67000000000005, \"Global_Sales\": 139.3600000000001}, {\"Genre\": \"Action\", \"Year\": \"2010\", \"Rank\": 1617111, \"NA_Sales\": 59.57000000000002, \"EU_Sales\": 35.19000000000005, \"JP_Sales\": 8.579999999999997, \"Other_Sales\": 12.849999999999962, \"Global_Sales\": 117.63999999999997}, {\"Genre\": \"Action\", \"Year\": \"2011\", \"Rank\": 1847572, \"NA_Sales\": 53.73, \"EU_Sales\": 41.040000000000006, \"JP_Sales\": 10.819999999999995, \"Other_Sales\": 13.40999999999996, \"Global_Sales\": 118.96000000000001}, {\"Genre\": \"Action\", \"Year\": \"2012\", \"Rank\": 2274149, \"NA_Sales\": 52.030000000000015, \"EU_Sales\": 41.88000000000006, \"JP_Sales\": 12.29999999999997, \"Other_Sales\": 14.359999999999982, \"Global_Sales\": 122.03999999999988}, {\"Genre\": \"Action\", \"Year\": \"2013\", \"Rank\": 1109878, \"NA_Sales\": 53.790000000000006, \"EU_Sales\": 44.86000000000004, \"JP_Sales\": 10.879999999999994, \"Other_Sales\": 15.329999999999982, \"Global_Sales\": 125.22}, {\"Genre\": \"Action\", \"Year\": \"2014\", \"Rank\": 1456173, \"NA_Sales\": 38.730000000000025, \"EU_Sales\": 39.95000000000002, \"JP_Sales\": 6.499999999999994, \"Other_Sales\": 13.299999999999972, \"Global_Sales\": 99.02000000000008}, {\"Genre\": \"Action\", \"Year\": \"2015\", \"Rank\": 2706253, \"NA_Sales\": 22.830000000000016, \"EU_Sales\": 24.650000000000027, \"JP_Sales\": 15.849999999999977, \"Other_Sales\": 7.329999999999981, \"Global_Sales\": 70.69999999999996}, {\"Genre\": \"Action\", \"Year\": \"2016\", \"Rank\": 1380834, \"NA_Sales\": 5.869999999999992, \"EU_Sales\": 6.359999999999994, \"JP_Sales\": 5.789999999999992, \"Other_Sales\": 1.8300000000000007, \"Global_Sales\": 19.910000000000025}, {\"Genre\": \"Action\", \"Year\": \"2017\", \"Rank\": 16441, \"NA_Sales\": 0.0, \"EU_Sales\": 0.0, \"JP_Sales\": 0.01, \"Other_Sales\": 0.0, \"Global_Sales\": 0.01}, {\"Genre\": \"Platform\", \"Year\": \"1981\", \"Rank\": 3693, \"NA_Sales\": 6.470000000000001, \"EU_Sales\": 0.37, \"JP_Sales\": 0.0, \"Other_Sales\": 0.08, \"Global_Sales\": 6.93}, {\"Genre\": \"Platform\", \"Year\": \"1982\", \"Rank\": 11520, \"NA_Sales\": 4.6899999999999995, \"EU_Sales\": 0.28, \"JP_Sales\": 0.0, \"Other_Sales\": 0.060000000000000005, \"Global_Sales\": 5.03}, {\"Genre\": \"Platform\", \"Year\": \"1983\", \"Rank\": 7727, \"NA_Sales\": 2.8, \"EU_Sales\": 0.43, \"JP_Sales\": 3.62, \"Other_Sales\": 0.08, \"Global_Sales\": 6.93}, {\"Genre\": \"Platform\", \"Year\": \"1984\", \"Rank\": 2957, \"NA_Sales\": 0.0, \"EU_Sales\": 0.0, \"JP_Sales\": 0.69, \"Other_Sales\": 0.0, \"Global_Sales\": 0.69}, {\"Genre\": \"Platform\", \"Year\": \"1985\", \"Rank\": 7434, \"NA_Sales\": 29.47, \"EU_Sales\": 3.77, \"JP_Sales\": 8.67, \"Other_Sales\": 0.8, \"Global_Sales\": 43.17}, {\"Genre\": \"Platform\", \"Year\": \"1986\", \"Rank\": 8108, \"NA_Sales\": 1.07, \"EU_Sales\": 0.18, \"JP_Sales\": 8.110000000000001, \"Other_Sales\": 0.03, \"Global_Sales\": 9.39}, {\"Genre\": \"Platform\", \"Year\": \"1987\", \"Rank\": 4785, \"NA_Sales\": 0.9, \"EU_Sales\": 0.14, \"JP_Sales\": 0.69, \"Other_Sales\": 0.01, \"Global_Sales\": 1.7400000000000002}, {\"Genre\": \"Platform\", \"Year\": \"1988\", \"Rank\": 2661, \"NA_Sales\": 16.34, \"EU_Sales\": 4.99, \"JP_Sales\": 5.699999999999999, \"Other_Sales\": 0.7000000000000001, \"Global_Sales\": 27.73}, {\"Genre\": \"Platform\", \"Year\": \"1989\", \"Rank\": 3554, \"NA_Sales\": 12.14, \"EU_Sales\": 3.0799999999999996, \"JP_Sales\": 4.97, \"Other_Sales\": 0.47, \"Global_Sales\": 20.660000000000004}, {\"Genre\": \"Platform\", \"Year\": \"1990\", \"Rank\": 3444, \"NA_Sales\": 14.139999999999999, \"EU_Sales\": 3.99, \"JP_Sales\": 4.28, \"Other_Sales\": 0.5700000000000001, \"Global_Sales\": 22.97}, {\"Genre\": \"Platform\", \"Year\": \"1991\", \"Rank\": 19737, \"NA_Sales\": 4.36, \"EU_Sales\": 1.1900000000000002, \"JP_Sales\": 1.9100000000000001, \"Other_Sales\": 0.17, \"Global_Sales\": 7.64}, {\"Genre\": \"Platform\", \"Year\": \"1992\", \"Rank\": 25321, \"NA_Sales\": 8.23, \"EU_Sales\": 2.05, \"JP_Sales\": 2.79, \"Other_Sales\": 0.33999999999999997, \"Global_Sales\": 13.42}, {\"Genre\": \"Platform\", \"Year\": \"1993\", \"Rank\": 48182, \"NA_Sales\": 8.659999999999998, \"EU_Sales\": 3.1599999999999997, \"JP_Sales\": 5.209999999999999, \"Other_Sales\": 0.6500000000000001, \"Global_Sales\": 18.669999999999998}, {\"Genre\": \"Platform\", \"Year\": \"1994\", \"Rank\": 35748, \"NA_Sales\": 14.88, \"EU_Sales\": 5.7299999999999995, \"JP_Sales\": 7.020000000000001, \"Other_Sales\": 1.1300000000000001, \"Global_Sales\": 28.740000000000002}, {\"Genre\": \"Platform\", \"Year\": \"1995\", \"Rank\": 87110, \"NA_Sales\": 6.610000000000001, \"EU_Sales\": 3.2199999999999998, \"JP_Sales\": 6.3599999999999985, \"Other_Sales\": 0.5, \"Global_Sales\": 16.689999999999998}, {\"Genre\": \"Platform\", \"Year\": \"1996\", \"Rank\": 81078, \"NA_Sales\": 13.809999999999999, \"EU_Sales\": 6.830000000000001, \"JP_Sales\": 6.76, \"Other_Sales\": 0.8300000000000001, \"Global_Sales\": 28.23}, {\"Genre\": \"Platform\", \"Year\": \"1997\", \"Rank\": 104733, \"NA_Sales\": 10.809999999999999, \"EU_Sales\": 6.449999999999998, \"JP_Sales\": 3.71, \"Other_Sales\": 0.8900000000000001, \"Global_Sales\": 21.849999999999998}, {\"Genre\": \"Platform\", \"Year\": \"1998\", \"Rank\": 135045, \"NA_Sales\": 17.05, \"EU_Sales\": 8.189999999999998, \"JP_Sales\": 3.29, \"Other_Sales\": 1.3000000000000003, \"Global_Sales\": 29.879999999999992}, {\"Genre\": \"Platform\", \"Year\": \"1999\", \"Rank\": 88824, \"NA_Sales\": 13.000000000000004, \"EU_Sales\": 5.339999999999998, \"JP_Sales\": 1.6600000000000001, \"Other_Sales\": 0.8000000000000003, \"Global_Sales\": 20.82}, {\"Genre\": \"Platform\", \"Year\": \"2000\", \"Rank\": 159003, \"NA_Sales\": 7.87, \"EU_Sales\": 4.64, \"JP_Sales\": 2.56, \"Other_Sales\": 0.9800000000000004, \"Global_Sales\": 16.06}, {\"Genre\": \"Platform\", \"Year\": \"2001\", \"Rank\": 295847, \"NA_Sales\": 21.609999999999996, \"EU_Sales\": 11.62, \"JP_Sales\": 3.5399999999999996, \"Other_Sales\": 2.5599999999999974, \"Global_Sales\": 39.28}, {\"Genre\": \"Platform\", \"Year\": \"2002\", \"Rank\": 551438, \"NA_Sales\": 26.729999999999993, \"EU_Sales\": 11.649999999999997, \"JP_Sales\": 4.5200000000000005, \"Other_Sales\": 2.3999999999999972, \"Global_Sales\": 45.970000000000006}, {\"Genre\": \"Platform\", \"Year\": \"2003\", \"Rank\": 683540, \"NA_Sales\": 25.310000000000002, \"EU_Sales\": 12.499999999999986, \"JP_Sales\": 2.2199999999999998, \"Other_Sales\": 2.789999999999995, \"Global_Sales\": 42.89}, {\"Genre\": \"Platform\", \"Year\": \"2004\", \"Rank\": 401365, \"NA_Sales\": 26.350000000000012, \"EU_Sales\": 12.04999999999999, \"JP_Sales\": 6.110000000000001, \"Other_Sales\": 2.8299999999999956, \"Global_Sales\": 47.34000000000001}, {\"Genre\": \"Platform\", \"Year\": \"2005\", \"Rank\": 734300, \"NA_Sales\": 15.579999999999997, \"EU_Sales\": 5.3799999999999955, \"JP_Sales\": 1.12, \"Other_Sales\": 1.4300000000000004, \"Global_Sales\": 23.56}, {\"Genre\": \"Platform\", \"Year\": \"2006\", \"Rank\": 454982, \"NA_Sales\": 23.320000000000014, \"EU_Sales\": 11.969999999999992, \"JP_Sales\": 9.209999999999999, \"Other_Sales\": 5.199999999999996, \"Global_Sales\": 49.800000000000004}, {\"Genre\": \"Platform\", \"Year\": \"2007\", \"Rank\": 319463, \"NA_Sales\": 19.019999999999996, \"EU_Sales\": 9.769999999999992, \"JP_Sales\": 2.9799999999999995, \"Other_Sales\": 3.7599999999999985, \"Global_Sales\": 35.59}, {\"Genre\": \"Platform\", \"Year\": \"2008\", \"Rank\": 419943, \"NA_Sales\": 17.569999999999993, \"EU_Sales\": 10.780000000000001, \"JP_Sales\": 2.359999999999999, \"Other_Sales\": 4.939999999999997, \"Global_Sales\": 35.70000000000002}, {\"Genre\": \"Platform\", \"Year\": \"2009\", \"Rank\": 217314, \"NA_Sales\": 20.270000000000003, \"EU_Sales\": 11.579999999999998, \"JP_Sales\": 4.84, \"Other_Sales\": 4.3699999999999966, \"Global_Sales\": 41.09000000000001}, {\"Genre\": \"Platform\", \"Year\": \"2010\", \"Rank\": 200963, \"NA_Sales\": 17.160000000000004, \"EU_Sales\": 7.939999999999997, \"JP_Sales\": 3.679999999999999, \"Other_Sales\": 2.5899999999999976, \"Global_Sales\": 31.900000000000002}, {\"Genre\": \"Platform\", \"Year\": \"2011\", \"Rank\": 291639, \"NA_Sales\": 13.059999999999999, \"EU_Sales\": 8.859999999999998, \"JP_Sales\": 3.4899999999999993, \"Other_Sales\": 2.7099999999999973, \"Global_Sales\": 28.109999999999992}, {\"Genre\": \"Platform\", \"Year\": \"2012\", \"Rank\": 89675, \"NA_Sales\": 7.32, \"EU_Sales\": 5.879999999999999, \"JP_Sales\": 3.8400000000000003, \"Other_Sales\": 1.5200000000000002, \"Global_Sales\": 18.549999999999997}, {\"Genre\": \"Platform\", \"Year\": \"2013\", \"Rank\": 236077, \"NA_Sales\": 11.619999999999994, \"EU_Sales\": 9.089999999999998, \"JP_Sales\": 2.0799999999999996, \"Other_Sales\": 2.299999999999999, \"Global_Sales\": 25.12}, {\"Genre\": \"Platform\", \"Year\": \"2014\", \"Rank\": 54643, \"NA_Sales\": 3.02, \"EU_Sales\": 3.6300000000000003, \"JP_Sales\": 1.26, \"Other_Sales\": 0.9600000000000001, \"Global_Sales\": 8.89}, {\"Genre\": \"Platform\", \"Year\": \"2015\", \"Rank\": 134542, \"NA_Sales\": 2.499999999999999, \"EU_Sales\": 1.8100000000000003, \"JP_Sales\": 1.2900000000000003, \"Other_Sales\": 0.45000000000000007, \"Global_Sales\": 6.050000000000002}, {\"Genre\": \"Platform\", \"Year\": \"2016\", \"Rank\": 108603, \"NA_Sales\": 0.79, \"EU_Sales\": 0.8700000000000001, \"JP_Sales\": 0.11, \"Other_Sales\": 0.31000000000000005, \"Global_Sales\": 2.0699999999999994}, {\"Genre\": \"Role-Playing\", \"Year\": \"1986\", \"Rank\": 612, \"NA_Sales\": 0.49, \"EU_Sales\": 0.0, \"JP_Sales\": 0.52, \"Other_Sales\": 1.51, \"Global_Sales\": 2.52}, {\"Genre\": \"Role-Playing\", \"Year\": \"1987\", \"Rank\": 4661, \"NA_Sales\": 0.47, \"EU_Sales\": 0.0, \"JP_Sales\": 4.18, \"Other_Sales\": 0.0, \"Global_Sales\": 4.65}, {\"Genre\": \"Role-Playing\", \"Year\": \"1988\", \"Rank\": 4608, \"NA_Sales\": 0.1, \"EU_Sales\": 0.0, \"JP_Sales\": 5.779999999999999, \"Other_Sales\": 0.0, \"Global_Sales\": 5.88}, {\"Genre\": \"Role-Playing\", \"Year\": \"1989\", \"Rank\": 3721, \"NA_Sales\": 0.0, \"EU_Sales\": 0.0, \"JP_Sales\": 2.2, \"Other_Sales\": 0.0, \"Global_Sales\": 2.2}, {\"Genre\": \"Role-Playing\", \"Year\": \"1990\", \"Rank\": 1834, \"NA_Sales\": 0.08, \"EU_Sales\": 0.0, \"JP_Sales\": 4.42, \"Other_Sales\": 0.02, \"Global_Sales\": 4.52}, {\"Genre\": \"Role-Playing\", \"Year\": \"1991\", \"Rank\": 27824, \"NA_Sales\": 0.24, \"EU_Sales\": 0.09, \"JP_Sales\": 2.8099999999999996, \"Other_Sales\": 0.12, \"Global_Sales\": 3.25}, {\"Genre\": \"Role-Playing\", \"Year\": \"1992\", \"Rank\": 18853, \"NA_Sales\": 0.0, \"EU_Sales\": 0.0, \"JP_Sales\": 6.83, \"Other_Sales\": 0.03, \"Global_Sales\": 6.86}, {\"Genre\": \"Role-Playing\", \"Year\": \"1993\", \"Rank\": 58819, \"NA_Sales\": 0.25, \"EU_Sales\": 0.07, \"JP_Sales\": 5.25, \"Other_Sales\": 0.02, \"Global_Sales\": 5.590000000000001}, {\"Genre\": \"Role-Playing\", \"Year\": \"1994\", \"Rank\": 143425, \"NA_Sales\": 0.86, \"EU_Sales\": 0.0, \"JP_Sales\": 6.23, \"Other_Sales\": 0.04, \"Global_Sales\": 7.110000000000001}, {\"Genre\": \"Role-Playing\", \"Year\": \"1995\", \"Rank\": 144686, \"NA_Sales\": 0.71, \"EU_Sales\": 0.30000000000000004, \"JP_Sales\": 13.09, \"Other_Sales\": 0.17000000000000004, \"Global_Sales\": 14.260000000000002}, {\"Genre\": \"Role-Playing\", \"Year\": \"1996\", \"Rank\": 181244, \"NA_Sales\": 12.78, \"EU_Sales\": 11.04, \"JP_Sales\": 18.779999999999998, \"Other_Sales\": 1.3900000000000003, \"Global_Sales\": 43.96}, {\"Genre\": \"Role-Playing\", \"Year\": \"1997\", \"Rank\": 123332, \"NA_Sales\": 5.3100000000000005, \"EU_Sales\": 3.4399999999999995, \"JP_Sales\": 11.560000000000002, \"Other_Sales\": 1.5100000000000005, \"Global_Sales\": 21.79}, {\"Genre\": \"Role-Playing\", \"Year\": \"1998\", \"Rank\": 174480, \"NA_Sales\": 9.16, \"EU_Sales\": 6.439999999999999, \"JP_Sales\": 11.33, \"Other_Sales\": 1.1600000000000004, \"Global_Sales\": 28.090000000000007}, {\"Genre\": \"Role-Playing\", \"Year\": \"1999\", \"Rank\": 167779, \"NA_Sales\": 16.839999999999996, \"EU_Sales\": 11.170000000000002, \"JP_Sales\": 18.700000000000003, \"Other_Sales\": 1.9300000000000008, \"Global_Sales\": 49.089999999999996}, {\"Genre\": \"Role-Playing\", \"Year\": \"2000\", \"Rank\": 165095, \"NA_Sales\": 7.2, \"EU_Sales\": 4.200000000000001, \"JP_Sales\": 15.799999999999999, \"Other_Sales\": 1.8400000000000003, \"Global_Sales\": 29.029999999999998}, {\"Genre\": \"Role-Playing\", \"Year\": \"2001\", \"Rank\": 327994, \"NA_Sales\": 7.459999999999998, \"EU_Sales\": 4.139999999999999, \"JP_Sales\": 9.549999999999995, \"Other_Sales\": 0.8700000000000003, \"Global_Sales\": 22.06000000000001}, {\"Genre\": \"Role-Playing\", \"Year\": \"2002\", \"Rank\": 422903, \"NA_Sales\": 20.430000000000003, \"EU_Sales\": 9.389999999999995, \"JP_Sales\": 13.639999999999999, \"Other_Sales\": 1.6800000000000006, \"Global_Sales\": 45.12999999999999}, {\"Genre\": \"Role-Playing\", \"Year\": \"2003\", \"Rank\": 329305, \"NA_Sales\": 13.799999999999997, \"EU_Sales\": 5.6999999999999975, \"JP_Sales\": 9.629999999999999, \"Other_Sales\": 1.1600000000000004, \"Global_Sales\": 30.279999999999983}, {\"Genre\": \"Role-Playing\", \"Year\": \"2004\", \"Rank\": 420047, \"NA_Sales\": 21.55000000000001, \"EU_Sales\": 16.730000000000008, \"JP_Sales\": 13.489999999999998, \"Other_Sales\": 2.179999999999999, \"Global_Sales\": 53.949999999999996}, {\"Genre\": \"Role-Playing\", \"Year\": \"2005\", \"Rank\": 603466, \"NA_Sales\": 12.259999999999998, \"EU_Sales\": 4.959999999999994, \"JP_Sales\": 9.219999999999999, \"Other_Sales\": 2.069999999999999, \"Global_Sales\": 28.549999999999983}, {\"Genre\": \"Role-Playing\", \"Year\": \"2006\", \"Rank\": 1000938, \"NA_Sales\": 24.380000000000006, \"EU_Sales\": 8.119999999999996, \"JP_Sales\": 19.830000000000016, \"Other_Sales\": 5.4399999999999915, \"Global_Sales\": 57.730000000000004}, {\"Genre\": \"Role-Playing\", \"Year\": \"2007\", \"Rank\": 940303, \"NA_Sales\": 19.800000000000008, \"EU_Sales\": 8.369999999999994, \"JP_Sales\": 12.429999999999994, \"Other_Sales\": 3.2599999999999945, \"Global_Sales\": 43.89000000000003}, {\"Genre\": \"Role-Playing\", \"Year\": \"2008\", \"Rank\": 923361, \"NA_Sales\": 25.24999999999999, \"EU_Sales\": 11.29999999999999, \"JP_Sales\": 17.510000000000005, \"Other_Sales\": 5.629999999999988, \"Global_Sales\": 59.83000000000005}, {\"Genre\": \"Role-Playing\", \"Year\": \"2009\", \"Rank\": 894419, \"NA_Sales\": 19.060000000000002, \"EU_Sales\": 7.479999999999997, \"JP_Sales\": 17.070000000000007, \"Other_Sales\": 3.4699999999999944, \"Global_Sales\": 47.900000000000006}, {\"Genre\": \"Role-Playing\", \"Year\": \"2010\", \"Rank\": 830751, \"NA_Sales\": 28.54999999999999, \"EU_Sales\": 13.69999999999999, \"JP_Sales\": 23.669999999999995, \"Other_Sales\": 4.639999999999993, \"Global_Sales\": 70.51999999999997}, {\"Genre\": \"Role-Playing\", \"Year\": \"2011\", \"Rank\": 795359, \"NA_Sales\": 19.78, \"EU_Sales\": 14.099999999999996, \"JP_Sales\": 14.429999999999989, \"Other_Sales\": 5.009999999999995, \"Global_Sales\": 53.37000000000002}, {\"Genre\": \"Role-Playing\", \"Year\": \"2012\", \"Rank\": 605829, \"NA_Sales\": 17.429999999999996, \"EU_Sales\": 11.969999999999997, \"JP_Sales\": 14.389999999999995, \"Other_Sales\": 3.559999999999998, \"Global_Sales\": 47.81000000000002}, {\"Genre\": \"Role-Playing\", \"Year\": \"2013\", \"Rank\": 568953, \"NA_Sales\": 13.090000000000003, \"EU_Sales\": 8.94, \"JP_Sales\": 19.86, \"Other_Sales\": 2.9999999999999982, \"Global_Sales\": 44.920000000000016}, {\"Genre\": \"Role-Playing\", \"Year\": \"2014\", \"Rank\": 809058, \"NA_Sales\": 13.56, \"EU_Sales\": 11.239999999999993, \"JP_Sales\": 17.709999999999997, \"Other_Sales\": 3.3799999999999963, \"Global_Sales\": 45.859999999999985}, {\"Genre\": \"Role-Playing\", \"Year\": \"2015\", \"Rank\": 706714, \"NA_Sales\": 13.34999999999999, \"EU_Sales\": 12.519999999999996, \"JP_Sales\": 6.709999999999998, \"Other_Sales\": 3.849999999999998, \"Global_Sales\": 36.439999999999976}, {\"Genre\": \"Role-Playing\", \"Year\": \"2016\", \"Rank\": 425798, \"NA_Sales\": 1.3900000000000001, \"EU_Sales\": 1.2900000000000003, \"JP_Sales\": 3.629999999999999, \"Other_Sales\": 0.4400000000000001, \"Global_Sales\": 6.759999999999995}, {\"Genre\": \"Role-Playing\", \"Year\": \"2017\", \"Rank\": 30637, \"NA_Sales\": 0.0, \"EU_Sales\": 0.0, \"JP_Sales\": 0.04, \"Other_Sales\": 0.0, \"Global_Sales\": 0.04}, {\"Genre\": \"Shooter\", \"Year\": \"1980\", \"Rank\": 804, \"NA_Sales\": 6.5600000000000005, \"EU_Sales\": 0.43000000000000005, \"JP_Sales\": 0.0, \"Other_Sales\": 0.08, \"Global_Sales\": 7.069999999999999}, {\"Genre\": \"Shooter\", \"Year\": \"1981\", \"Rank\": 31031, \"NA_Sales\": 9.370000000000003, \"EU_Sales\": 0.56, \"JP_Sales\": 0.0, \"Other_Sales\": 0.09, \"Global_Sales\": 10.040000000000001}, {\"Genre\": \"Shooter\", \"Year\": \"1982\", \"Rank\": 14330, \"NA_Sales\": 3.55, \"EU_Sales\": 0.21000000000000002, \"JP_Sales\": 0.0, \"Other_Sales\": 0.05, \"Global_Sales\": 3.79}, {\"Genre\": \"Shooter\", \"Year\": \"1983\", \"Rank\": 4098, \"NA_Sales\": 0.45, \"EU_Sales\": 0.03, \"JP_Sales\": 0.0, \"Other_Sales\": 0.01, \"Global_Sales\": 0.48}, {\"Genre\": \"Shooter\", \"Year\": \"1984\", \"Rank\": 2808, \"NA_Sales\": 27.79, \"EU_Sales\": 0.85, \"JP_Sales\": 1.96, \"Other_Sales\": 0.5, \"Global_Sales\": 31.099999999999998}, {\"Genre\": \"Shooter\", \"Year\": \"1985\", \"Rank\": 2061, \"NA_Sales\": 0.65, \"EU_Sales\": 0.14, \"JP_Sales\": 0.21, \"Other_Sales\": 0.0, \"Global_Sales\": 1.0}, {\"Genre\": \"Shooter\", \"Year\": \"1986\", \"Rank\": 10350, \"NA_Sales\": 0.9400000000000001, \"EU_Sales\": 0.16, \"JP_Sales\": 2.77, \"Other_Sales\": 0.02, \"Global_Sales\": 3.89}, {\"Genre\": \"Shooter\", \"Year\": \"1987\", \"Rank\": 10980, \"NA_Sales\": 0.6599999999999999, \"EU_Sales\": 0.03, \"JP_Sales\": 0.0, \"Other_Sales\": 0.0, \"Global_Sales\": 0.71}, {\"Genre\": \"Shooter\", \"Year\": \"1988\", \"Rank\": 3942, \"NA_Sales\": 0.47, \"EU_Sales\": 0.03, \"JP_Sales\": 0.0, \"Other_Sales\": 0.01, \"Global_Sales\": 0.51}, {\"Genre\": \"Shooter\", \"Year\": \"1989\", \"Rank\": 1680, \"NA_Sales\": 0.4, \"EU_Sales\": 0.39, \"JP_Sales\": 0.36, \"Other_Sales\": 0.04, \"Global_Sales\": 1.2}, {\"Genre\": \"Shooter\", \"Year\": \"1991\", \"Rank\": 18166, \"NA_Sales\": 1.06, \"EU_Sales\": 0.38, \"JP_Sales\": 0.5, \"Other_Sales\": 0.05, \"Global_Sales\": 2.0}, {\"Genre\": \"Shooter\", \"Year\": \"1992\", \"Rank\": 33609, \"NA_Sales\": 0.02, \"EU_Sales\": 0.0, \"JP_Sales\": 0.26, \"Other_Sales\": 0.0, \"Global_Sales\": 0.29000000000000004}, {\"Genre\": \"Shooter\", \"Year\": \"1993\", \"Rank\": 11602, \"NA_Sales\": 1.61, \"EU_Sales\": 0.51, \"JP_Sales\": 0.89, \"Other_Sales\": 0.07, \"Global_Sales\": 3.08}, {\"Genre\": \"Shooter\", \"Year\": \"1994\", \"Rank\": 63892, \"NA_Sales\": 3.71, \"EU_Sales\": 2.57, \"JP_Sales\": 1.67, \"Other_Sales\": 0.35000000000000003, \"Global_Sales\": 8.3}, {\"Genre\": \"Shooter\", \"Year\": \"1995\", \"Rank\": 297570, \"NA_Sales\": 0.7000000000000001, \"EU_Sales\": 0.4800000000000002, \"JP_Sales\": 2.8499999999999996, \"Other_Sales\": 0.11999999999999998, \"Global_Sales\": 4.1499999999999995}, {\"Genre\": \"Shooter\", \"Year\": \"1996\", \"Rank\": 200520, \"NA_Sales\": 3.28, \"EU_Sales\": 2.139999999999999, \"JP_Sales\": 1.11, \"Other_Sales\": 0.37, \"Global_Sales\": 6.91}, {\"Genre\": \"Shooter\", \"Year\": \"1997\", \"Rank\": 217943, \"NA_Sales\": 15.0, \"EU_Sales\": 4.5, \"JP_Sales\": 2.17, \"Other_Sales\": 0.4900000000000001, \"Global_Sales\": 22.169999999999998}, {\"Genre\": \"Shooter\", \"Year\": \"1998\", \"Rank\": 193020, \"NA_Sales\": 5.61, \"EU_Sales\": 3.3599999999999994, \"JP_Sales\": 0.36, \"Other_Sales\": 0.4700000000000001, \"Global_Sales\": 9.799999999999997}, {\"Genre\": \"Shooter\", \"Year\": \"1999\", \"Rank\": 95027, \"NA_Sales\": 7.769999999999999, \"EU_Sales\": 3.7299999999999986, \"JP_Sales\": 0.29000000000000004, \"Other_Sales\": 0.44000000000000006, \"Global_Sales\": 12.249999999999998}, {\"Genre\": \"Shooter\", \"Year\": \"2000\", \"Rank\": 163589, \"NA_Sales\": 3.9999999999999996, \"EU_Sales\": 2.169999999999999, \"JP_Sales\": 0.2, \"Other_Sales\": 0.4600000000000001, \"Global_Sales\": 6.81}, {\"Genre\": \"Shooter\", \"Year\": \"2001\", \"Rank\": 258247, \"NA_Sales\": 15.11, \"EU_Sales\": 7.499999999999998, \"JP_Sales\": 0.53, \"Other_Sales\": 1.6700000000000006, \"Global_Sales\": 24.770000000000003}, {\"Genre\": \"Shooter\", \"Year\": \"2002\", \"Rank\": 565567, \"NA_Sales\": 28.68999999999999, \"EU_Sales\": 14.979999999999988, \"JP_Sales\": 1.02, \"Other_Sales\": 3.7799999999999954, \"Global_Sales\": 48.579999999999984}, {\"Genre\": \"Shooter\", \"Year\": \"2003\", \"Rank\": 657177, \"NA_Sales\": 16.12000000000001, \"EU_Sales\": 7.969999999999995, \"JP_Sales\": 0.21000000000000002, \"Other_Sales\": 2.2299999999999986, \"Global_Sales\": 27.140000000000008}, {\"Genre\": \"Shooter\", \"Year\": \"2004\", \"Rank\": 733822, \"NA_Sales\": 29.940000000000005, \"EU_Sales\": 12.749999999999982, \"JP_Sales\": 0.65, \"Other_Sales\": 3.189999999999995, \"Global_Sales\": 46.95000000000003}, {\"Genre\": \"Shooter\", \"Year\": \"2005\", \"Rank\": 760950, \"NA_Sales\": 27.82000000000001, \"EU_Sales\": 9.209999999999988, \"JP_Sales\": 1.32, \"Other_Sales\": 3.2199999999999953, \"Global_Sales\": 41.60000000000003}, {\"Genre\": \"Shooter\", \"Year\": \"2006\", \"Rank\": 619731, \"NA_Sales\": 23.040000000000013, \"EU_Sales\": 8.809999999999988, \"JP_Sales\": 1.8900000000000003, \"Other_Sales\": 4.609999999999997, \"Global_Sales\": 38.37000000000004}, {\"Genre\": \"Shooter\", \"Year\": \"2007\", \"Rank\": 639388, \"NA_Sales\": 38.88000000000001, \"EU_Sales\": 22.090000000000014, \"JP_Sales\": 1.5300000000000007, \"Other_Sales\": 8.489999999999988, \"Global_Sales\": 71.03999999999999}, {\"Genre\": \"Shooter\", \"Year\": \"2008\", \"Rank\": 633454, \"NA_Sales\": 34.95, \"EU_Sales\": 16.11, \"JP_Sales\": 0.7700000000000002, \"Other_Sales\": 7.499999999999995, \"Global_Sales\": 59.51000000000001}, {\"Genre\": \"Shooter\", \"Year\": \"2009\", \"Rank\": 697080, \"NA_Sales\": 38.99, \"EU_Sales\": 21.17000000000002, \"JP_Sales\": 1.1200000000000003, \"Other_Sales\": 8.559999999999986, \"Global_Sales\": 69.89000000000001}, {\"Genre\": \"Shooter\", \"Year\": \"2010\", \"Rank\": 593590, \"NA_Sales\": 43.1, \"EU_Sales\": 23.900000000000002, \"JP_Sales\": 2.1200000000000006, \"Other_Sales\": 8.319999999999991, \"Global_Sales\": 77.40999999999994}, {\"Genre\": \"Shooter\", \"Year\": \"2011\", \"Rank\": 616520, \"NA_Sales\": 49.26000000000001, \"EU_Sales\": 35.31000000000001, \"JP_Sales\": 2.6899999999999986, \"Other_Sales\": 11.529999999999994, \"Global_Sales\": 99.36}, {\"Genre\": \"Shooter\", \"Year\": \"2012\", \"Rank\": 272646, \"NA_Sales\": 35.06000000000001, \"EU_Sales\": 25.940000000000005, \"JP_Sales\": 2.619999999999999, \"Other_Sales\": 8.819999999999995, \"Global_Sales\": 72.85999999999999}, {\"Genre\": \"Shooter\", \"Year\": \"2013\", \"Rank\": 372545, \"NA_Sales\": 30.699999999999996, \"EU_Sales\": 23.149999999999995, \"JP_Sales\": 1.7300000000000004, \"Other_Sales\": 7.149999999999994, \"Global_Sales\": 62.799999999999976}, {\"Genre\": \"Shooter\", \"Year\": \"2014\", \"Rank\": 196375, \"NA_Sales\": 30.720000000000002, \"EU_Sales\": 25.81, \"JP_Sales\": 1.08, \"Other_Sales\": 8.379999999999997, \"Global_Sales\": 65.99999999999996}, {\"Genre\": \"Shooter\", \"Year\": \"2015\", \"Rank\": 125348, \"NA_Sales\": 30.789999999999992, \"EU_Sales\": 24.230000000000008, \"JP_Sales\": 2.689999999999999, \"Other_Sales\": 8.409999999999995, \"Global_Sales\": 66.14999999999999}, {\"Genre\": \"Shooter\", \"Year\": \"2016\", \"Rank\": 279947, \"NA_Sales\": 7.439999999999998, \"EU_Sales\": 7.699999999999999, \"JP_Sales\": 0.6100000000000001, \"Other_Sales\": 2.4199999999999977, \"Global_Sales\": 18.219999999999995}, {\"Genre\": \"Sports\", \"Year\": \"1980\", \"Rank\": 4027, \"NA_Sales\": 0.46, \"EU_Sales\": 0.03, \"JP_Sales\": 0.0, \"Other_Sales\": 0.01, \"Global_Sales\": 0.49}, {\"Genre\": \"Sports\", \"Year\": \"1981\", \"Rank\": 31315, \"NA_Sales\": 0.74, \"EU_Sales\": 0.04, \"JP_Sales\": 0.0, \"Other_Sales\": 0.0, \"Global_Sales\": 0.7899999999999999}, {\"Genre\": \"Sports\", \"Year\": \"1982\", \"Rank\": 7660, \"NA_Sales\": 0.98, \"EU_Sales\": 0.06, \"JP_Sales\": 0.0, \"Other_Sales\": 0.02, \"Global_Sales\": 1.05}, {\"Genre\": \"Sports\", \"Year\": \"1983\", \"Rank\": 422, \"NA_Sales\": 0.73, \"EU_Sales\": 0.1, \"JP_Sales\": 2.35, \"Other_Sales\": 0.02, \"Global_Sales\": 3.2}, {\"Genre\": \"Sports\", \"Year\": \"1984\", \"Rank\": 1055, \"NA_Sales\": 1.7, \"EU_Sales\": 0.39, \"JP_Sales\": 4.02, \"Other_Sales\": 0.06, \"Global_Sales\": 6.18}, {\"Genre\": \"Sports\", \"Year\": \"1985\", \"Rank\": 870, \"NA_Sales\": 0.18, \"EU_Sales\": 0.23, \"JP_Sales\": 1.53, \"Other_Sales\": 0.02, \"Global_Sales\": 1.96}, {\"Genre\": \"Sports\", \"Year\": \"1986\", \"Rank\": 7150, \"NA_Sales\": 2.3499999999999996, \"EU_Sales\": 0.47000000000000003, \"JP_Sales\": 2.69, \"Other_Sales\": 0.07, \"Global_Sales\": 5.57}, {\"Genre\": \"Sports\", \"Year\": \"1987\", \"Rank\": 25593, \"NA_Sales\": 0.4, \"EU_Sales\": 0.03, \"JP_Sales\": 3.2800000000000002, \"Other_Sales\": 0.0, \"Global_Sales\": 3.7199999999999998}, {\"Genre\": \"Sports\", \"Year\": \"1988\", \"Rank\": 2349, \"NA_Sales\": 1.37, \"EU_Sales\": 0.32, \"JP_Sales\": 1.86, \"Other_Sales\": 0.05, \"Global_Sales\": 3.5999999999999996}, {\"Genre\": \"Sports\", \"Year\": \"1989\", \"Rank\": 2775, \"NA_Sales\": 2.24, \"EU_Sales\": 0.9, \"JP_Sales\": 2.47, \"Other_Sales\": 0.11, \"Global_Sales\": 5.720000000000001}, {\"Genre\": \"Sports\", \"Year\": \"1990\", \"Rank\": 12639, \"NA_Sales\": 0.28, \"EU_Sales\": 0.5, \"JP_Sales\": 1.28, \"Other_Sales\": 0.05, \"Global_Sales\": 2.11}, {\"Genre\": \"Sports\", \"Year\": \"1991\", \"Rank\": 47236, \"NA_Sales\": 0.41, \"EU_Sales\": 0.1, \"JP_Sales\": 1.88, \"Other_Sales\": 0.02, \"Global_Sales\": 2.4099999999999997}, {\"Genre\": \"Sports\", \"Year\": \"1992\", \"Rank\": 19890, \"NA_Sales\": 1.75, \"EU_Sales\": 0.25, \"JP_Sales\": 0.9, \"Other_Sales\": 0.05, \"Global_Sales\": 2.95}, {\"Genre\": \"Sports\", \"Year\": \"1993\", \"Rank\": 62954, \"NA_Sales\": 0.04, \"EU_Sales\": 0.01, \"JP_Sales\": 3.1299999999999994, \"Other_Sales\": 0.0, \"Global_Sales\": 3.1799999999999997}, {\"Genre\": \"Sports\", \"Year\": \"1994\", \"Rank\": 159258, \"NA_Sales\": 2.4999999999999996, \"EU_Sales\": 0.55, \"JP_Sales\": 5.229999999999999, \"Other_Sales\": 0.13, \"Global_Sales\": 8.389999999999999}, {\"Genre\": \"Sports\", \"Year\": \"1995\", \"Rank\": 238428, \"NA_Sales\": 2.5599999999999996, \"EU_Sales\": 1.2800000000000002, \"JP_Sales\": 3.8699999999999997, \"Other_Sales\": 0.28, \"Global_Sales\": 7.980000000000002}, {\"Genre\": \"Sports\", \"Year\": \"1996\", \"Rank\": 396533, \"NA_Sales\": 7.779999999999999, \"EU_Sales\": 3.7799999999999985, \"JP_Sales\": 5.080000000000002, \"Other_Sales\": 0.7800000000000004, \"Global_Sales\": 17.450000000000006}, {\"Genre\": \"Sports\", \"Year\": \"1997\", \"Rank\": 249156, \"NA_Sales\": 15.549999999999999, \"EU_Sales\": 5.469999999999997, \"JP_Sales\": 7.590000000000001, \"Other_Sales\": 1.4300000000000008, \"Global_Sales\": 30.020000000000003}, {\"Genre\": \"Sports\", \"Year\": \"1998\", \"Rank\": 407676, \"NA_Sales\": 24.699999999999996, \"EU_Sales\": 10.209999999999996, \"JP_Sales\": 5.0600000000000005, \"Other_Sales\": 1.780000000000001, \"Global_Sales\": 41.79000000000002}, {\"Genre\": \"Sports\", \"Year\": \"1999\", \"Rank\": 405210, \"NA_Sales\": 15.089999999999998, \"EU_Sales\": 7.029999999999996, \"JP_Sales\": 6.829999999999999, \"Other_Sales\": 1.2600000000000005, \"Global_Sales\": 30.289999999999996}, {\"Genre\": \"Sports\", \"Year\": \"2000\", \"Rank\": 542242, \"NA_Sales\": 21.560000000000002, \"EU_Sales\": 9.769999999999996, \"JP_Sales\": 6.359999999999999, \"Other_Sales\": 2.359999999999997, \"Global_Sales\": 41.19}, {\"Genre\": \"Sports\", \"Year\": \"2001\", \"Rank\": 632117, \"NA_Sales\": 28.8, \"EU_Sales\": 14.139999999999995, \"JP_Sales\": 3.9, \"Other_Sales\": 4.62999999999999, \"Global_Sales\": 51.43000000000002}, {\"Genre\": \"Sports\", \"Year\": \"2002\", \"Rank\": 1648993, \"NA_Sales\": 35.17, \"EU_Sales\": 19.240000000000045, \"JP_Sales\": 4.6899999999999995, \"Other_Sales\": 6.209999999999987, \"Global_Sales\": 65.41999999999999}, {\"Genre\": \"Sports\", \"Year\": \"2003\", \"Rank\": 855163, \"NA_Sales\": 31.449999999999985, \"EU_Sales\": 15.959999999999988, \"JP_Sales\": 4.2299999999999995, \"Other_Sales\": 4.549999999999994, \"Global_Sales\": 56.11}, {\"Genre\": \"Sports\", \"Year\": \"2004\", \"Rank\": 725471, \"NA_Sales\": 38.520000000000024, \"EU_Sales\": 14.85999999999999, \"JP_Sales\": 4.42, \"Other_Sales\": 5.809999999999992, \"Global_Sales\": 63.68000000000003}, {\"Genre\": \"Sports\", \"Year\": \"2005\", \"Rank\": 903964, \"NA_Sales\": 36.06000000000002, \"EU_Sales\": 14.099999999999984, \"JP_Sales\": 3.54, \"Other_Sales\": 5.8299999999999885, \"Global_Sales\": 59.540000000000035}, {\"Genre\": \"Sports\", \"Year\": \"2006\", \"Rank\": 1151497, \"NA_Sales\": 72.91, \"EU_Sales\": 40.19999999999999, \"JP_Sales\": 8.689999999999994, \"Other_Sales\": 14.319999999999979, \"Global_Sales\": 136.16000000000003}, {\"Genre\": \"Sports\", \"Year\": \"2007\", \"Rank\": 1324290, \"NA_Sales\": 47.79000000000003, \"EU_Sales\": 26.54000000000002, \"JP_Sales\": 9.589999999999991, \"Other_Sales\": 14.319999999999983, \"Global_Sales\": 98.20000000000002}, {\"Genre\": \"Sports\", \"Year\": \"2008\", \"Rank\": 1472500, \"NA_Sales\": 48.489999999999974, \"EU_Sales\": 26.52000000000002, \"JP_Sales\": 5.3699999999999966, \"Other_Sales\": 13.989999999999974, \"Global_Sales\": 95.33999999999996}, {\"Genre\": \"Sports\", \"Year\": \"2009\", \"Rank\": 1400859, \"NA_Sales\": 71.37999999999991, \"EU_Sales\": 42.16999999999997, \"JP_Sales\": 9.809999999999995, \"Other_Sales\": 15.139999999999977, \"Global_Sales\": 138.5200000000001}, {\"Genre\": \"Sports\", \"Year\": \"2010\", \"Rank\": 1450750, \"NA_Sales\": 48.280000000000015, \"EU_Sales\": 29.05000000000001, \"JP_Sales\": 4.419999999999999, \"Other_Sales\": 10.489999999999972, \"Global_Sales\": 92.53}, {\"Genre\": \"Sports\", \"Year\": \"2011\", \"Rank\": 1004113, \"NA_Sales\": 27.44999999999999, \"EU_Sales\": 19.860000000000017, \"JP_Sales\": 3.0799999999999996, \"Other_Sales\": 6.669999999999987, \"Global_Sales\": 56.990000000000016}, {\"Genre\": \"Sports\", \"Year\": \"2012\", \"Rank\": 360957, \"NA_Sales\": 16.399999999999995, \"EU_Sales\": 8.829999999999997, \"JP_Sales\": 2.59, \"Other_Sales\": 3.0799999999999974, \"Global_Sales\": 30.930000000000007}, {\"Genre\": \"Sports\", \"Year\": \"2013\", \"Rank\": 340387, \"NA_Sales\": 19.180000000000007, \"EU_Sales\": 15.16, \"JP_Sales\": 2.15, \"Other_Sales\": 5.049999999999999, \"Global_Sales\": 41.550000000000026}, {\"Genre\": \"Sports\", \"Year\": \"2014\", \"Rank\": 320026, \"NA_Sales\": 19.82000000000001, \"EU_Sales\": 18.7, \"JP_Sales\": 1.6000000000000008, \"Other_Sales\": 6.52, \"Global_Sales\": 46.66}, {\"Genre\": \"Sports\", \"Year\": \"2015\", \"Rank\": 529044, \"NA_Sales\": 18.02, \"EU_Sales\": 16.690000000000005, \"JP_Sales\": 0.7200000000000001, \"Other_Sales\": 5.619999999999994, \"Global_Sales\": 41.54000000000001}, {\"Genre\": \"Sports\", \"Year\": \"2016\", \"Rank\": 360626, \"NA_Sales\": 4.569999999999999, \"EU_Sales\": 7.359999999999996, \"JP_Sales\": 0.7800000000000001, \"Other_Sales\": 1.9200000000000004, \"Global_Sales\": 14.599999999999996}]}}, {\"mode\": \"vega-lite\"});\n",
       "</script>"
      ],
      "text/plain": [
       "alt.FacetChart(...)"
      ]
     },
     "execution_count": 18,
     "metadata": {},
     "output_type": "execute_result"
    }
   ],
   "source": [
    "data_plot2 = vg_sales[(vg_sales.Genre=='Action') | (vg_sales.Genre=='Sports') | (vg_sales.Genre=='Shooter') \n",
    "                      | (vg_sales.Genre=='Role-Playing') | (vg_sales.Genre=='Platform')].groupby(['Genre','Year']).aggregate(sum).reset_index()\n",
    "alt.Chart(data_plot2).mark_line().properties(\n",
    "     width=500\n",
    ").encode(\n",
    "x=alt.X('Year', axis=alt.Axis(labels=False, ticks=False)),\n",
    "y=alt.Y('Global_Sales'),\n",
    "color=alt.Color('Genre')#sum sales\n",
    ").properties(width=150).mark_area(opacity = 0.5).facet('Genre')"
   ]
  },
  {
   "cell_type": "markdown",
   "id": "elect-grill",
   "metadata": {},
   "source": [
    "---\n",
    "## 4. Conclusion"
   ]
  }
 ],
 "metadata": {
  "kernelspec": {
   "display_name": "Python 3",
   "language": "python",
   "name": "python3"
  },
  "language_info": {
   "codemirror_mode": {
    "name": "ipython",
    "version": 3
   },
   "file_extension": ".py",
   "mimetype": "text/x-python",
   "name": "python",
   "nbconvert_exporter": "python",
   "pygments_lexer": "ipython3",
   "version": "3.9.1"
  }
 },
 "nbformat": 4,
 "nbformat_minor": 5
}
