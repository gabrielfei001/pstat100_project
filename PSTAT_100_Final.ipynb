{
 "cells": [
  {
   "cell_type": "markdown",
   "id": "lovely-fluid",
   "metadata": {},
   "source": [
    "# PSTAT 100 Final Project Report"
   ]
  },
  {
   "cell_type": "code",
   "execution_count": 4,
   "id": "stylish-wages",
   "metadata": {},
   "outputs": [],
   "source": [
    "# libraries\n",
    "import pandas as pd\n",
    "import numpy as np\n",
    "import altair as alt"
   ]
  },
  {
   "cell_type": "markdown",
   "id": "later-merit",
   "metadata": {},
   "source": [
    "## Group information\n",
    "\n",
    "**Group members**:\n",
    "<br>\n",
    "Gabriel Fei <br>\n",
    "Heejae Park <br>\n",
    "Kristian Abad <br>"
   ]
  },
  {
   "cell_type": "markdown",
   "id": "naked-passage",
   "metadata": {},
   "source": [
    "---\n",
    "## Background: Sales of videogames \n",
    "\n",
    "Videogames have been an increasingly popular form of entertainment coming out of the crash of 1983 to the present pushing computational hardware, content creation, competitive play, and opening many commercial opportunities along the way. Titles or the games themselves have existed through various means such as consoles or specifically curated hardware from companies such as Sony with their Playstation series of console, Microsoft with Xbox consoles, and Nintendo with their most recent Switch console. Another popular option in terms of hardware comes through custom built computers.\n",
    "<br>\n",
    "\n",
    "The driving force to gather the data on already released video game titles is to understand the industry as a whole and what direction it may take. The data to be explored will lean more towards the business side of the industry, exploring the sales of titles which can be used to discover overall change in tastes over time, the longevity of a franchise or series of games, and possible differences in success of a title by different parts of the world (North America, Europe, Japan, etc). All of this and more can be leveraged could be useful to better inform indie developers and well established publishers alike to innovate through new games or potentially help evaluate how lucrative a current project may be."
   ]
  }
 ],
 "metadata": {
  "kernelspec": {
   "display_name": "Python 3",
   "language": "python",
   "name": "python3"
  },
  "language_info": {
   "codemirror_mode": {
    "name": "ipython",
    "version": 3
   },
   "file_extension": ".py",
   "mimetype": "text/x-python",
   "name": "python",
   "nbconvert_exporter": "python",
   "pygments_lexer": "ipython3",
   "version": "3.9.1"
  }
 },
 "nbformat": 4,
 "nbformat_minor": 5
}
