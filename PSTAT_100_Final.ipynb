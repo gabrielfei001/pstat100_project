{
 "cells": [
  {
   "cell_type": "markdown",
   "id": "fourth-concentration",
   "metadata": {},
   "source": [
    "# Game Development"
   ]
  },
  {
   "cell_type": "code",
   "execution_count": 1,
   "id": "graduate-michigan",
   "metadata": {},
   "outputs": [],
   "source": [
    "# libraries\n",
    "import pandas as pd\n",
    "import numpy as np\n",
    "import altair as alt"
   ]
  },
  {
   "cell_type": "markdown",
   "id": "built-marking",
   "metadata": {},
   "source": [
    "Group Members:\n",
    "\n",
    "#### Author contributions\n",
    "\n",
    "Author 1 contributed ...\n",
    "\n",
    "Author 2 contributed ...\n",
    "\n",
    "#### Abstract\n",
    "\n",
    "Prepare an abstract *after* you've written the entire report. The abstract should be 4-6 sentences summarizing the report contents. Typically:\n",
    "* the first 1-2 sentences introduce and motivate the topic;\n",
    "* the next 1-2 sentences state the aims;\n",
    "* the next 1-2 sentences state the findings."
   ]
  },
  {
   "cell_type": "markdown",
   "id": "informed-words",
   "metadata": {},
   "source": [
    "---\n",
    "## Background: Sales of videogames \n",
    "\n",
    "Videogames have been an increasingly popular form of entertainment coming out of the crash of 1983 to the present pushing computational hardware, content creation, competitive play, and opening many commercial opportunities along the way. Titles or the games themselves have existed through various means such as consoles or specifically curated hardware from companies such as Sony with their Playstation series of console, Microsoft with Xbox consoles, and Nintendo with their most recent Switch console. Another popular option in terms of hardware comes through custom built computers.\n",
    "<br>\n"
   ]
  },
  {
   "cell_type": "markdown",
   "id": "manual-third",
   "metadata": {},
   "source": [
    "<center><img src=\"https://encrypted-tbn0.gstatic.com/images?q=tbn:ANd9GcS3Ecto-QEVl3cg5U7-xtEhNdgRFqLHoa6_nQ&usqp=CAU\" width=\"300\" height=\"300\"/></center>"
   ]
  },
  {
   "cell_type": "code",
   "execution_count": 2,
   "id": "trying-dylan",
   "metadata": {
    "scrolled": true
   },
   "outputs": [
    {
     "data": {
      "text/html": [
       "<div>\n",
       "<style scoped>\n",
       "    .dataframe tbody tr th:only-of-type {\n",
       "        vertical-align: middle;\n",
       "    }\n",
       "\n",
       "    .dataframe tbody tr th {\n",
       "        vertical-align: top;\n",
       "    }\n",
       "\n",
       "    .dataframe thead th {\n",
       "        text-align: right;\n",
       "    }\n",
       "</style>\n",
       "<table border=\"1\" class=\"dataframe\">\n",
       "  <thead>\n",
       "    <tr style=\"text-align: right;\">\n",
       "      <th></th>\n",
       "      <th>Rank</th>\n",
       "      <th>Name</th>\n",
       "      <th>Platform</th>\n",
       "      <th>Year</th>\n",
       "      <th>Genre</th>\n",
       "      <th>Publisher</th>\n",
       "      <th>NA_Sales</th>\n",
       "      <th>EU_Sales</th>\n",
       "      <th>JP_Sales</th>\n",
       "      <th>Other_Sales</th>\n",
       "      <th>Global_Sales</th>\n",
       "    </tr>\n",
       "  </thead>\n",
       "  <tbody>\n",
       "    <tr>\n",
       "      <th>0</th>\n",
       "      <td>1</td>\n",
       "      <td>Wii Sports</td>\n",
       "      <td>Wii</td>\n",
       "      <td>2006</td>\n",
       "      <td>Sports</td>\n",
       "      <td>Nintendo</td>\n",
       "      <td>41.49</td>\n",
       "      <td>29.02</td>\n",
       "      <td>3.77</td>\n",
       "      <td>8.46</td>\n",
       "      <td>82.74</td>\n",
       "    </tr>\n",
       "    <tr>\n",
       "      <th>1</th>\n",
       "      <td>2</td>\n",
       "      <td>Super Mario Bros.</td>\n",
       "      <td>NES</td>\n",
       "      <td>1985</td>\n",
       "      <td>Platform</td>\n",
       "      <td>Nintendo</td>\n",
       "      <td>29.08</td>\n",
       "      <td>3.58</td>\n",
       "      <td>6.81</td>\n",
       "      <td>0.77</td>\n",
       "      <td>40.24</td>\n",
       "    </tr>\n",
       "    <tr>\n",
       "      <th>2</th>\n",
       "      <td>3</td>\n",
       "      <td>Mario Kart Wii</td>\n",
       "      <td>Wii</td>\n",
       "      <td>2008</td>\n",
       "      <td>Racing</td>\n",
       "      <td>Nintendo</td>\n",
       "      <td>15.85</td>\n",
       "      <td>12.88</td>\n",
       "      <td>3.79</td>\n",
       "      <td>3.31</td>\n",
       "      <td>35.82</td>\n",
       "    </tr>\n",
       "    <tr>\n",
       "      <th>3</th>\n",
       "      <td>4</td>\n",
       "      <td>Wii Sports Resort</td>\n",
       "      <td>Wii</td>\n",
       "      <td>2009</td>\n",
       "      <td>Sports</td>\n",
       "      <td>Nintendo</td>\n",
       "      <td>15.75</td>\n",
       "      <td>11.01</td>\n",
       "      <td>3.28</td>\n",
       "      <td>2.96</td>\n",
       "      <td>33.00</td>\n",
       "    </tr>\n",
       "    <tr>\n",
       "      <th>4</th>\n",
       "      <td>5</td>\n",
       "      <td>Pokemon Red/Pokemon Blue</td>\n",
       "      <td>GB</td>\n",
       "      <td>1996</td>\n",
       "      <td>Role-Playing</td>\n",
       "      <td>Nintendo</td>\n",
       "      <td>11.27</td>\n",
       "      <td>8.89</td>\n",
       "      <td>10.22</td>\n",
       "      <td>1.00</td>\n",
       "      <td>31.37</td>\n",
       "    </tr>\n",
       "  </tbody>\n",
       "</table>\n",
       "</div>"
      ],
      "text/plain": [
       "   Rank                      Name Platform  Year         Genre Publisher  \\\n",
       "0     1                Wii Sports      Wii  2006        Sports  Nintendo   \n",
       "1     2         Super Mario Bros.      NES  1985      Platform  Nintendo   \n",
       "2     3            Mario Kart Wii      Wii  2008        Racing  Nintendo   \n",
       "3     4         Wii Sports Resort      Wii  2009        Sports  Nintendo   \n",
       "4     5  Pokemon Red/Pokemon Blue       GB  1996  Role-Playing  Nintendo   \n",
       "\n",
       "   NA_Sales  EU_Sales  JP_Sales  Other_Sales  Global_Sales  \n",
       "0     41.49     29.02      3.77         8.46         82.74  \n",
       "1     29.08      3.58      6.81         0.77         40.24  \n",
       "2     15.85     12.88      3.79         3.31         35.82  \n",
       "3     15.75     11.01      3.28         2.96         33.00  \n",
       "4     11.27      8.89     10.22         1.00         31.37  "
      ]
     },
     "execution_count": 2,
     "metadata": {},
     "output_type": "execute_result"
    }
   ],
   "source": [
    "vg_sales = pd.read_csv('vgsales.csv')\n",
    "vg_sales.loc[:,'Year'] = pd.to_numeric(vg_sales.loc[:,'Year']) #Converting Year to numeric\n",
    "vg_sales.head()"
   ]
  },
  {
   "cell_type": "markdown",
   "id": "military-tiffany",
   "metadata": {},
   "source": [
    "<blockquote> \n",
    "<p>\n",
    "    <strong>Figure 1</strong>: Shows the total number of video game sold globally from 1980 - 2016.\n",
    "</p>\n",
    "</blockquote>"
   ]
  },
  {
   "cell_type": "code",
   "execution_count": 4,
   "id": "norwegian-merchant",
   "metadata": {
    "scrolled": true
   },
   "outputs": [
    {
     "data": {
      "text/html": [
       "\n",
       "<div id=\"altair-viz-953eb1d46daf4bc7834885870fc2a221\"></div>\n",
       "<script type=\"text/javascript\">\n",
       "  (function(spec, embedOpt){\n",
       "    const outputDiv = document.getElementById(\"altair-viz-953eb1d46daf4bc7834885870fc2a221\");\n",
       "    const paths = {\n",
       "      \"vega\": \"https://cdn.jsdelivr.net/npm//vega@5?noext\",\n",
       "      \"vega-lib\": \"https://cdn.jsdelivr.net/npm//vega-lib?noext\",\n",
       "      \"vega-lite\": \"https://cdn.jsdelivr.net/npm//vega-lite@4.0.2?noext\",\n",
       "      \"vega-embed\": \"https://cdn.jsdelivr.net/npm//vega-embed@6?noext\",\n",
       "    };\n",
       "\n",
       "    function loadScript(lib) {\n",
       "      return new Promise(function(resolve, reject) {\n",
       "        var s = document.createElement('script');\n",
       "        s.src = paths[lib];\n",
       "        s.async = true;\n",
       "        s.onload = () => resolve(paths[lib]);\n",
       "        s.onerror = () => reject(`Error loading script: ${paths[lib]}`);\n",
       "        document.getElementsByTagName(\"head\")[0].appendChild(s);\n",
       "      });\n",
       "    }\n",
       "\n",
       "    function showError(err) {\n",
       "      outputDiv.innerHTML = `<div class=\"error\" style=\"color:red;\">${err}</div>`;\n",
       "      throw err;\n",
       "    }\n",
       "\n",
       "    function displayChart(vegaEmbed) {\n",
       "      vegaEmbed(outputDiv, spec, embedOpt)\n",
       "        .catch(err => showError(`Javascript Error: ${err.message}<br>This usually means there's a typo in your chart specification. See the javascript console for the full traceback.`));\n",
       "    }\n",
       "\n",
       "    if(typeof define === \"function\" && define.amd) {\n",
       "      requirejs.config({paths});\n",
       "      require([\"vega-embed\"], displayChart, err => showError(`Error loading script: ${err.message}`));\n",
       "    } else if (typeof vegaEmbed === \"function\") {\n",
       "      displayChart(vegaEmbed);\n",
       "    } else {\n",
       "      loadScript(\"vega\")\n",
       "        .then(() => loadScript(\"vega-lite\"))\n",
       "        .then(() => loadScript(\"vega-embed\"))\n",
       "        .catch(showError)\n",
       "        .then(() => displayChart(vegaEmbed));\n",
       "    }\n",
       "  })({\"config\": {\"view\": {\"continuousWidth\": 400, \"continuousHeight\": 300}}, \"data\": {\"name\": \"data-29eda8474843b83d3fdd63816f988178\"}, \"mark\": \"bar\", \"encoding\": {\"x\": {\"type\": \"quantitative\", \"field\": \"Year\"}, \"y\": {\"type\": \"quantitative\", \"field\": \"Global_Sales\"}}, \"$schema\": \"https://vega.github.io/schema/vega-lite/v4.0.2.json\", \"datasets\": {\"data-29eda8474843b83d3fdd63816f988178\": [{\"Year\": 1977, \"Rank\": 14221, \"NA_Sales\": 2.7700000000000005, \"EU_Sales\": 0.17, \"JP_Sales\": 0.0, \"Other_Sales\": 0.02, \"Global_Sales\": 2.96}, {\"Year\": 1978, \"Rank\": 16460, \"NA_Sales\": 3.37, \"EU_Sales\": 0.21, \"JP_Sales\": 0.0, \"Other_Sales\": 0.03, \"Global_Sales\": 3.6199999999999997}, {\"Year\": 1979, \"Rank\": 5800, \"NA_Sales\": 0.29, \"EU_Sales\": 0.02, \"JP_Sales\": 0.0, \"Other_Sales\": 0.0, \"Global_Sales\": 0.31}, {\"Year\": 1980, \"Rank\": 45262, \"NA_Sales\": 13.000000000000004, \"EU_Sales\": 0.8200000000000003, \"JP_Sales\": 0.0, \"Other_Sales\": 0.13999999999999999, \"Global_Sales\": 13.959999999999999}, {\"Year\": 1981, \"Rank\": 190488, \"NA_Sales\": 33.04999999999999, \"EU_Sales\": 1.9600000000000006, \"JP_Sales\": 0.0, \"Other_Sales\": 0.3200000000000001, \"Global_Sales\": 35.77000000000001}, {\"Year\": 1982, \"Rank\": 159552, \"NA_Sales\": 27.570000000000007, \"EU_Sales\": 1.7400000000000009, \"JP_Sales\": 0.0, \"Other_Sales\": 0.3200000000000002, \"Global_Sales\": 29.609999999999996}, {\"Year\": 1983, \"Rank\": 56759, \"NA_Sales\": 7.76, \"EU_Sales\": 0.8000000000000003, \"JP_Sales\": 8.1, \"Other_Sales\": 0.13999999999999999, \"Global_Sales\": 16.790000000000003}, {\"Year\": 1984, \"Rank\": 37073, \"NA_Sales\": 33.300000000000004, \"EU_Sales\": 2.1099999999999994, \"JP_Sales\": 14.269999999999998, \"Other_Sales\": 0.7000000000000002, \"Global_Sales\": 50.390000000000015}, {\"Year\": 1985, \"Rank\": 55505, \"NA_Sales\": 33.27, \"EU_Sales\": 4.74, \"JP_Sales\": 14.56, \"Other_Sales\": 0.9200000000000002, \"Global_Sales\": 53.940000000000005}, {\"Year\": 1986, \"Rank\": 35986, \"NA_Sales\": 12.5, \"EU_Sales\": 2.8400000000000007, \"JP_Sales\": 19.81, \"Other_Sales\": 1.9300000000000002, \"Global_Sales\": 37.07}, {\"Year\": 1987, \"Rank\": 66158, \"NA_Sales\": 8.540000000000003, \"EU_Sales\": 1.4100000000000001, \"JP_Sales\": 11.63, \"Other_Sales\": 0.20000000000000004, \"Global_Sales\": 21.819999999999993}, {\"Year\": 1988, \"Rank\": 45622, \"NA_Sales\": 23.999999999999996, \"EU_Sales\": 6.61, \"JP_Sales\": 15.759999999999998, \"Other_Sales\": 1.01, \"Global_Sales\": 47.39}, {\"Year\": 1989, \"Rank\": 47527, \"NA_Sales\": 45.35, \"EU_Sales\": 8.45, \"JP_Sales\": 18.360000000000003, \"Other_Sales\": 1.5000000000000002, \"Global_Sales\": 73.66}, {\"Year\": 1990, \"Rank\": 25106, \"NA_Sales\": 25.46, \"EU_Sales\": 7.629999999999998, \"JP_Sales\": 14.880000000000003, \"Other_Sales\": 1.4000000000000004, \"Global_Sales\": 49.38999999999999}, {\"Year\": 1991, \"Rank\": 212821, \"NA_Sales\": 12.76, \"EU_Sales\": 3.9499999999999993, \"JP_Sales\": 14.780000000000001, \"Other_Sales\": 0.7400000000000001, \"Global_Sales\": 32.230000000000004}, {\"Year\": 1992, \"Rank\": 208926, \"NA_Sales\": 33.87, \"EU_Sales\": 11.710000000000003, \"JP_Sales\": 28.91, \"Other_Sales\": 1.6500000000000004, \"Global_Sales\": 76.15999999999998}, {\"Year\": 1993, \"Rank\": 378762, \"NA_Sales\": 14.120000000000001, \"EU_Sales\": 4.6499999999999995, \"JP_Sales\": 25.33000000000001, \"Other_Sales\": 0.8900000000000001, \"Global_Sales\": 45.98}, {\"Year\": 1994, \"Rank\": 868891, \"NA_Sales\": 28.150000000000002, \"EU_Sales\": 14.879999999999997, \"JP_Sales\": 33.990000000000016, \"Other_Sales\": 2.199999999999999, \"Global_Sales\": 79.17000000000003}, {\"Year\": 1995, \"Rank\": 1879594, \"NA_Sales\": 24.82000000000001, \"EU_Sales\": 14.709999999999981, \"JP_Sales\": 45.750000000000014, \"Other_Sales\": 2.6399999999999926, \"Global_Sales\": 88.10999999999991}, {\"Year\": 1996, \"Rank\": 1922782, \"NA_Sales\": 86.82, \"EU_Sales\": 47.27999999999999, \"JP_Sales\": 57.43999999999997, \"Other_Sales\": 7.689999999999979, \"Global_Sales\": 199.23999999999995}, {\"Year\": 1997, \"Rank\": 1906616, \"NA_Sales\": 94.98000000000008, \"EU_Sales\": 48.62999999999999, \"JP_Sales\": 49.03999999999997, \"Other_Sales\": 9.199999999999976, \"Global_Sales\": 202.21000000000012}, {\"Year\": 1998, \"Rank\": 2638469, \"NA_Sales\": 129.17000000000002, \"EU_Sales\": 67.25000000000013, \"JP_Sales\": 50.08, \"Other_Sales\": 11.129999999999942, \"Global_Sales\": 257.9699999999999}, {\"Year\": 1999, \"Rank\": 2226507, \"NA_Sales\": 126.98000000000003, \"EU_Sales\": 63.21000000000003, \"JP_Sales\": 52.63, \"Other_Sales\": 10.209999999999948, \"Global_Sales\": 253.60000000000016}, {\"Year\": 2000, \"Rank\": 2414266, \"NA_Sales\": 92.49000000000005, \"EU_Sales\": 52.93000000000003, \"JP_Sales\": 42.770000000000046, \"Other_Sales\": 11.649999999999936, \"Global_Sales\": 202.1600000000002}, {\"Year\": 2001, \"Rank\": 3434084, \"NA_Sales\": 176.93000000000038, \"EU_Sales\": 95.40999999999985, \"JP_Sales\": 40.06999999999999, \"Other_Sales\": 22.93000000000019, \"Global_Sales\": 335.3799999999991}, {\"Year\": 2002, \"Rank\": 6962188, \"NA_Sales\": 220.63000000000014, \"EU_Sales\": 111.88000000000034, \"JP_Sales\": 42.29000000000002, \"Other_Sales\": 28.020000000000262, \"Global_Sales\": 404.4099999999982}, {\"Year\": 2003, \"Rank\": 6243497, \"NA_Sales\": 198.90000000000063, \"EU_Sales\": 105.5400000000003, \"JP_Sales\": 34.89000000000003, \"Other_Sales\": 27.380000000000244, \"Global_Sales\": 368.78999999999894}, {\"Year\": 2004, \"Rank\": 5908361, \"NA_Sales\": 223.5500000000004, \"EU_Sales\": 107.87000000000036, \"JP_Sales\": 42.419999999999995, \"Other_Sales\": 47.44999999999983, \"Global_Sales\": 422.1199999999985}, {\"Year\": 2005, \"Rank\": 7860961, \"NA_Sales\": 246.20000000000047, \"EU_Sales\": 123.45000000000041, \"JP_Sales\": 54.500000000000014, \"Other_Sales\": 41.109999999999815, \"Global_Sales\": 465.81999999999744}, {\"Year\": 2006, \"Rank\": 9758731, \"NA_Sales\": 266.5999999999985, \"EU_Sales\": 130.10999999999981, \"JP_Sales\": 74.82, \"Other_Sales\": 54.84999999999984, \"Global_Sales\": 527.899999999991}, {\"Year\": 2007, \"Rank\": 10499349, \"NA_Sales\": 317.09999999999826, \"EU_Sales\": 161.98999999999975, \"JP_Sales\": 60.45000000000011, \"Other_Sales\": 78.79000000000102, \"Global_Sales\": 620.1999999999927}, {\"Year\": 2008, \"Rank\": 12328254, \"NA_Sales\": 355.97999999999905, \"EU_Sales\": 187.33999999999972, \"JP_Sales\": 60.86000000000002, \"Other_Sales\": 83.80000000000142, \"Global_Sales\": 691.0999999999941}, {\"Year\": 2009, \"Rank\": 12646136, \"NA_Sales\": 340.04999999999876, \"EU_Sales\": 190.93999999999986, \"JP_Sales\": 62.039999999999985, \"Other_Sales\": 74.90000000000148, \"Global_Sales\": 669.1699999999945}, {\"Year\": 2010, \"Rank\": 11269631, \"NA_Sales\": 305.16999999999985, \"EU_Sales\": 177.31000000000014, \"JP_Sales\": 60.43000000000022, \"Other_Sales\": 60.559999999999945, \"Global_Sales\": 607.609999999994}, {\"Year\": 2011, \"Rank\": 10372023, \"NA_Sales\": 245.960000000001, \"EU_Sales\": 170.78000000000017, \"JP_Sales\": 54.150000000000084, \"Other_Sales\": 55.729999999999805, \"Global_Sales\": 528.3899999999936}, {\"Year\": 2012, \"Rank\": 5661978, \"NA_Sales\": 154.21000000000004, \"EU_Sales\": 117.54000000000002, \"JP_Sales\": 51.910000000000124, \"Other_Sales\": 37.839999999999996, \"Global_Sales\": 363.9499999999983}, {\"Year\": 2013, \"Rank\": 4448610, \"NA_Sales\": 155.0500000000001, \"EU_Sales\": 124.49000000000007, \"JP_Sales\": 47.59000000000005, \"Other_Sales\": 39.96, \"Global_Sales\": 369.23999999999864}, {\"Year\": 2014, \"Rank\": 4858158, \"NA_Sales\": 131.9800000000002, \"EU_Sales\": 125.1200000000001, \"JP_Sales\": 39.460000000000086, \"Other_Sales\": 40.02, \"Global_Sales\": 337.05999999999847}, {\"Year\": 2015, \"Rank\": 6032343, \"NA_Sales\": 102.37999999999992, \"EU_Sales\": 97.22000000000003, \"JP_Sales\": 33.72000000000013, \"Other_Sales\": 30.010000000000133, \"Global_Sales\": 264.44999999999794}, {\"Year\": 2016, \"Rank\": 3945718, \"NA_Sales\": 22.66000000000006, \"EU_Sales\": 26.790000000000067, \"JP_Sales\": 13.699999999999969, \"Other_Sales\": 7.749999999999982, \"Global_Sales\": 70.97000000000014}, {\"Year\": 2017, \"Rank\": 47078, \"NA_Sales\": 0.0, \"EU_Sales\": 0.0, \"JP_Sales\": 0.05, \"Other_Sales\": 0.0, \"Global_Sales\": 0.05}, {\"Year\": 2020, \"Rank\": 5959, \"NA_Sales\": 0.27, \"EU_Sales\": 0.0, \"JP_Sales\": 0.0, \"Other_Sales\": 0.02, \"Global_Sales\": 0.29}]}}, {\"mode\": \"vega-lite\"});\n",
       "</script>"
      ],
      "text/plain": [
       "alt.Chart(...)"
      ]
     },
     "execution_count": 4,
     "metadata": {},
     "output_type": "execute_result"
    }
   ],
   "source": [
    "vg_sales_mod = vg_sales.groupby('Year').sum().reset_index()\n",
    "alt.data_transformers.disable_max_rows()\n",
    "alt.Chart(vg_sales_mod).mark_bar().encode(\n",
    "    x=alt.X('Year'),\n",
    "    y=alt.Y('Global_Sales') #sum sales\n",
    ")"
   ]
  },
  {
   "cell_type": "markdown",
   "id": "italian-contact",
   "metadata": {},
   "source": [
    "--- \n",
    "## 1. Data Description"
   ]
  },
  {
   "cell_type": "markdown",
   "id": "mineral-salvation",
   "metadata": {},
   "source": [
    "The data are recorded number of sales in games from year 1980 through 2020 that had sold more than 100,000 copies."
   ]
  },
  {
   "cell_type": "markdown",
   "id": "dimensional-emperor",
   "metadata": {},
   "source": [
    "### Basic Information About Collection of Data"
   ]
  },
  {
   "cell_type": "markdown",
   "id": "available-stage",
   "metadata": {},
   "source": [
    "The data was found online at https://www.kaggle.com/arslanali4343/sales-of-video-games. The intention for the collection of the data was for general purposes. Regarding the source of data, it is noted that the data values were web scraped off the website https://www.vgchartz.com/ using the python library Beautiful Soup, which is known to pull data from HTML or XML documents. The dataset is composed of popular games introduced to the game market since 1980 and the sampling mechanism was specifically framed around games that totalled up to more than 100,000 copies sold. Additionally, the scope of inference can be extended to games leaning more towards consoles (data is limited in that it does not contain the entirety of the Steam and other platforms) that are currently out for sale in the game market. "
   ]
  },
  {
   "cell_type": "markdown",
   "id": "auburn-aurora",
   "metadata": {},
   "source": [
    "### Data Structure"
   ]
  },
  {
   "cell_type": "markdown",
   "id": "embedded-domain",
   "metadata": {},
   "source": [
    "For this study, the observational units are popular games published between 1980 and 2017, with the variables consisting of the rank, Name, Platform, Year, Genre, Publisher, NA_Sales, EU_Sales, JP_Sales, Other_Sales, and the Global_Sales. Additional details regarding the variables can be found below."
   ]
  },
  {
   "cell_type": "markdown",
   "id": "alien-earthquake",
   "metadata": {},
   "source": [
    "<blockquote> \n",
    "<p>\n",
    "    <strong>Table 1</strong>: The variable description, data type, and the units of measurement for each variable are provided in the table below.\n",
    "</p>\n",
    "</blockquote>"
   ]
  },
  {
   "cell_type": "markdown",
   "id": "ideal-rochester",
   "metadata": {},
   "source": [
    "Name | Variable description | Type | Units of measurement\n",
    "---|---|---|---\n",
    "Rank | Ranking of Overall Sales | Ordinal | Rank Numbers\n",
    "Name | Name of The Game | Nominal | Game Names\n",
    "Platform | Platform of Game Release | Nominal | Game Platforms\n",
    "Year | Year of Game Release | Ordinal | Calendar Year\n",
    "Genre | Genre of The Game | Nominal | Game Genres\n",
    "Publisher | Publisher of The Game | Nominal | Game Companies\n",
    "NA_Sales | Total Sales in North America | Numeric | in Millions\n",
    "EU_Sales | Total Sales in Europe | Numeric | in Millions\n",
    "JP_Sales | Total Sales in Japan | Numeric | in Millions\n",
    "Other_Sales | Total Sales in Rest of the World | Numeric | in Millions\n",
    "Global_Sales | Total Sales Worldwide | Numeric | in Millions"
   ]
  },
  {
   "cell_type": "markdown",
   "id": "dimensional-seven",
   "metadata": {},
   "source": [
    "### Preprocessing of Data"
   ]
  },
  {
   "cell_type": "markdown",
   "id": "fitted-lingerie",
   "metadata": {},
   "source": [
    "After doing some data exploration, it was seen that a substantial number of observations had missing values in them.    The exact number of missing numbers for each variable had can be found below. "
   ]
  },
  {
   "cell_type": "markdown",
   "id": "checked-adrian",
   "metadata": {},
   "source": [
    "<blockquote> \n",
    "<p>\n",
    "    <strong>Table 2</strong>: Table shows the number of missing values in the observations by variable in the table below.\n",
    "</p>\n",
    "</blockquote>"
   ]
  },
  {
   "cell_type": "markdown",
   "id": "cardiovascular-queue",
   "metadata": {},
   "source": [
    "Name | No of Missing Values \n",
    "---|---\n",
    "Rank | 0 \n",
    "Name | 0\n",
    "Platform | 0\n",
    "Year | 271 \n",
    "Genre | 0 \n",
    "Publisher | 58 \n",
    "NA_Sales | 0\n",
    "EU_Sales | 0\n",
    "JP_Sales | 0\n",
    "Other_Sales | 0\n",
    "Global_Sales | 2"
   ]
  },
  {
   "cell_type": "markdown",
   "id": "chinese-philippines",
   "metadata": {},
   "source": [
    "Upon exploration of the data, it was decided that it would be too dangerous/risky to plainly remove the observations with missing values as they might later be crucial for the subsequent analysis portion. For each observation that was ranked between 1 and 1000 -- signfying that they had greater sales and proved to be of greater importance; these observations had their missing values replaced with their actual values after searching online.\n",
    "\n",
    "UPDATE: Missing values were filled!"
   ]
  },
  {
   "cell_type": "markdown",
   "id": "nominated-hunger",
   "metadata": {},
   "source": [
    "---\n",
    "## 2. Methods"
   ]
  },
  {
   "cell_type": "markdown",
   "id": "central-leather",
   "metadata": {},
   "source": [
    "---\n",
    "## 3. Results"
   ]
  },
  {
   "cell_type": "code",
   "execution_count": 39,
   "id": "clinical-guest",
   "metadata": {},
   "outputs": [
    {
     "data": {
      "text/html": [
       "\n",
       "<div id=\"altair-viz-8f344fd1767c4399a1ad6615df389ffb\"></div>\n",
       "<script type=\"text/javascript\">\n",
       "  (function(spec, embedOpt){\n",
       "    const outputDiv = document.getElementById(\"altair-viz-8f344fd1767c4399a1ad6615df389ffb\");\n",
       "    const paths = {\n",
       "      \"vega\": \"https://cdn.jsdelivr.net/npm//vega@5?noext\",\n",
       "      \"vega-lib\": \"https://cdn.jsdelivr.net/npm//vega-lib?noext\",\n",
       "      \"vega-lite\": \"https://cdn.jsdelivr.net/npm//vega-lite@4.0.2?noext\",\n",
       "      \"vega-embed\": \"https://cdn.jsdelivr.net/npm//vega-embed@6?noext\",\n",
       "    };\n",
       "\n",
       "    function loadScript(lib) {\n",
       "      return new Promise(function(resolve, reject) {\n",
       "        var s = document.createElement('script');\n",
       "        s.src = paths[lib];\n",
       "        s.async = true;\n",
       "        s.onload = () => resolve(paths[lib]);\n",
       "        s.onerror = () => reject(`Error loading script: ${paths[lib]}`);\n",
       "        document.getElementsByTagName(\"head\")[0].appendChild(s);\n",
       "      });\n",
       "    }\n",
       "\n",
       "    function showError(err) {\n",
       "      outputDiv.innerHTML = `<div class=\"error\" style=\"color:red;\">${err}</div>`;\n",
       "      throw err;\n",
       "    }\n",
       "\n",
       "    function displayChart(vegaEmbed) {\n",
       "      vegaEmbed(outputDiv, spec, embedOpt)\n",
       "        .catch(err => showError(`Javascript Error: ${err.message}<br>This usually means there's a typo in your chart specification. See the javascript console for the full traceback.`));\n",
       "    }\n",
       "\n",
       "    if(typeof define === \"function\" && define.amd) {\n",
       "      requirejs.config({paths});\n",
       "      require([\"vega-embed\"], displayChart, err => showError(`Error loading script: ${err.message}`));\n",
       "    } else if (typeof vegaEmbed === \"function\") {\n",
       "      displayChart(vegaEmbed);\n",
       "    } else {\n",
       "      loadScript(\"vega\")\n",
       "        .then(() => loadScript(\"vega-lite\"))\n",
       "        .then(() => loadScript(\"vega-embed\"))\n",
       "        .catch(showError)\n",
       "        .then(() => displayChart(vegaEmbed));\n",
       "    }\n",
       "  })({\"config\": {\"view\": {\"continuousWidth\": 400, \"continuousHeight\": 300}}, \"data\": {\"name\": \"data-563867c518c8dad2c8e887d07ffbd85d\"}, \"mark\": {\"type\": \"area\", \"opacity\": 0.5}, \"encoding\": {\"color\": {\"type\": \"nominal\", \"field\": \"Platform\", \"title\": \"Console\"}, \"x\": {\"type\": \"nominal\", \"field\": \"Year\", \"title\": \"Year\"}, \"y\": {\"type\": \"quantitative\", \"field\": \"Global_Sales\", \"title\": \"Total Global Sales\"}}, \"height\": 500, \"width\": 500, \"$schema\": \"https://vega.github.io/schema/vega-lite/v4.0.2.json\", \"datasets\": {\"data-563867c518c8dad2c8e887d07ffbd85d\": [{\"Platform\": \"2600\", \"Year\": 1977, \"NA_Sales\": 2.7700000000000005, \"EU_Sales\": 0.17, \"JP_Sales\": 0.0, \"Other_Sales\": 0.02, \"Global_Sales\": 2.96}, {\"Platform\": \"2600\", \"Year\": 1978, \"NA_Sales\": 3.37, \"EU_Sales\": 0.21, \"JP_Sales\": 0.0, \"Other_Sales\": 0.03, \"Global_Sales\": 3.6199999999999997}, {\"Platform\": \"2600\", \"Year\": 1979, \"NA_Sales\": 0.29, \"EU_Sales\": 0.02, \"JP_Sales\": 0.0, \"Other_Sales\": 0.0, \"Global_Sales\": 0.31}, {\"Platform\": \"2600\", \"Year\": 1980, \"NA_Sales\": 13.000000000000004, \"EU_Sales\": 0.8200000000000003, \"JP_Sales\": 0.0, \"Other_Sales\": 0.13999999999999999, \"Global_Sales\": 13.959999999999999}, {\"Platform\": \"2600\", \"Year\": 1981, \"NA_Sales\": 33.04999999999999, \"EU_Sales\": 1.9600000000000006, \"JP_Sales\": 0.0, \"Other_Sales\": 0.3200000000000001, \"Global_Sales\": 35.77000000000001}, {\"Platform\": \"2600\", \"Year\": 1982, \"NA_Sales\": 27.360000000000007, \"EU_Sales\": 1.6800000000000008, \"JP_Sales\": 0.0, \"Other_Sales\": 0.31000000000000016, \"Global_Sales\": 29.329999999999995}, {\"Platform\": \"2600\", \"Year\": 1983, \"NA_Sales\": 5.4399999999999995, \"EU_Sales\": 0.3400000000000001, \"JP_Sales\": 0.0, \"Other_Sales\": 0.060000000000000005, \"Global_Sales\": 5.83}, {\"Platform\": \"2600\", \"Year\": 1984, \"NA_Sales\": 0.26, \"EU_Sales\": 0.01, \"JP_Sales\": 0.0, \"Other_Sales\": 0.0, \"Global_Sales\": 0.27}, {\"Platform\": \"2600\", \"Year\": 1985, \"NA_Sales\": 0.42, \"EU_Sales\": 0.03, \"JP_Sales\": 0.0, \"Other_Sales\": 0.0, \"Global_Sales\": 0.45}, {\"Platform\": \"2600\", \"Year\": 1986, \"NA_Sales\": 0.63, \"EU_Sales\": 0.04, \"JP_Sales\": 0.0, \"Other_Sales\": 0.0, \"Global_Sales\": 0.6599999999999999}, {\"Platform\": \"2600\", \"Year\": 1987, \"NA_Sales\": 1.84, \"EU_Sales\": 0.09, \"JP_Sales\": 0.0, \"Other_Sales\": 0.01, \"Global_Sales\": 1.9800000000000002}, {\"Platform\": \"2600\", \"Year\": 1988, \"NA_Sales\": 0.69, \"EU_Sales\": 0.04, \"JP_Sales\": 0.0, \"Other_Sales\": 0.01, \"Global_Sales\": 0.75}, {\"Platform\": \"2600\", \"Year\": 1989, \"NA_Sales\": 0.79, \"EU_Sales\": 0.04, \"JP_Sales\": 0.0, \"Other_Sales\": 0.01, \"Global_Sales\": 0.83}, {\"Platform\": \"2600\", \"Year\": 2010, \"NA_Sales\": 0.2, \"EU_Sales\": 0.01, \"JP_Sales\": 0.0, \"Other_Sales\": 0.0, \"Global_Sales\": 0.21}, {\"Platform\": \"2600\", \"Year\": 2013, \"NA_Sales\": 0.14, \"EU_Sales\": 0.01, \"JP_Sales\": 0.0, \"Other_Sales\": 0.0, \"Global_Sales\": 0.15}, {\"Platform\": \"3DO\", \"Year\": 1994, \"NA_Sales\": 0.0, \"EU_Sales\": 0.0, \"JP_Sales\": 0.02, \"Other_Sales\": 0.0, \"Global_Sales\": 0.02}, {\"Platform\": \"3DO\", \"Year\": 1995, \"NA_Sales\": 0.0, \"EU_Sales\": 0.0, \"JP_Sales\": 0.08, \"Other_Sales\": 0.0, \"Global_Sales\": 0.08}, {\"Platform\": \"3DS\", \"Year\": 1987, \"NA_Sales\": 0.08, \"EU_Sales\": 0.0, \"JP_Sales\": 0.0, \"Other_Sales\": 0.0, \"Global_Sales\": 0.08}, {\"Platform\": \"3DS\", \"Year\": 2010, \"NA_Sales\": 0.28, \"EU_Sales\": 0.0, \"JP_Sales\": 0.0, \"Other_Sales\": 0.02, \"Global_Sales\": 0.3}, {\"Platform\": \"3DS\", \"Year\": 2011, \"NA_Sales\": 27.459999999999987, \"EU_Sales\": 17.679999999999996, \"JP_Sales\": 12.800000000000002, \"Other_Sales\": 4.439999999999987, \"Global_Sales\": 63.269999999999996}, {\"Platform\": \"3DS\", \"Year\": 2012, \"NA_Sales\": 17.040000000000003, \"EU_Sales\": 11.58999999999999, \"JP_Sales\": 19.97, \"Other_Sales\": 2.5499999999999963, \"Global_Sales\": 51.19000000000005}, {\"Platform\": \"3DS\", \"Year\": 2013, \"NA_Sales\": 15.329999999999998, \"EU_Sales\": 14.339999999999991, \"JP_Sales\": 23.520000000000007, \"Other_Sales\": 2.669999999999997, \"Global_Sales\": 55.88000000000002}, {\"Platform\": \"3DS\", \"Year\": 2014, \"NA_Sales\": 12.03, \"EU_Sales\": 8.609999999999998, \"JP_Sales\": 20.640000000000008, \"Other_Sales\": 1.8400000000000007, \"Global_Sales\": 43.140000000000036}, {\"Platform\": \"3DS\", \"Year\": 2015, \"NA_Sales\": 5.819999999999999, \"EU_Sales\": 4.779999999999998, \"JP_Sales\": 15.389999999999986, \"Other_Sales\": 0.9900000000000003, \"Global_Sales\": 27.0}, {\"Platform\": \"3DS\", \"Year\": 2016, \"NA_Sales\": 0.8300000000000001, \"EU_Sales\": 0.5700000000000001, \"JP_Sales\": 5.0299999999999985, \"Other_Sales\": 0.12, \"Global_Sales\": 6.599999999999999}, {\"Platform\": \"DC\", \"Year\": 1998, \"NA_Sales\": 1.26, \"EU_Sales\": 0.61, \"JP_Sales\": 1.4300000000000002, \"Other_Sales\": 0.08, \"Global_Sales\": 3.39}, {\"Platform\": \"DC\", \"Year\": 1999, \"NA_Sales\": 1.6400000000000001, \"EU_Sales\": 0.29, \"JP_Sales\": 3.1699999999999995, \"Other_Sales\": 0.06, \"Global_Sales\": 5.169999999999999}, {\"Platform\": \"DC\", \"Year\": 2000, \"NA_Sales\": 2.5300000000000002, \"EU_Sales\": 0.79, \"JP_Sales\": 2.5399999999999996, \"Other_Sales\": 0.13, \"Global_Sales\": 5.989999999999998}, {\"Platform\": \"DC\", \"Year\": 2001, \"NA_Sales\": 0.0, \"EU_Sales\": 0.0, \"JP_Sales\": 1.07, \"Other_Sales\": 0.0, \"Global_Sales\": 1.07}, {\"Platform\": \"DC\", \"Year\": 2002, \"NA_Sales\": 0.0, \"EU_Sales\": 0.0, \"JP_Sales\": 0.29, \"Other_Sales\": 0.0, \"Global_Sales\": 0.29}, {\"Platform\": \"DC\", \"Year\": 2007, \"NA_Sales\": 0.0, \"EU_Sales\": 0.0, \"JP_Sales\": 0.02, \"Other_Sales\": 0.0, \"Global_Sales\": 0.02}, {\"Platform\": \"DC\", \"Year\": 2008, \"NA_Sales\": 0.0, \"EU_Sales\": 0.0, \"JP_Sales\": 0.04, \"Other_Sales\": 0.0, \"Global_Sales\": 0.04}, {\"Platform\": \"DS\", \"Year\": 1985, \"NA_Sales\": 0.0, \"EU_Sales\": 0.0, \"JP_Sales\": 0.02, \"Other_Sales\": 0.0, \"Global_Sales\": 0.02}, {\"Platform\": \"DS\", \"Year\": 2004, \"NA_Sales\": 8.419999999999998, \"EU_Sales\": 3.9699999999999998, \"JP_Sales\": 3.649999999999999, \"Other_Sales\": 1.37, \"Global_Sales\": 17.459999999999994}, {\"Platform\": \"DS\", \"Year\": 2005, \"NA_Sales\": 48.47, \"EU_Sales\": 42.06000000000002, \"JP_Sales\": 29.95, \"Other_Sales\": 10.909999999999982, \"Global_Sales\": 131.4900000000002}, {\"Platform\": \"DS\", \"Year\": 2006, \"NA_Sales\": 50.69000000000001, \"EU_Sales\": 23.530000000000044, \"JP_Sales\": 38.72000000000001, \"Other_Sales\": 8.279999999999985, \"Global_Sales\": 121.37999999999997}, {\"Platform\": \"DS\", \"Year\": 2007, \"NA_Sales\": 76.13999999999997, \"EU_Sales\": 34.59999999999997, \"JP_Sales\": 26.920000000000037, \"Other_Sales\": 11.289999999999953, \"Global_Sales\": 149.77000000000024}, {\"Platform\": \"DS\", \"Year\": 2008, \"NA_Sales\": 79.97999999999995, \"EU_Sales\": 33.190000000000005, \"JP_Sales\": 24.130000000000027, \"Other_Sales\": 11.219999999999933, \"Global_Sales\": 148.81000000000046}, {\"Platform\": \"DS\", \"Year\": 2009, \"NA_Sales\": 62.74000000000004, \"EU_Sales\": 26.10000000000003, \"JP_Sales\": 24.28000000000004, \"Other_Sales\": 8.759999999999964, \"Global_Sales\": 122.44}, {\"Platform\": \"DS\", \"Year\": 2010, \"NA_Sales\": 41.210000000000036, \"EU_Sales\": 20.090000000000032, \"JP_Sales\": 19.859999999999996, \"Other_Sales\": 5.769999999999965, \"Global_Sales\": 88.45999999999995}, {\"Platform\": \"DS\", \"Year\": 2011, \"NA_Sales\": 15.78, \"EU_Sales\": 6.499999999999995, \"JP_Sales\": 4.319999999999998, \"Other_Sales\": 2.0999999999999988, \"Global_Sales\": 28.689999999999994}, {\"Platform\": \"DS\", \"Year\": 2012, \"NA_Sales\": 4.210000000000001, \"EU_Sales\": 3.1, \"JP_Sales\": 3.7199999999999998, \"Other_Sales\": 0.6400000000000001, \"Global_Sales\": 11.699999999999994}, {\"Platform\": \"DS\", \"Year\": 2013, \"NA_Sales\": 0.7200000000000001, \"EU_Sales\": 1.07, \"JP_Sales\": 0.0, \"Other_Sales\": 0.17, \"Global_Sales\": 1.96}, {\"Platform\": \"DS\", \"Year\": 2014, \"NA_Sales\": 0.02, \"EU_Sales\": 0.0, \"JP_Sales\": 0.0, \"Other_Sales\": 0.0, \"Global_Sales\": 0.02}, {\"Platform\": \"DS\", \"Year\": 2020, \"NA_Sales\": 0.27, \"EU_Sales\": 0.0, \"JP_Sales\": 0.0, \"Other_Sales\": 0.02, \"Global_Sales\": 0.29}, {\"Platform\": \"GB\", \"Year\": 1988, \"NA_Sales\": 0.82, \"EU_Sales\": 0.23, \"JP_Sales\": 0.35, \"Other_Sales\": 0.03, \"Global_Sales\": 1.43}, {\"Platform\": \"GB\", \"Year\": 1989, \"NA_Sales\": 39.809999999999995, \"EU_Sales\": 7.599999999999999, \"JP_Sales\": 16.16, \"Other_Sales\": 1.4000000000000001, \"Global_Sales\": 64.98}, {\"Platform\": \"GB\", \"Year\": 1990, \"NA_Sales\": 2.24, \"EU_Sales\": 0.8899999999999999, \"JP_Sales\": 1.33, \"Other_Sales\": 0.43000000000000005, \"Global_Sales\": 4.890000000000001}, {\"Platform\": \"GB\", \"Year\": 1991, \"NA_Sales\": 1.43, \"EU_Sales\": 0.6799999999999999, \"JP_Sales\": 3.380000000000001, \"Other_Sales\": 0.08, \"Global_Sales\": 5.57}, {\"Platform\": \"GB\", \"Year\": 1992, \"NA_Sales\": 13.100000000000001, \"EU_Sales\": 4.239999999999999, \"JP_Sales\": 7.51, \"Other_Sales\": 0.6400000000000001, \"Global_Sales\": 25.48}, {\"Platform\": \"GB\", \"Year\": 1994, \"NA_Sales\": 6.03, \"EU_Sales\": 2.36, \"JP_Sales\": 3.1900000000000004, \"Other_Sales\": 0.6000000000000001, \"Global_Sales\": 12.170000000000002}, {\"Platform\": \"GB\", \"Year\": 1995, \"NA_Sales\": 0.69, \"EU_Sales\": 0.14, \"JP_Sales\": 2.7199999999999998, \"Other_Sales\": 0.05, \"Global_Sales\": 3.5999999999999996}, {\"Platform\": \"GB\", \"Year\": 1996, \"NA_Sales\": 12.66, \"EU_Sales\": 9.370000000000001, \"JP_Sales\": 12.91, \"Other_Sales\": 1.09, \"Global_Sales\": 36.02}, {\"Platform\": \"GB\", \"Year\": 1997, \"NA_Sales\": 2.77, \"EU_Sales\": 1.21, \"JP_Sales\": 3.2600000000000002, \"Other_Sales\": 0.16, \"Global_Sales\": 7.4}, {\"Platform\": \"GB\", \"Year\": 1998, \"NA_Sales\": 9.44, \"EU_Sales\": 6.999999999999999, \"JP_Sales\": 9.55, \"Other_Sales\": 0.9099999999999999, \"Global_Sales\": 26.9}, {\"Platform\": \"GB\", \"Year\": 1999, \"NA_Sales\": 16.21, \"EU_Sales\": 8.91, \"JP_Sales\": 11.750000000000002, \"Other_Sales\": 1.1300000000000001, \"Global_Sales\": 38.010000000000005}, {\"Platform\": \"GB\", \"Year\": 2000, \"NA_Sales\": 6.390000000000001, \"EU_Sales\": 3.52, \"JP_Sales\": 8.360000000000001, \"Other_Sales\": 1.4900000000000002, \"Global_Sales\": 19.759999999999998}, {\"Platform\": \"GB\", \"Year\": 2001, \"NA_Sales\": 2.73, \"EU_Sales\": 1.67, \"JP_Sales\": 4.65, \"Other_Sales\": 0.19, \"Global_Sales\": 9.24}, {\"Platform\": \"GBA\", \"Year\": 1984, \"NA_Sales\": 0.02, \"EU_Sales\": 0.01, \"JP_Sales\": 0.0, \"Other_Sales\": 0.0, \"Global_Sales\": 0.03}, {\"Platform\": \"GBA\", \"Year\": 1996, \"NA_Sales\": 0.06, \"EU_Sales\": 0.02, \"JP_Sales\": 0.0, \"Other_Sales\": 0.0, \"Global_Sales\": 0.09}, {\"Platform\": \"GBA\", \"Year\": 2000, \"NA_Sales\": 0.05, \"EU_Sales\": 0.02, \"JP_Sales\": 0.0, \"Other_Sales\": 0.0, \"Global_Sales\": 0.06}, {\"Platform\": \"GBA\", \"Year\": 2001, \"NA_Sales\": 38.390000000000015, \"EU_Sales\": 16.10000000000001, \"JP_Sales\": 7.459999999999998, \"Other_Sales\": 1.9800000000000009, \"Global_Sales\": 64.01000000000002}, {\"Platform\": \"GBA\", \"Year\": 2002, \"NA_Sales\": 43.299999999999976, \"EU_Sales\": 16.58000000000004, \"JP_Sales\": 12.209999999999996, \"Other_Sales\": 1.8200000000000005, \"Global_Sales\": 74.77}, {\"Platform\": \"GBA\", \"Year\": 2003, \"NA_Sales\": 33.529999999999994, \"EU_Sales\": 13.18999999999998, \"JP_Sales\": 8.590000000000002, \"Other_Sales\": 1.3600000000000008, \"Global_Sales\": 56.72999999999996}, {\"Platform\": \"GBA\", \"Year\": 2004, \"NA_Sales\": 44.590000000000025, \"EU_Sales\": 18.21000000000002, \"JP_Sales\": 14.289999999999997, \"Other_Sales\": 1.8400000000000007, \"Global_Sales\": 79.1}, {\"Platform\": \"GBA\", \"Year\": 2005, \"NA_Sales\": 22.350000000000012, \"EU_Sales\": 8.549999999999986, \"JP_Sales\": 3.270000000000001, \"Other_Sales\": 0.5900000000000002, \"Global_Sales\": 34.79000000000003}, {\"Platform\": \"GBA\", \"Year\": 2006, \"NA_Sales\": 2.799999999999997, \"EU_Sales\": 1.0200000000000005, \"JP_Sales\": 1.5100000000000002, \"Other_Sales\": 0.09, \"Global_Sales\": 5.489999999999999}, {\"Platform\": \"GBA\", \"Year\": 2007, \"NA_Sales\": 2.4499999999999997, \"EU_Sales\": 0.9000000000000001, \"JP_Sales\": 0.0, \"Other_Sales\": 0.05, \"Global_Sales\": 3.4299999999999997}, {\"Platform\": \"GC\", \"Year\": 1982, \"NA_Sales\": 0.21, \"EU_Sales\": 0.06, \"JP_Sales\": 0.0, \"Other_Sales\": 0.01, \"Global_Sales\": 0.28}, {\"Platform\": \"GC\", \"Year\": 2000, \"NA_Sales\": 0.06, \"EU_Sales\": 0.01, \"JP_Sales\": 0.0, \"Other_Sales\": 0.0, \"Global_Sales\": 0.07}, {\"Platform\": \"GC\", \"Year\": 2001, \"NA_Sales\": 16.91, \"EU_Sales\": 4.799999999999999, \"JP_Sales\": 3.8499999999999996, \"Other_Sales\": 0.7800000000000002, \"Global_Sales\": 26.299999999999997}, {\"Platform\": \"GC\", \"Year\": 2002, \"NA_Sales\": 34.62000000000001, \"EU_Sales\": 10.569999999999965, \"JP_Sales\": 5.280000000000001, \"Other_Sales\": 1.3400000000000005, \"Global_Sales\": 52.349999999999994}, {\"Platform\": \"GC\", \"Year\": 2003, \"NA_Sales\": 32.499999999999986, \"EU_Sales\": 10.349999999999977, \"JP_Sales\": 6.669999999999999, \"Other_Sales\": 1.3200000000000005, \"Global_Sales\": 51.53000000000001}, {\"Platform\": \"GC\", \"Year\": 2004, \"NA_Sales\": 19.72000000000002, \"EU_Sales\": 5.329999999999993, \"JP_Sales\": 2.9999999999999996, \"Other_Sales\": 0.7800000000000005, \"Global_Sales\": 28.899999999999984}, {\"Platform\": \"GC\", \"Year\": 2005, \"NA_Sales\": 19.46999999999999, \"EU_Sales\": 5.1899999999999915, \"JP_Sales\": 2.57, \"Other_Sales\": 0.6800000000000004, \"Global_Sales\": 28.079999999999977}, {\"Platform\": \"GC\", \"Year\": 2006, \"NA_Sales\": 8.729999999999999, \"EU_Sales\": 1.9800000000000009, \"JP_Sales\": 0.21, \"Other_Sales\": 0.2700000000000001, \"Global_Sales\": 11.579999999999998}, {\"Platform\": \"GC\", \"Year\": 2007, \"NA_Sales\": 0.21, \"EU_Sales\": 0.060000000000000005, \"JP_Sales\": 0.0, \"Other_Sales\": 0.0, \"Global_Sales\": 0.27}, {\"Platform\": \"GEN\", \"Year\": 1990, \"NA_Sales\": 1.86, \"EU_Sales\": 0.55, \"JP_Sales\": 0.11, \"Other_Sales\": 0.08, \"Global_Sales\": 2.6}, {\"Platform\": \"GEN\", \"Year\": 1991, \"NA_Sales\": 3.03, \"EU_Sales\": 0.91, \"JP_Sales\": 0.26, \"Other_Sales\": 0.13, \"Global_Sales\": 4.34}, {\"Platform\": \"GEN\", \"Year\": 1992, \"NA_Sales\": 9.17, \"EU_Sales\": 2.38, \"JP_Sales\": 0.72, \"Other_Sales\": 0.37, \"Global_Sales\": 12.66}, {\"Platform\": \"GEN\", \"Year\": 1993, \"NA_Sales\": 0.0, \"EU_Sales\": 0.0, \"JP_Sales\": 0.6500000000000001, \"Other_Sales\": 0.0, \"Global_Sales\": 0.6500000000000001}, {\"Platform\": \"GEN\", \"Year\": 1994, \"NA_Sales\": 5.21, \"EU_Sales\": 1.6800000000000002, \"JP_Sales\": 0.93, \"Other_Sales\": 0.30999999999999994, \"Global_Sales\": 8.109999999999998}, {\"Platform\": \"GG\", \"Year\": 1992, \"NA_Sales\": 0.0, \"EU_Sales\": 0.0, \"JP_Sales\": 0.04, \"Other_Sales\": 0.0, \"Global_Sales\": 0.04}, {\"Platform\": \"N64\", \"Year\": 1996, \"NA_Sales\": 21.029999999999998, \"EU_Sales\": 6.720000000000001, \"JP_Sales\": 5.77, \"Other_Sales\": 0.5800000000000001, \"Global_Sales\": 34.10999999999999}, {\"Platform\": \"N64\", \"Year\": 1997, \"NA_Sales\": 25.839999999999993, \"EU_Sales\": 8.089999999999996, \"JP_Sales\": 4.829999999999999, \"Other_Sales\": 0.9400000000000004, \"Global_Sales\": 39.70999999999999}, {\"Platform\": \"N64\", \"Year\": 1998, \"NA_Sales\": 31.389999999999986, \"EU_Sales\": 10.349999999999993, \"JP_Sales\": 6.54, \"Other_Sales\": 0.9600000000000003, \"Global_Sales\": 49.28000000000002}, {\"Platform\": \"N64\", \"Year\": 1999, \"NA_Sales\": 38.77000000000001, \"EU_Sales\": 9.739999999999988, \"JP_Sales\": 8.83, \"Other_Sales\": 0.8600000000000003, \"Global_Sales\": 58.28999999999997}, {\"Platform\": \"N64\", \"Year\": 2000, \"NA_Sales\": 18.649999999999995, \"EU_Sales\": 5.619999999999997, \"JP_Sales\": 7.719999999999999, \"Other_Sales\": 0.9200000000000004, \"Global_Sales\": 34.14999999999999}, {\"Platform\": \"N64\", \"Year\": 2001, \"NA_Sales\": 2.08, \"EU_Sales\": 0.52, \"JP_Sales\": 0.53, \"Other_Sales\": 0.12, \"Global_Sales\": 3.2600000000000002}, {\"Platform\": \"N64\", \"Year\": 2002, \"NA_Sales\": 0.06, \"EU_Sales\": 0.02, \"JP_Sales\": 0.0, \"Other_Sales\": 0.0, \"Global_Sales\": 0.08}, {\"Platform\": \"NES\", \"Year\": 1983, \"NA_Sales\": 2.3200000000000003, \"EU_Sales\": 0.46, \"JP_Sales\": 8.1, \"Other_Sales\": 0.08, \"Global_Sales\": 10.959999999999999}, {\"Platform\": \"NES\", \"Year\": 1984, \"NA_Sales\": 33.02, \"EU_Sales\": 2.09, \"JP_Sales\": 14.269999999999998, \"Other_Sales\": 0.7000000000000002, \"Global_Sales\": 50.09000000000001}, {\"Platform\": \"NES\", \"Year\": 1985, \"NA_Sales\": 32.85, \"EU_Sales\": 4.68, \"JP_Sales\": 14.540000000000001, \"Other_Sales\": 0.9100000000000001, \"Global_Sales\": 53.44}, {\"Platform\": \"NES\", \"Year\": 1986, \"NA_Sales\": 11.870000000000001, \"EU_Sales\": 2.8000000000000007, \"JP_Sales\": 19.81, \"Other_Sales\": 1.9300000000000002, \"Global_Sales\": 36.410000000000004}, {\"Platform\": \"NES\", \"Year\": 1987, \"NA_Sales\": 6.620000000000001, \"EU_Sales\": 1.32, \"JP_Sales\": 11.63, \"Other_Sales\": 0.19000000000000003, \"Global_Sales\": 19.759999999999998}, {\"Platform\": \"NES\", \"Year\": 1988, \"NA_Sales\": 22.36, \"EU_Sales\": 6.300000000000001, \"JP_Sales\": 15.409999999999998, \"Other_Sales\": 0.9400000000000001, \"Global_Sales\": 45.01}, {\"Platform\": \"NES\", \"Year\": 1989, \"NA_Sales\": 4.75, \"EU_Sales\": 0.81, \"JP_Sales\": 2.2, \"Other_Sales\": 0.09, \"Global_Sales\": 7.849999999999999}, {\"Platform\": \"NES\", \"Year\": 1990, \"NA_Sales\": 6.08, \"EU_Sales\": 1.5900000000000003, \"JP_Sales\": 7.839999999999999, \"Other_Sales\": 0.22, \"Global_Sales\": 15.74}, {\"Platform\": \"NES\", \"Year\": 1991, \"NA_Sales\": 2.83, \"EU_Sales\": 0.52, \"JP_Sales\": 2.5999999999999996, \"Other_Sales\": 0.16, \"Global_Sales\": 6.11}, {\"Platform\": \"NES\", \"Year\": 1992, \"NA_Sales\": 0.8400000000000001, \"EU_Sales\": 0.14, \"JP_Sales\": 0.97, \"Other_Sales\": 0.03, \"Global_Sales\": 1.9800000000000002}, {\"Platform\": \"NES\", \"Year\": 1993, \"NA_Sales\": 1.9400000000000002, \"EU_Sales\": 0.44000000000000006, \"JP_Sales\": 1.17, \"Other_Sales\": 0.060000000000000005, \"Global_Sales\": 3.61}, {\"Platform\": \"NES\", \"Year\": 1994, \"NA_Sales\": 0.0, \"EU_Sales\": 0.0, \"JP_Sales\": 0.11, \"Other_Sales\": 0.0, \"Global_Sales\": 0.11}, {\"Platform\": \"NG\", \"Year\": 1993, \"NA_Sales\": 0.0, \"EU_Sales\": 0.0, \"JP_Sales\": 0.21000000000000002, \"Other_Sales\": 0.0, \"Global_Sales\": 0.21000000000000002}, {\"Platform\": \"NG\", \"Year\": 1994, \"NA_Sales\": 0.0, \"EU_Sales\": 0.0, \"JP_Sales\": 0.7999999999999999, \"Other_Sales\": 0.0, \"Global_Sales\": 0.7999999999999999}, {\"Platform\": \"NG\", \"Year\": 1995, \"NA_Sales\": 0.0, \"EU_Sales\": 0.0, \"JP_Sales\": 0.33000000000000007, \"Other_Sales\": 0.0, \"Global_Sales\": 0.33000000000000007}, {\"Platform\": \"NG\", \"Year\": 1996, \"NA_Sales\": 0.0, \"EU_Sales\": 0.0, \"JP_Sales\": 0.1, \"Other_Sales\": 0.0, \"Global_Sales\": 0.1}, {\"Platform\": \"PC\", \"Year\": 1985, \"NA_Sales\": 0.0, \"EU_Sales\": 0.03, \"JP_Sales\": 0.0, \"Other_Sales\": 0.01, \"Global_Sales\": 0.03}, {\"Platform\": \"PC\", \"Year\": 1988, \"NA_Sales\": 0.0, \"EU_Sales\": 0.02, \"JP_Sales\": 0.0, \"Other_Sales\": 0.01, \"Global_Sales\": 0.03}, {\"Platform\": \"PC\", \"Year\": 1992, \"NA_Sales\": 1.24, \"EU_Sales\": 1.66, \"JP_Sales\": 0.0, \"Other_Sales\": 0.11, \"Global_Sales\": 3.0199999999999996}, {\"Platform\": \"PC\", \"Year\": 1994, \"NA_Sales\": 5.549999999999999, \"EU_Sales\": 6.85, \"JP_Sales\": 0.0, \"Other_Sales\": 0.45999999999999996, \"Global_Sales\": 12.85}, {\"Platform\": \"PC\", \"Year\": 1995, \"NA_Sales\": 1.71, \"EU_Sales\": 2.27, \"JP_Sales\": 0.0, \"Other_Sales\": 0.23, \"Global_Sales\": 4.2299999999999995}, {\"Platform\": \"PC\", \"Year\": 1996, \"NA_Sales\": 5.56, \"EU_Sales\": 4.680000000000001, \"JP_Sales\": 0.0, \"Other_Sales\": 0.34, \"Global_Sales\": 10.59}, {\"Platform\": \"PC\", \"Year\": 1997, \"NA_Sales\": 8.76, \"EU_Sales\": 2.1899999999999995, \"JP_Sales\": 0.09, \"Other_Sales\": 0.23, \"Global_Sales\": 11.260000000000002}, {\"Platform\": \"PC\", \"Year\": 1998, \"NA_Sales\": 3.05, \"EU_Sales\": 0.19999999999999998, \"JP_Sales\": 0.0, \"Other_Sales\": 0.03, \"Global_Sales\": 3.2800000000000002}, {\"Platform\": \"PC\", \"Year\": 1999, \"NA_Sales\": 3.52, \"EU_Sales\": 1.1600000000000001, \"JP_Sales\": 0.0, \"Other_Sales\": 0.13, \"Global_Sales\": 4.799999999999999}, {\"Platform\": \"PC\", \"Year\": 2000, \"NA_Sales\": 3.03, \"EU_Sales\": 1.4400000000000002, \"JP_Sales\": 0.0, \"Other_Sales\": 0.18, \"Global_Sales\": 4.679999999999999}, {\"Platform\": \"PC\", \"Year\": 2001, \"NA_Sales\": 4.08, \"EU_Sales\": 1.2400000000000002, \"JP_Sales\": 0.0, \"Other_Sales\": 0.18000000000000005, \"Global_Sales\": 5.51}, {\"Platform\": \"PC\", \"Year\": 2002, \"NA_Sales\": 5.0299999999999985, \"EU_Sales\": 3.169999999999998, \"JP_Sales\": 0.0, \"Other_Sales\": 0.3700000000000001, \"Global_Sales\": 8.599999999999996}, {\"Platform\": \"PC\", \"Year\": 2003, \"NA_Sales\": 3.389999999999999, \"EU_Sales\": 4.049999999999998, \"JP_Sales\": 0.0, \"Other_Sales\": 0.6000000000000001, \"Global_Sales\": 8.959999999999988}, {\"Platform\": \"PC\", \"Year\": 2004, \"NA_Sales\": 2.5299999999999985, \"EU_Sales\": 7.519999999999996, \"JP_Sales\": 0.08, \"Other_Sales\": 0.26000000000000006, \"Global_Sales\": 10.459999999999992}, {\"Platform\": \"PC\", \"Year\": 2005, \"NA_Sales\": 1.3800000000000001, \"EU_Sales\": 2.669999999999998, \"JP_Sales\": 0.0, \"Other_Sales\": 0.3500000000000001, \"Global_Sales\": 4.469999999999995}, {\"Platform\": \"PC\", \"Year\": 2006, \"NA_Sales\": 0.6000000000000001, \"EU_Sales\": 1.9200000000000008, \"JP_Sales\": 0.0, \"Other_Sales\": 0.3900000000000001, \"Global_Sales\": 2.969999999999998}, {\"Platform\": \"PC\", \"Year\": 2007, \"NA_Sales\": 2.7599999999999962, \"EU_Sales\": 6.219999999999992, \"JP_Sales\": 0.0, \"Other_Sales\": 0.3700000000000002, \"Global_Sales\": 9.399999999999984}, {\"Platform\": \"PC\", \"Year\": 2008, \"NA_Sales\": 0.6400000000000001, \"EU_Sales\": 9.89999999999998, \"JP_Sales\": 0.0, \"Other_Sales\": 2.1599999999999975, \"Global_Sales\": 12.839999999999975}, {\"Platform\": \"PC\", \"Year\": 2009, \"NA_Sales\": 1.3300000000000003, \"EU_Sales\": 13.50999999999997, \"JP_Sales\": 0.0, \"Other_Sales\": 2.2899999999999943, \"Global_Sales\": 17.160000000000043}, {\"Platform\": \"PC\", \"Year\": 2010, \"NA_Sales\": 9.729999999999993, \"EU_Sales\": 13.099999999999984, \"JP_Sales\": 0.0, \"Other_Sales\": 3.4799999999999933, \"Global_Sales\": 26.340000000000007}, {\"Platform\": \"PC\", \"Year\": 2011, \"NA_Sales\": 11.009999999999996, \"EU_Sales\": 19.28000000000003, \"JP_Sales\": 0.0, \"Other_Sales\": 5.749999999999985, \"Global_Sales\": 36.110000000000035}, {\"Platform\": \"PC\", \"Year\": 2012, \"NA_Sales\": 7.959999999999999, \"EU_Sales\": 12.359999999999996, \"JP_Sales\": 0.0, \"Other_Sales\": 3.189999999999995, \"Global_Sales\": 23.540000000000003}, {\"Platform\": \"PC\", \"Year\": 2013, \"NA_Sales\": 3.9800000000000004, \"EU_Sales\": 7.079999999999998, \"JP_Sales\": 0.0, \"Other_Sales\": 1.7100000000000006, \"Global_Sales\": 13.589999999999993}, {\"Platform\": \"PC\", \"Year\": 2014, \"NA_Sales\": 3.4, \"EU_Sales\": 8.619999999999996, \"JP_Sales\": 0.0, \"Other_Sales\": 1.3100000000000007, \"Global_Sales\": 13.389999999999993}, {\"Platform\": \"PC\", \"Year\": 2015, \"NA_Sales\": 2.2, \"EU_Sales\": 5.279999999999997, \"JP_Sales\": 0.0, \"Other_Sales\": 0.5500000000000002, \"Global_Sales\": 8.069999999999997}, {\"Platform\": \"PC\", \"Year\": 2016, \"NA_Sales\": 0.8400000000000001, \"EU_Sales\": 1.6200000000000006, \"JP_Sales\": 0.0, \"Other_Sales\": 0.17000000000000004, \"Global_Sales\": 2.6399999999999975}, {\"Platform\": \"PCFX\", \"Year\": 1996, \"NA_Sales\": 0.0, \"EU_Sales\": 0.0, \"JP_Sales\": 0.03, \"Other_Sales\": 0.0, \"Global_Sales\": 0.03}, {\"Platform\": \"PS\", \"Year\": 1994, \"NA_Sales\": 1.7600000000000005, \"EU_Sales\": 1.2000000000000002, \"JP_Sales\": 2.67, \"Other_Sales\": 0.40000000000000013, \"Global_Sales\": 6.020000000000001}, {\"Platform\": \"PS\", \"Year\": 1995, \"NA_Sales\": 14.60999999999999, \"EU_Sales\": 9.659999999999988, \"JP_Sales\": 9.539999999999992, \"Other_Sales\": 1.960000000000001, \"Global_Sales\": 35.92000000000002}, {\"Platform\": \"PS\", \"Year\": 1996, \"NA_Sales\": 45.419999999999995, \"EU_Sales\": 25.920000000000023, \"JP_Sales\": 17.820000000000004, \"Other_Sales\": 5.539999999999983, \"Global_Sales\": 94.67999999999999}, {\"Platform\": \"PS\", \"Year\": 1997, \"NA_Sales\": 57.61000000000001, \"EU_Sales\": 37.13999999999998, \"JP_Sales\": 33.10000000000001, \"Other_Sales\": 7.869999999999979, \"Global_Sales\": 136.0799999999999}, {\"Platform\": \"PS\", \"Year\": 1998, \"NA_Sales\": 84.03000000000003, \"EU_Sales\": 49.09000000000005, \"JP_Sales\": 28.519999999999992, \"Other_Sales\": 9.149999999999972, \"Global_Sales\": 171.08}, {\"Platform\": \"PS\", \"Year\": 1999, \"NA_Sales\": 66.07000000000006, \"EU_Sales\": 43.00000000000001, \"JP_Sales\": 28.069999999999997, \"Other_Sales\": 7.989999999999982, \"Global_Sales\": 145.6100000000001}, {\"Platform\": \"PS\", \"Year\": 2000, \"NA_Sales\": 46.15, \"EU_Sales\": 30.680000000000007, \"JP_Sales\": 14.599999999999994, \"Other_Sales\": 5.309999999999975, \"Global_Sales\": 96.66999999999993}, {\"Platform\": \"PS\", \"Year\": 2001, \"NA_Sales\": 16.03, \"EU_Sales\": 13.849999999999996, \"JP_Sales\": 3.8599999999999994, \"Other_Sales\": 2.189999999999997, \"Global_Sales\": 35.86000000000002}, {\"Platform\": \"PS\", \"Year\": 2002, \"NA_Sales\": 2.7799999999999994, \"EU_Sales\": 1.8900000000000003, \"JP_Sales\": 1.6400000000000003, \"Other_Sales\": 0.3600000000000001, \"Global_Sales\": 6.689999999999998}, {\"Platform\": \"PS\", \"Year\": 2003, \"NA_Sales\": 1.15, \"EU_Sales\": 0.78, \"JP_Sales\": 0.0, \"Other_Sales\": 0.14, \"Global_Sales\": 2.05}, {\"Platform\": \"PS2\", \"Year\": 2000, \"NA_Sales\": 14.89, \"EU_Sales\": 10.639999999999997, \"JP_Sales\": 8.870000000000005, \"Other_Sales\": 3.579999999999996, \"Global_Sales\": 39.11000000000001}, {\"Platform\": \"PS2\", \"Year\": 2001, \"NA_Sales\": 79.41999999999994, \"EU_Sales\": 52.52000000000004, \"JP_Sales\": 18.0, \"Other_Sales\": 16.830000000000016, \"Global_Sales\": 166.83000000000007}, {\"Platform\": \"PS2\", \"Year\": 2002, \"NA_Sales\": 98.83999999999997, \"EU_Sales\": 67.07000000000002, \"JP_Sales\": 22.380000000000006, \"Other_Sales\": 22.330000000000055, \"Global_Sales\": 210.64000000000004}, {\"Platform\": \"PS2\", \"Year\": 2003, \"NA_Sales\": 88.92999999999999, \"EU_Sales\": 64.24000000000002, \"JP_Sales\": 19.329999999999995, \"Other_Sales\": 22.050000000000026, \"Global_Sales\": 194.27999999999994}, {\"Platform\": \"PS2\", \"Year\": 2004, \"NA_Sales\": 96.68999999999993, \"EU_Sales\": 56.25000000000003, \"JP_Sales\": 19.17, \"Other_Sales\": 39.930000000000014, \"Global_Sales\": 212.39999999999992}, {\"Platform\": \"PS2\", \"Year\": 2005, \"NA_Sales\": 87.29000000000003, \"EU_Sales\": 41.99999999999999, \"JP_Sales\": 15.17, \"Other_Sales\": 19.60000000000007, \"Global_Sales\": 164.08000000000015}, {\"Platform\": \"PS2\", \"Year\": 2006, \"NA_Sales\": 50.059999999999995, \"EU_Sales\": 21.710000000000033, \"JP_Sales\": 18.430000000000003, \"Other_Sales\": 14.269999999999984, \"Global_Sales\": 104.46999999999998}, {\"Platform\": \"PS2\", \"Year\": 2007, \"NA_Sales\": 32.849999999999994, \"EU_Sales\": 10.54999999999999, \"JP_Sales\": 9.819999999999974, \"Other_Sales\": 24.06000000000003, \"Global_Sales\": 77.27}, {\"Platform\": \"PS2\", \"Year\": 2008, \"NA_Sales\": 21.23, \"EU_Sales\": 7.449999999999993, \"JP_Sales\": 5.729999999999991, \"Other_Sales\": 19.310000000000034, \"Global_Sales\": 53.830000000000034}, {\"Platform\": \"PS2\", \"Year\": 2009, \"NA_Sales\": 9.360000000000003, \"EU_Sales\": 4.939999999999997, \"JP_Sales\": 1.9400000000000008, \"Other_Sales\": 10.159999999999993, \"Global_Sales\": 26.45}, {\"Platform\": \"PS2\", \"Year\": 2010, \"NA_Sales\": 2.1899999999999995, \"EU_Sales\": 1.5400000000000005, \"JP_Sales\": 0.7100000000000002, \"Other_Sales\": 1.2000000000000002, \"Global_Sales\": 5.629999999999995}, {\"Platform\": \"PS2\", \"Year\": 2011, \"NA_Sales\": 0.22, \"EU_Sales\": 0.19999999999999998, \"JP_Sales\": 0.09, \"Other_Sales\": 0.12, \"Global_Sales\": 0.6500000000000001}, {\"Platform\": \"PS3\", \"Year\": 1988, \"NA_Sales\": 0.13, \"EU_Sales\": 0.02, \"JP_Sales\": 0.0, \"Other_Sales\": 0.02, \"Global_Sales\": 0.17}, {\"Platform\": \"PS3\", \"Year\": 2006, \"NA_Sales\": 8.83, \"EU_Sales\": 7.949999999999998, \"JP_Sales\": 1.07, \"Other_Sales\": 3.69, \"Global_Sales\": 21.550000000000004}, {\"Platform\": \"PS3\", \"Year\": 2007, \"NA_Sales\": 32.969999999999985, \"EU_Sales\": 27.000000000000014, \"JP_Sales\": 4.27, \"Other_Sales\": 11.129999999999987, \"Global_Sales\": 75.48000000000005}, {\"Platform\": \"PS3\", \"Year\": 2008, \"NA_Sales\": 56.66, \"EU_Sales\": 39.99999999999999, \"JP_Sales\": 5.839999999999997, \"Other_Sales\": 17.22000000000002, \"Global_Sales\": 120.76000000000002}, {\"Platform\": \"PS3\", \"Year\": 2009, \"NA_Sales\": 62.880000000000024, \"EU_Sales\": 41.99, \"JP_Sales\": 9.059999999999993, \"Other_Sales\": 18.28000000000004, \"Global_Sales\": 132.62999999999997}, {\"Platform\": \"PS3\", \"Year\": 2010, \"NA_Sales\": 61.370000000000005, \"EU_Sales\": 52.48000000000002, \"JP_Sales\": 10.519999999999992, \"Other_Sales\": 21.58000000000003, \"Global_Sales\": 145.9800000000001}, {\"Platform\": \"PS3\", \"Year\": 2011, \"NA_Sales\": 65.10000000000004, \"EU_Sales\": 59.650000000000006, \"JP_Sales\": 14.13999999999999, \"Other_Sales\": 22.880000000000067, \"Global_Sales\": 162.3200000000001}, {\"Platform\": \"PS3\", \"Year\": 2012, \"NA_Sales\": 39.86, \"EU_Sales\": 40.55, \"JP_Sales\": 11.939999999999989, \"Other_Sales\": 17.13000000000001, \"Global_Sales\": 109.56000000000002}, {\"Platform\": \"PS3\", \"Year\": 2013, \"NA_Sales\": 41.31000000000001, \"EU_Sales\": 43.95000000000003, \"JP_Sales\": 12.119999999999989, \"Other_Sales\": 19.380000000000017, \"Global_Sales\": 117.60999999999994}, {\"Platform\": \"PS3\", \"Year\": 2014, \"NA_Sales\": 16.13, \"EU_Sales\": 20.569999999999997, \"JP_Sales\": 6.229999999999993, \"Other_Sales\": 8.049999999999988, \"Global_Sales\": 50.97000000000002}, {\"Platform\": \"PS3\", \"Year\": 2015, \"NA_Sales\": 4.319999999999998, \"EU_Sales\": 7.429999999999998, \"JP_Sales\": 3.669999999999997, \"Other_Sales\": 2.3499999999999983, \"Global_Sales\": 18.220000000000002}, {\"Platform\": \"PS3\", \"Year\": 2016, \"NA_Sales\": 0.4, \"EU_Sales\": 0.8000000000000002, \"JP_Sales\": 1.1300000000000003, \"Other_Sales\": 0.22000000000000006, \"Global_Sales\": 2.59}, {\"Platform\": \"PS4\", \"Year\": 2013, \"NA_Sales\": 10.09, \"EU_Sales\": 10.990000000000002, \"JP_Sales\": 0.9299999999999999, \"Other_Sales\": 2.7499999999999996, \"Global_Sales\": 24.760000000000005}, {\"Platform\": \"PS4\", \"Year\": 2014, \"NA_Sales\": 34.09, \"EU_Sales\": 44.800000000000004, \"JP_Sales\": 2.919999999999999, \"Other_Sales\": 17.02, \"Global_Sales\": 98.76000000000003}, {\"Platform\": \"PS4\", \"Year\": 2015, \"NA_Sales\": 40.760000000000055, \"EU_Sales\": 50.43, \"JP_Sales\": 6.189999999999993, \"Other_Sales\": 17.86000000000003, \"Global_Sales\": 115.29999999999997}, {\"Platform\": \"PS4\", \"Year\": 2016, \"NA_Sales\": 11.859999999999992, \"EU_Sales\": 17.480000000000008, \"JP_Sales\": 4.229999999999995, \"Other_Sales\": 5.729999999999992, \"Global_Sales\": 39.25000000000002}, {\"Platform\": \"PS4\", \"Year\": 2017, \"NA_Sales\": 0.0, \"EU_Sales\": 0.0, \"JP_Sales\": 0.03, \"Other_Sales\": 0.0, \"Global_Sales\": 0.03}, {\"Platform\": \"PSP\", \"Year\": 2004, \"NA_Sales\": 2.249999999999999, \"EU_Sales\": 1.7199999999999998, \"JP_Sales\": 2.03, \"Other_Sales\": 1.09, \"Global_Sales\": 7.13}, {\"Platform\": \"PSP\", \"Year\": 2005, \"NA_Sales\": 24.480000000000004, \"EU_Sales\": 9.909999999999993, \"JP_Sales\": 3.229999999999999, \"Other_Sales\": 6.559999999999986, \"Global_Sales\": 44.23000000000001}, {\"Platform\": \"PSP\", \"Year\": 2006, \"NA_Sales\": 28.700000000000003, \"EU_Sales\": 13.849999999999987, \"JP_Sales\": 4.389999999999994, \"Other_Sales\": 9.189999999999978, \"Global_Sales\": 56.82000000000004}, {\"Platform\": \"PSP\", \"Year\": 2007, \"NA_Sales\": 18.470000000000006, \"EU_Sales\": 14.52999999999999, \"JP_Sales\": 5.779999999999995, \"Other_Sales\": 8.89999999999999, \"Global_Sales\": 47.86000000000004}, {\"Platform\": \"PSP\", \"Year\": 2008, \"NA_Sales\": 12.450000000000001, \"EU_Sales\": 8.929999999999994, \"JP_Sales\": 10.329999999999991, \"Other_Sales\": 5.219999999999989, \"Global_Sales\": 36.93000000000004}, {\"Platform\": \"PSP\", \"Year\": 2009, \"NA_Sales\": 12.500000000000004, \"EU_Sales\": 10.919999999999991, \"JP_Sales\": 8.189999999999994, \"Other_Sales\": 6.449999999999989, \"Global_Sales\": 38.13000000000004}, {\"Platform\": \"PSP\", \"Year\": 2010, \"NA_Sales\": 7.4, \"EU_Sales\": 5.959999999999996, \"JP_Sales\": 18.430000000000025, \"Other_Sales\": 3.649999999999996, \"Global_Sales\": 35.38000000000007}, {\"Platform\": \"PSP\", \"Year\": 2011, \"NA_Sales\": 2.1499999999999995, \"EU_Sales\": 1.5600000000000005, \"JP_Sales\": 13.819999999999977, \"Other_Sales\": 0.9200000000000004, \"Global_Sales\": 18.41}, {\"Platform\": \"PSP\", \"Year\": 2012, \"NA_Sales\": 0.13, \"EU_Sales\": 0.26, \"JP_Sales\": 7.299999999999989, \"Other_Sales\": 0.14, \"Global_Sales\": 7.83999999999999}, {\"Platform\": \"PSP\", \"Year\": 2013, \"NA_Sales\": 0.0, \"EU_Sales\": 0.19, \"JP_Sales\": 2.9299999999999966, \"Other_Sales\": 0.07, \"Global_Sales\": 3.189999999999996}, {\"Platform\": \"PSP\", \"Year\": 2014, \"NA_Sales\": 0.0, \"EU_Sales\": 0.0, \"JP_Sales\": 0.24000000000000005, \"Other_Sales\": 0.0, \"Global_Sales\": 0.24000000000000005}, {\"Platform\": \"PSP\", \"Year\": 2015, \"NA_Sales\": 0.0, \"EU_Sales\": 0.0, \"JP_Sales\": 0.12000000000000001, \"Other_Sales\": 0.0, \"Global_Sales\": 0.12000000000000001}, {\"Platform\": \"PSV\", \"Year\": 2008, \"NA_Sales\": 0.13, \"EU_Sales\": 0.06, \"JP_Sales\": 0.07, \"Other_Sales\": 0.04, \"Global_Sales\": 0.3}, {\"Platform\": \"PSV\", \"Year\": 2011, \"NA_Sales\": 1.7200000000000002, \"EU_Sales\": 1.8900000000000003, \"JP_Sales\": 0.8000000000000002, \"Other_Sales\": 0.7900000000000003, \"Global_Sales\": 5.1499999999999995}, {\"Platform\": \"PSV\", \"Year\": 2012, \"NA_Sales\": 6.919999999999996, \"EU_Sales\": 6.169999999999997, \"JP_Sales\": 2.4499999999999997, \"Other_Sales\": 3.0499999999999994, \"Global_Sales\": 18.530000000000005}, {\"Platform\": \"PSV\", \"Year\": 2013, \"NA_Sales\": 3.489999999999999, \"EU_Sales\": 3.1499999999999977, \"JP_Sales\": 4.049999999999997, \"Other_Sales\": 1.9400000000000008, \"Global_Sales\": 12.690000000000001}, {\"Platform\": \"PSV\", \"Year\": 2014, \"NA_Sales\": 3.2099999999999986, \"EU_Sales\": 3.4799999999999973, \"JP_Sales\": 6.04999999999999, \"Other_Sales\": 2.0100000000000002, \"Global_Sales\": 14.73999999999999}, {\"Platform\": \"PSV\", \"Year\": 2015, \"NA_Sales\": 0.5400000000000001, \"EU_Sales\": 1.2800000000000005, \"JP_Sales\": 4.769999999999982, \"Other_Sales\": 0.4800000000000002, \"Global_Sales\": 7.09999999999999}, {\"Platform\": \"PSV\", \"Year\": 2016, \"NA_Sales\": 0.19, \"EU_Sales\": 0.30000000000000004, \"JP_Sales\": 2.7499999999999973, \"Other_Sales\": 0.14, \"Global_Sales\": 3.399999999999996}, {\"Platform\": \"PSV\", \"Year\": 2017, \"NA_Sales\": 0.0, \"EU_Sales\": 0.0, \"JP_Sales\": 0.02, \"Other_Sales\": 0.0, \"Global_Sales\": 0.02}, {\"Platform\": \"SAT\", \"Year\": 1994, \"NA_Sales\": 0.17, \"EU_Sales\": 0.12, \"JP_Sales\": 3.3400000000000007, \"Other_Sales\": 0.02, \"Global_Sales\": 3.6400000000000006}, {\"Platform\": \"SAT\", \"Year\": 1995, \"NA_Sales\": 0.55, \"EU_Sales\": 0.42000000000000004, \"JP_Sales\": 10.549999999999999, \"Other_Sales\": 0.05, \"Global_Sales\": 11.579999999999998}, {\"Platform\": \"SAT\", \"Year\": 1996, \"NA_Sales\": 0.0, \"EU_Sales\": 0.0, \"JP_Sales\": 7.69, \"Other_Sales\": 0.0, \"Global_Sales\": 7.69}, {\"Platform\": \"SAT\", \"Year\": 1997, \"NA_Sales\": 0.0, \"EU_Sales\": 0.0, \"JP_Sales\": 6.7700000000000005, \"Other_Sales\": 0.0, \"Global_Sales\": 6.7700000000000005}, {\"Platform\": \"SAT\", \"Year\": 1998, \"NA_Sales\": 0.0, \"EU_Sales\": 0.0, \"JP_Sales\": 3.819999999999999, \"Other_Sales\": 0.0, \"Global_Sales\": 3.819999999999999}, {\"Platform\": \"SAT\", \"Year\": 1999, \"NA_Sales\": 0.0, \"EU_Sales\": 0.0, \"JP_Sales\": 0.09, \"Other_Sales\": 0.0, \"Global_Sales\": 0.09}, {\"Platform\": \"SCD\", \"Year\": 1993, \"NA_Sales\": 0.0, \"EU_Sales\": 0.36, \"JP_Sales\": 0.09, \"Other_Sales\": 0.05, \"Global_Sales\": 1.5}, {\"Platform\": \"SCD\", \"Year\": 1994, \"NA_Sales\": 0.0, \"EU_Sales\": 0.0, \"JP_Sales\": 0.36, \"Other_Sales\": 0.0, \"Global_Sales\": 0.37}, {\"Platform\": \"SNES\", \"Year\": 1990, \"NA_Sales\": 15.28, \"EU_Sales\": 4.6, \"JP_Sales\": 5.6, \"Other_Sales\": 0.6700000000000002, \"Global_Sales\": 26.16}, {\"Platform\": \"SNES\", \"Year\": 1991, \"NA_Sales\": 5.470000000000001, \"EU_Sales\": 1.8400000000000005, \"JP_Sales\": 8.540000000000001, \"Other_Sales\": 0.37000000000000005, \"Global_Sales\": 16.21}, {\"Platform\": \"SNES\", \"Year\": 1992, \"NA_Sales\": 9.52, \"EU_Sales\": 3.29, \"JP_Sales\": 19.669999999999998, \"Other_Sales\": 0.5, \"Global_Sales\": 32.97999999999999}, {\"Platform\": \"SNES\", \"Year\": 1993, \"NA_Sales\": 12.180000000000001, \"EU_Sales\": 3.85, \"JP_Sales\": 23.21, \"Other_Sales\": 0.78, \"Global_Sales\": 40.010000000000005}, {\"Platform\": \"SNES\", \"Year\": 1994, \"NA_Sales\": 9.43, \"EU_Sales\": 2.6700000000000004, \"JP_Sales\": 22.570000000000004, \"Other_Sales\": 0.41000000000000003, \"Global_Sales\": 35.08}, {\"Platform\": \"SNES\", \"Year\": 1995, \"NA_Sales\": 7.260000000000001, \"EU_Sales\": 2.2199999999999998, \"JP_Sales\": 22.370000000000005, \"Other_Sales\": 0.3500000000000001, \"Global_Sales\": 32.21000000000001}, {\"Platform\": \"SNES\", \"Year\": 1996, \"NA_Sales\": 2.09, \"EU_Sales\": 0.5700000000000001, \"JP_Sales\": 13.119999999999997, \"Other_Sales\": 0.14, \"Global_Sales\": 15.929999999999996}, {\"Platform\": \"SNES\", \"Year\": 1997, \"NA_Sales\": 0.0, \"EU_Sales\": 0.0, \"JP_Sales\": 0.99, \"Other_Sales\": 0.0, \"Global_Sales\": 0.99}, {\"Platform\": \"SNES\", \"Year\": 1998, \"NA_Sales\": 0.0, \"EU_Sales\": 0.0, \"JP_Sales\": 0.22000000000000003, \"Other_Sales\": 0.0, \"Global_Sales\": 0.22000000000000003}, {\"Platform\": \"SNES\", \"Year\": 1999, \"NA_Sales\": 0.0, \"EU_Sales\": 0.0, \"JP_Sales\": 0.26, \"Other_Sales\": 0.0, \"Global_Sales\": 0.26}, {\"Platform\": \"TG16\", \"Year\": 1995, \"NA_Sales\": 0.0, \"EU_Sales\": 0.0, \"JP_Sales\": 0.16, \"Other_Sales\": 0.0, \"Global_Sales\": 0.16}, {\"Platform\": \"WS\", \"Year\": 1999, \"NA_Sales\": 0.0, \"EU_Sales\": 0.0, \"JP_Sales\": 0.46, \"Other_Sales\": 0.0, \"Global_Sales\": 0.46}, {\"Platform\": \"WS\", \"Year\": 2000, \"NA_Sales\": 0.0, \"EU_Sales\": 0.0, \"JP_Sales\": 0.68, \"Other_Sales\": 0.0, \"Global_Sales\": 0.68}, {\"Platform\": \"WS\", \"Year\": 2001, \"NA_Sales\": 0.0, \"EU_Sales\": 0.0, \"JP_Sales\": 0.28, \"Other_Sales\": 0.0, \"Global_Sales\": 0.28}, {\"Platform\": \"Wii\", \"Year\": 2006, \"NA_Sales\": 73.38000000000001, \"EU_Sales\": 44.72999999999999, \"JP_Sales\": 9.289999999999997, \"Other_Sales\": 13.86999999999999, \"Global_Sales\": 141.34000000000003}, {\"Platform\": \"Wii\", \"Year\": 2007, \"NA_Sales\": 85.96000000000004, \"EU_Sales\": 45.08999999999998, \"JP_Sales\": 12.119999999999987, \"Other_Sales\": 14.019999999999966, \"Global_Sales\": 157.82999999999996}, {\"Platform\": \"Wii\", \"Year\": 2008, \"NA_Sales\": 101.33000000000007, \"EU_Sales\": 48.56999999999999, \"JP_Sales\": 12.769999999999987, \"Other_Sales\": 15.769999999999953, \"Global_Sales\": 179.87999999999994}, {\"Platform\": \"Wii\", \"Year\": 2009, \"NA_Sales\": 116.83999999999993, \"EU_Sales\": 59.35999999999997, \"JP_Sales\": 16.61, \"Other_Sales\": 17.810000000000123, \"Global_Sales\": 210.8000000000002}, {\"Platform\": \"Wii\", \"Year\": 2010, \"NA_Sales\": 76.2400000000001, \"EU_Sales\": 37.020000000000024, \"JP_Sales\": 8.799999999999997, \"Other_Sales\": 10.58999999999995, \"Global_Sales\": 133.56000000000023}, {\"Platform\": \"Wii\", \"Year\": 2011, \"NA_Sales\": 33.80999999999998, \"EU_Sales\": 19.010000000000005, \"JP_Sales\": 6.35, \"Other_Sales\": 5.669999999999981, \"Global_Sales\": 65.13}, {\"Platform\": \"Wii\", \"Year\": 2012, \"NA_Sales\": 11.479999999999999, \"EU_Sales\": 6.39, \"JP_Sales\": 3.3400000000000003, \"Other_Sales\": 1.5900000000000005, \"Global_Sales\": 22.800000000000004}, {\"Platform\": \"Wii\", \"Year\": 2013, \"NA_Sales\": 4.909999999999999, \"EU_Sales\": 3.609999999999999, \"JP_Sales\": 0.05, \"Other_Sales\": 0.8100000000000002, \"Global_Sales\": 9.359999999999998}, {\"Platform\": \"Wii\", \"Year\": 2014, \"NA_Sales\": 1.82, \"EU_Sales\": 2.25, \"JP_Sales\": 0.0, \"Other_Sales\": 0.36000000000000004, \"Global_Sales\": 4.439999999999999}, {\"Platform\": \"Wii\", \"Year\": 2015, \"NA_Sales\": 0.5700000000000001, \"EU_Sales\": 0.8700000000000001, \"JP_Sales\": 0.0, \"Other_Sales\": 0.12000000000000001, \"Global_Sales\": 1.55}, {\"Platform\": \"WiiU\", \"Year\": 2012, \"NA_Sales\": 9.129999999999999, \"EU_Sales\": 5.250000000000002, \"JP_Sales\": 2.1299999999999994, \"Other_Sales\": 1.2800000000000005, \"Global_Sales\": 17.840000000000003}, {\"Platform\": \"WiiU\", \"Year\": 2013, \"NA_Sales\": 10.15, \"EU_Sales\": 6.599999999999999, \"JP_Sales\": 3.5399999999999987, \"Other_Sales\": 1.5200000000000005, \"Global_Sales\": 21.84}, {\"Platform\": \"WiiU\", \"Year\": 2014, \"NA_Sales\": 10.78, \"EU_Sales\": 6.489999999999999, \"JP_Sales\": 3.1599999999999997, \"Other_Sales\": 2.1099999999999994, \"Global_Sales\": 22.509999999999994}, {\"Platform\": \"WiiU\", \"Year\": 2015, \"NA_Sales\": 6.770000000000001, \"EU_Sales\": 4.3999999999999995, \"JP_Sales\": 3.4099999999999993, \"Other_Sales\": 1.2900000000000003, \"Global_Sales\": 16.380000000000003}, {\"Platform\": \"WiiU\", \"Year\": 2016, \"NA_Sales\": 1.49, \"EU_Sales\": 0.99, \"JP_Sales\": 0.55, \"Other_Sales\": 0.25, \"Global_Sales\": 3.2899999999999996}, {\"Platform\": \"X360\", \"Year\": 2005, \"NA_Sales\": 7.670000000000002, \"EU_Sales\": 0.5200000000000002, \"JP_Sales\": 0.29000000000000004, \"Other_Sales\": 0.6800000000000003, \"Global_Sales\": 9.179999999999998}, {\"Platform\": \"X360\", \"Year\": 2006, \"NA_Sales\": 35.3, \"EU_Sales\": 11.159999999999988, \"JP_Sales\": 1.2000000000000004, \"Other_Sales\": 4.479999999999989, \"Global_Sales\": 52.089999999999996}, {\"Platform\": \"X360\", \"Year\": 2007, \"NA_Sales\": 64.87999999999997, \"EU_Sales\": 22.920000000000016, \"JP_Sales\": 1.5200000000000002, \"Other_Sales\": 8.94999999999998, \"Global_Sales\": 98.31999999999992}, {\"Platform\": \"X360\", \"Year\": 2008, \"NA_Sales\": 83.43000000000005, \"EU_Sales\": 39.199999999999996, \"JP_Sales\": 1.9500000000000006, \"Other_Sales\": 12.849999999999989, \"Global_Sales\": 137.53000000000006}, {\"Platform\": \"X360\", \"Year\": 2009, \"NA_Sales\": 74.39999999999999, \"EU_Sales\": 34.12000000000001, \"JP_Sales\": 1.9600000000000009, \"Other_Sales\": 11.149999999999975, \"Global_Sales\": 121.56000000000002}, {\"Platform\": \"X360\", \"Year\": 2010, \"NA_Sales\": 106.54999999999995, \"EU_Sales\": 47.110000000000056, \"JP_Sales\": 2.1100000000000008, \"Other_Sales\": 14.269999999999975, \"Global_Sales\": 171.75000000000003}, {\"Platform\": \"X360\", \"Year\": 2011, \"NA_Sales\": 88.70999999999998, \"EU_Sales\": 45.01000000000004, \"JP_Sales\": 1.8300000000000012, \"Other_Sales\": 13.059999999999961, \"Global_Sales\": 148.6600000000002}, {\"Platform\": \"X360\", \"Year\": 2012, \"NA_Sales\": 57.48000000000001, \"EU_Sales\": 31.87, \"JP_Sales\": 1.0600000000000005, \"Other_Sales\": 8.269999999999992, \"Global_Sales\": 100.94999999999992}, {\"Platform\": \"X360\", \"Year\": 2013, \"NA_Sales\": 53.12999999999998, \"EU_Sales\": 28.56000000000002, \"JP_Sales\": 0.4300000000000001, \"Other_Sales\": 7.439999999999997, \"Global_Sales\": 89.61000000000001}, {\"Platform\": \"X360\", \"Year\": 2014, \"NA_Sales\": 20.090000000000007, \"EU_Sales\": 13.080000000000002, \"JP_Sales\": 0.08, \"Other_Sales\": 3.1799999999999957, \"Global_Sales\": 36.41999999999998}, {\"Platform\": \"X360\", \"Year\": 2015, \"NA_Sales\": 7.1099999999999985, \"EU_Sales\": 4.769999999999997, \"JP_Sales\": 0.0, \"Other_Sales\": 1.1400000000000003, \"Global_Sales\": 13.049999999999999}, {\"Platform\": \"X360\", \"Year\": 2016, \"NA_Sales\": 0.36000000000000004, \"EU_Sales\": 0.4000000000000001, \"JP_Sales\": 0.0, \"Other_Sales\": 0.07, \"Global_Sales\": 0.8300000000000001}, {\"Platform\": \"XB\", \"Year\": 1999, \"NA_Sales\": 0.77, \"EU_Sales\": 0.11, \"JP_Sales\": 0.0, \"Other_Sales\": 0.04, \"Global_Sales\": 0.91}, {\"Platform\": \"XB\", \"Year\": 2000, \"NA_Sales\": 0.74, \"EU_Sales\": 0.21, \"JP_Sales\": 0.0, \"Other_Sales\": 0.04, \"Global_Sales\": 0.99}, {\"Platform\": \"XB\", \"Year\": 2001, \"NA_Sales\": 17.29, \"EU_Sales\": 4.709999999999998, \"JP_Sales\": 0.37, \"Other_Sales\": 0.6600000000000003, \"Global_Sales\": 23.01999999999999}, {\"Platform\": \"XB\", \"Year\": 2002, \"NA_Sales\": 36.0, \"EU_Sales\": 12.579999999999963, \"JP_Sales\": 0.49000000000000005, \"Other_Sales\": 1.8000000000000012, \"Global_Sales\": 50.99000000000006}, {\"Platform\": \"XB\", \"Year\": 2003, \"NA_Sales\": 39.40000000000003, \"EU_Sales\": 12.929999999999966, \"JP_Sales\": 0.30000000000000004, \"Other_Sales\": 1.9100000000000013, \"Global_Sales\": 55.24000000000003}, {\"Platform\": \"XB\", \"Year\": 2004, \"NA_Sales\": 49.35000000000003, \"EU_Sales\": 14.869999999999957, \"JP_Sales\": 0.2, \"Other_Sales\": 2.1799999999999975, \"Global_Sales\": 66.66999999999997}, {\"Platform\": \"XB\", \"Year\": 2005, \"NA_Sales\": 35.09000000000001, \"EU_Sales\": 12.549999999999972, \"JP_Sales\": 0.02, \"Other_Sales\": 1.7400000000000009, \"Global_Sales\": 49.500000000000114}, {\"Platform\": \"XB\", \"Year\": 2006, \"NA_Sales\": 7.509999999999996, \"EU_Sales\": 2.259999999999997, \"JP_Sales\": 0.0, \"Other_Sales\": 0.3200000000000001, \"Global_Sales\": 10.209999999999992}, {\"Platform\": \"XB\", \"Year\": 2007, \"NA_Sales\": 0.41, \"EU_Sales\": 0.12000000000000001, \"JP_Sales\": 0.0, \"Other_Sales\": 0.02, \"Global_Sales\": 0.5499999999999999}, {\"Platform\": \"XB\", \"Year\": 2008, \"NA_Sales\": 0.13, \"EU_Sales\": 0.04, \"JP_Sales\": 0.0, \"Other_Sales\": 0.01, \"Global_Sales\": 0.18}, {\"Platform\": \"XOne\", \"Year\": 2013, \"NA_Sales\": 11.799999999999997, \"EU_Sales\": 4.94, \"JP_Sales\": 0.02, \"Other_Sales\": 1.5000000000000004, \"Global_Sales\": 18.599999999999998}, {\"Platform\": \"XOne\", \"Year\": 2014, \"NA_Sales\": 30.409999999999993, \"EU_Sales\": 17.22000000000001, \"JP_Sales\": 0.13999999999999999, \"Other_Sales\": 4.139999999999995, \"Global_Sales\": 52.43}, {\"Platform\": \"XOne\", \"Year\": 2015, \"NA_Sales\": 34.28999999999999, \"EU_Sales\": 17.98000000000002, \"JP_Sales\": 0.17000000000000004, \"Other_Sales\": 5.2299999999999915, \"Global_Sales\": 57.660000000000025}, {\"Platform\": \"XOne\", \"Year\": 2016, \"NA_Sales\": 6.689999999999997, \"EU_Sales\": 4.629999999999995, \"JP_Sales\": 0.01, \"Other_Sales\": 1.0500000000000005, \"Global_Sales\": 12.369999999999987}]}}, {\"mode\": \"vega-lite\"});\n",
       "</script>"
      ],
      "text/plain": [
       "alt.Chart(...)"
      ]
     },
     "execution_count": 39,
     "metadata": {},
     "output_type": "execute_result"
    }
   ],
   "source": [
    "data_plot1 = vg_sales.groupby(['Platform', 'Year']).sum().reset_index().drop('Rank', axis = 1)\n",
    "alt.Chart(data_plot1).mark_line(point = True).encode(\n",
    "     y = alt.Y('Global_Sales:Q', title = 'Total Global Sales'),\n",
    "     x = alt.X('Year:N', title = 'Year'), #Still not sure what type this should be or what will look best w/o sacrificing the x-axis\n",
    "     color = alt.Color('Platform', title = 'Console')\n",
    " ).properties(\n",
    "     width = 500,\n",
    "     height = 500\n",
    " ).mark_area(opacity = 0.5) #let's smooth this, also maybe do some density work, we could do mean estimates\n",
    "                                                  # to do more comparisons"
   ]
  },
  {
   "cell_type": "code",
   "execution_count": 42,
   "id": "affecting-partition",
   "metadata": {},
   "outputs": [
    {
     "data": {
      "text/html": [
       "\n",
       "<div id=\"altair-viz-b5410e8681aa45aabc76d23b1421ebbb\"></div>\n",
       "<script type=\"text/javascript\">\n",
       "  (function(spec, embedOpt){\n",
       "    const outputDiv = document.getElementById(\"altair-viz-b5410e8681aa45aabc76d23b1421ebbb\");\n",
       "    const paths = {\n",
       "      \"vega\": \"https://cdn.jsdelivr.net/npm//vega@5?noext\",\n",
       "      \"vega-lib\": \"https://cdn.jsdelivr.net/npm//vega-lib?noext\",\n",
       "      \"vega-lite\": \"https://cdn.jsdelivr.net/npm//vega-lite@4.0.2?noext\",\n",
       "      \"vega-embed\": \"https://cdn.jsdelivr.net/npm//vega-embed@6?noext\",\n",
       "    };\n",
       "\n",
       "    function loadScript(lib) {\n",
       "      return new Promise(function(resolve, reject) {\n",
       "        var s = document.createElement('script');\n",
       "        s.src = paths[lib];\n",
       "        s.async = true;\n",
       "        s.onload = () => resolve(paths[lib]);\n",
       "        s.onerror = () => reject(`Error loading script: ${paths[lib]}`);\n",
       "        document.getElementsByTagName(\"head\")[0].appendChild(s);\n",
       "      });\n",
       "    }\n",
       "\n",
       "    function showError(err) {\n",
       "      outputDiv.innerHTML = `<div class=\"error\" style=\"color:red;\">${err}</div>`;\n",
       "      throw err;\n",
       "    }\n",
       "\n",
       "    function displayChart(vegaEmbed) {\n",
       "      vegaEmbed(outputDiv, spec, embedOpt)\n",
       "        .catch(err => showError(`Javascript Error: ${err.message}<br>This usually means there's a typo in your chart specification. See the javascript console for the full traceback.`));\n",
       "    }\n",
       "\n",
       "    if(typeof define === \"function\" && define.amd) {\n",
       "      requirejs.config({paths});\n",
       "      require([\"vega-embed\"], displayChart, err => showError(`Error loading script: ${err.message}`));\n",
       "    } else if (typeof vegaEmbed === \"function\") {\n",
       "      displayChart(vegaEmbed);\n",
       "    } else {\n",
       "      loadScript(\"vega\")\n",
       "        .then(() => loadScript(\"vega-lite\"))\n",
       "        .then(() => loadScript(\"vega-embed\"))\n",
       "        .catch(showError)\n",
       "        .then(() => displayChart(vegaEmbed));\n",
       "    }\n",
       "  })({\"config\": {\"view\": {\"continuousWidth\": 400, \"continuousHeight\": 300}}, \"data\": {\"name\": \"data-95834d51dcf573ce58a8c7b790e6d91b\"}, \"mark\": {\"type\": \"line\", \"point\": true}, \"encoding\": {\"color\": {\"type\": \"nominal\", \"field\": \"Platform\", \"title\": \"Console\"}, \"facet\": {\"type\": \"nominal\", \"columns\": 3, \"field\": \"Platform\", \"sort\": [\"PS\", \"PS2\", \"PS3\", \"PS4\", \"XB\", \"X360\", \"XOne\", \"NES\", \"SNES\", \"N64\", \"GC\", \"Wii\", \"WiiU\"]}, \"x\": {\"type\": \"quantitative\", \"field\": \"Year\", \"title\": \"Year\"}, \"y\": {\"type\": \"quantitative\", \"field\": \"Global_Sales\", \"title\": \"Total Global Sales\"}}, \"height\": 250, \"width\": 250, \"$schema\": \"https://vega.github.io/schema/vega-lite/v4.0.2.json\", \"datasets\": {\"data-95834d51dcf573ce58a8c7b790e6d91b\": [{\"Platform\": \"GC\", \"Year\": 1982, \"NA_Sales\": 0.21, \"EU_Sales\": 0.06, \"JP_Sales\": 0.0, \"Other_Sales\": 0.01, \"Global_Sales\": 0.28}, {\"Platform\": \"GC\", \"Year\": 2000, \"NA_Sales\": 0.06, \"EU_Sales\": 0.01, \"JP_Sales\": 0.0, \"Other_Sales\": 0.0, \"Global_Sales\": 0.07}, {\"Platform\": \"GC\", \"Year\": 2001, \"NA_Sales\": 16.91, \"EU_Sales\": 4.799999999999999, \"JP_Sales\": 3.8499999999999996, \"Other_Sales\": 0.7800000000000002, \"Global_Sales\": 26.299999999999997}, {\"Platform\": \"GC\", \"Year\": 2002, \"NA_Sales\": 34.62000000000001, \"EU_Sales\": 10.569999999999965, \"JP_Sales\": 5.280000000000001, \"Other_Sales\": 1.3400000000000005, \"Global_Sales\": 52.349999999999994}, {\"Platform\": \"GC\", \"Year\": 2003, \"NA_Sales\": 32.499999999999986, \"EU_Sales\": 10.349999999999977, \"JP_Sales\": 6.669999999999999, \"Other_Sales\": 1.3200000000000005, \"Global_Sales\": 51.53000000000001}, {\"Platform\": \"GC\", \"Year\": 2004, \"NA_Sales\": 19.72000000000002, \"EU_Sales\": 5.329999999999993, \"JP_Sales\": 2.9999999999999996, \"Other_Sales\": 0.7800000000000005, \"Global_Sales\": 28.899999999999984}, {\"Platform\": \"GC\", \"Year\": 2005, \"NA_Sales\": 19.46999999999999, \"EU_Sales\": 5.1899999999999915, \"JP_Sales\": 2.57, \"Other_Sales\": 0.6800000000000004, \"Global_Sales\": 28.079999999999977}, {\"Platform\": \"GC\", \"Year\": 2006, \"NA_Sales\": 8.729999999999999, \"EU_Sales\": 1.9800000000000009, \"JP_Sales\": 0.21, \"Other_Sales\": 0.2700000000000001, \"Global_Sales\": 11.579999999999998}, {\"Platform\": \"GC\", \"Year\": 2007, \"NA_Sales\": 0.21, \"EU_Sales\": 0.060000000000000005, \"JP_Sales\": 0.0, \"Other_Sales\": 0.0, \"Global_Sales\": 0.27}, {\"Platform\": \"N64\", \"Year\": 1996, \"NA_Sales\": 21.029999999999998, \"EU_Sales\": 6.720000000000001, \"JP_Sales\": 5.77, \"Other_Sales\": 0.5800000000000001, \"Global_Sales\": 34.10999999999999}, {\"Platform\": \"N64\", \"Year\": 1997, \"NA_Sales\": 25.839999999999993, \"EU_Sales\": 8.089999999999996, \"JP_Sales\": 4.829999999999999, \"Other_Sales\": 0.9400000000000004, \"Global_Sales\": 39.70999999999999}, {\"Platform\": \"N64\", \"Year\": 1998, \"NA_Sales\": 31.389999999999986, \"EU_Sales\": 10.349999999999993, \"JP_Sales\": 6.54, \"Other_Sales\": 0.9600000000000003, \"Global_Sales\": 49.28000000000002}, {\"Platform\": \"N64\", \"Year\": 1999, \"NA_Sales\": 38.77000000000001, \"EU_Sales\": 9.739999999999988, \"JP_Sales\": 8.83, \"Other_Sales\": 0.8600000000000003, \"Global_Sales\": 58.28999999999997}, {\"Platform\": \"N64\", \"Year\": 2000, \"NA_Sales\": 18.649999999999995, \"EU_Sales\": 5.619999999999997, \"JP_Sales\": 7.719999999999999, \"Other_Sales\": 0.9200000000000004, \"Global_Sales\": 34.14999999999999}, {\"Platform\": \"N64\", \"Year\": 2001, \"NA_Sales\": 2.08, \"EU_Sales\": 0.52, \"JP_Sales\": 0.53, \"Other_Sales\": 0.12, \"Global_Sales\": 3.2600000000000002}, {\"Platform\": \"N64\", \"Year\": 2002, \"NA_Sales\": 0.06, \"EU_Sales\": 0.02, \"JP_Sales\": 0.0, \"Other_Sales\": 0.0, \"Global_Sales\": 0.08}, {\"Platform\": \"NES\", \"Year\": 1983, \"NA_Sales\": 2.3200000000000003, \"EU_Sales\": 0.46, \"JP_Sales\": 8.1, \"Other_Sales\": 0.08, \"Global_Sales\": 10.959999999999999}, {\"Platform\": \"NES\", \"Year\": 1984, \"NA_Sales\": 33.02, \"EU_Sales\": 2.09, \"JP_Sales\": 14.269999999999998, \"Other_Sales\": 0.7000000000000002, \"Global_Sales\": 50.09000000000001}, {\"Platform\": \"NES\", \"Year\": 1985, \"NA_Sales\": 32.85, \"EU_Sales\": 4.68, \"JP_Sales\": 14.540000000000001, \"Other_Sales\": 0.9100000000000001, \"Global_Sales\": 53.44}, {\"Platform\": \"NES\", \"Year\": 1986, \"NA_Sales\": 11.870000000000001, \"EU_Sales\": 2.8000000000000007, \"JP_Sales\": 19.81, \"Other_Sales\": 1.9300000000000002, \"Global_Sales\": 36.410000000000004}, {\"Platform\": \"NES\", \"Year\": 1987, \"NA_Sales\": 6.620000000000001, \"EU_Sales\": 1.32, \"JP_Sales\": 11.63, \"Other_Sales\": 0.19000000000000003, \"Global_Sales\": 19.759999999999998}, {\"Platform\": \"NES\", \"Year\": 1988, \"NA_Sales\": 22.36, \"EU_Sales\": 6.300000000000001, \"JP_Sales\": 15.409999999999998, \"Other_Sales\": 0.9400000000000001, \"Global_Sales\": 45.01}, {\"Platform\": \"NES\", \"Year\": 1989, \"NA_Sales\": 4.75, \"EU_Sales\": 0.81, \"JP_Sales\": 2.2, \"Other_Sales\": 0.09, \"Global_Sales\": 7.849999999999999}, {\"Platform\": \"NES\", \"Year\": 1990, \"NA_Sales\": 6.08, \"EU_Sales\": 1.5900000000000003, \"JP_Sales\": 7.839999999999999, \"Other_Sales\": 0.22, \"Global_Sales\": 15.74}, {\"Platform\": \"NES\", \"Year\": 1991, \"NA_Sales\": 2.83, \"EU_Sales\": 0.52, \"JP_Sales\": 2.5999999999999996, \"Other_Sales\": 0.16, \"Global_Sales\": 6.11}, {\"Platform\": \"NES\", \"Year\": 1992, \"NA_Sales\": 0.8400000000000001, \"EU_Sales\": 0.14, \"JP_Sales\": 0.97, \"Other_Sales\": 0.03, \"Global_Sales\": 1.9800000000000002}, {\"Platform\": \"NES\", \"Year\": 1993, \"NA_Sales\": 1.9400000000000002, \"EU_Sales\": 0.44000000000000006, \"JP_Sales\": 1.17, \"Other_Sales\": 0.060000000000000005, \"Global_Sales\": 3.61}, {\"Platform\": \"NES\", \"Year\": 1994, \"NA_Sales\": 0.0, \"EU_Sales\": 0.0, \"JP_Sales\": 0.11, \"Other_Sales\": 0.0, \"Global_Sales\": 0.11}, {\"Platform\": \"PS\", \"Year\": 1994, \"NA_Sales\": 1.7600000000000005, \"EU_Sales\": 1.2000000000000002, \"JP_Sales\": 2.67, \"Other_Sales\": 0.40000000000000013, \"Global_Sales\": 6.020000000000001}, {\"Platform\": \"PS\", \"Year\": 1995, \"NA_Sales\": 14.60999999999999, \"EU_Sales\": 9.659999999999988, \"JP_Sales\": 9.539999999999992, \"Other_Sales\": 1.960000000000001, \"Global_Sales\": 35.92000000000002}, {\"Platform\": \"PS\", \"Year\": 1996, \"NA_Sales\": 45.419999999999995, \"EU_Sales\": 25.920000000000023, \"JP_Sales\": 17.820000000000004, \"Other_Sales\": 5.539999999999983, \"Global_Sales\": 94.67999999999999}, {\"Platform\": \"PS\", \"Year\": 1997, \"NA_Sales\": 57.61000000000001, \"EU_Sales\": 37.13999999999998, \"JP_Sales\": 33.10000000000001, \"Other_Sales\": 7.869999999999979, \"Global_Sales\": 136.0799999999999}, {\"Platform\": \"PS\", \"Year\": 1998, \"NA_Sales\": 84.03000000000003, \"EU_Sales\": 49.09000000000005, \"JP_Sales\": 28.519999999999992, \"Other_Sales\": 9.149999999999972, \"Global_Sales\": 171.08}, {\"Platform\": \"PS\", \"Year\": 1999, \"NA_Sales\": 66.07000000000006, \"EU_Sales\": 43.00000000000001, \"JP_Sales\": 28.069999999999997, \"Other_Sales\": 7.989999999999982, \"Global_Sales\": 145.6100000000001}, {\"Platform\": \"PS\", \"Year\": 2000, \"NA_Sales\": 46.15, \"EU_Sales\": 30.680000000000007, \"JP_Sales\": 14.599999999999994, \"Other_Sales\": 5.309999999999975, \"Global_Sales\": 96.66999999999993}, {\"Platform\": \"PS\", \"Year\": 2001, \"NA_Sales\": 16.03, \"EU_Sales\": 13.849999999999996, \"JP_Sales\": 3.8599999999999994, \"Other_Sales\": 2.189999999999997, \"Global_Sales\": 35.86000000000002}, {\"Platform\": \"PS\", \"Year\": 2002, \"NA_Sales\": 2.7799999999999994, \"EU_Sales\": 1.8900000000000003, \"JP_Sales\": 1.6400000000000003, \"Other_Sales\": 0.3600000000000001, \"Global_Sales\": 6.689999999999998}, {\"Platform\": \"PS\", \"Year\": 2003, \"NA_Sales\": 1.15, \"EU_Sales\": 0.78, \"JP_Sales\": 0.0, \"Other_Sales\": 0.14, \"Global_Sales\": 2.05}, {\"Platform\": \"PS2\", \"Year\": 2000, \"NA_Sales\": 14.89, \"EU_Sales\": 10.639999999999997, \"JP_Sales\": 8.870000000000005, \"Other_Sales\": 3.579999999999996, \"Global_Sales\": 39.11000000000001}, {\"Platform\": \"PS2\", \"Year\": 2001, \"NA_Sales\": 79.41999999999994, \"EU_Sales\": 52.52000000000004, \"JP_Sales\": 18.0, \"Other_Sales\": 16.830000000000016, \"Global_Sales\": 166.83000000000007}, {\"Platform\": \"PS2\", \"Year\": 2002, \"NA_Sales\": 98.83999999999997, \"EU_Sales\": 67.07000000000002, \"JP_Sales\": 22.380000000000006, \"Other_Sales\": 22.330000000000055, \"Global_Sales\": 210.64000000000004}, {\"Platform\": \"PS2\", \"Year\": 2003, \"NA_Sales\": 88.92999999999999, \"EU_Sales\": 64.24000000000002, \"JP_Sales\": 19.329999999999995, \"Other_Sales\": 22.050000000000026, \"Global_Sales\": 194.27999999999994}, {\"Platform\": \"PS2\", \"Year\": 2004, \"NA_Sales\": 96.68999999999993, \"EU_Sales\": 56.25000000000003, \"JP_Sales\": 19.17, \"Other_Sales\": 39.930000000000014, \"Global_Sales\": 212.39999999999992}, {\"Platform\": \"PS2\", \"Year\": 2005, \"NA_Sales\": 87.29000000000003, \"EU_Sales\": 41.99999999999999, \"JP_Sales\": 15.17, \"Other_Sales\": 19.60000000000007, \"Global_Sales\": 164.08000000000015}, {\"Platform\": \"PS2\", \"Year\": 2006, \"NA_Sales\": 50.059999999999995, \"EU_Sales\": 21.710000000000033, \"JP_Sales\": 18.430000000000003, \"Other_Sales\": 14.269999999999984, \"Global_Sales\": 104.46999999999998}, {\"Platform\": \"PS2\", \"Year\": 2007, \"NA_Sales\": 32.849999999999994, \"EU_Sales\": 10.54999999999999, \"JP_Sales\": 9.819999999999974, \"Other_Sales\": 24.06000000000003, \"Global_Sales\": 77.27}, {\"Platform\": \"PS2\", \"Year\": 2008, \"NA_Sales\": 21.23, \"EU_Sales\": 7.449999999999993, \"JP_Sales\": 5.729999999999991, \"Other_Sales\": 19.310000000000034, \"Global_Sales\": 53.830000000000034}, {\"Platform\": \"PS2\", \"Year\": 2009, \"NA_Sales\": 9.360000000000003, \"EU_Sales\": 4.939999999999997, \"JP_Sales\": 1.9400000000000008, \"Other_Sales\": 10.159999999999993, \"Global_Sales\": 26.45}, {\"Platform\": \"PS2\", \"Year\": 2010, \"NA_Sales\": 2.1899999999999995, \"EU_Sales\": 1.5400000000000005, \"JP_Sales\": 0.7100000000000002, \"Other_Sales\": 1.2000000000000002, \"Global_Sales\": 5.629999999999995}, {\"Platform\": \"PS2\", \"Year\": 2011, \"NA_Sales\": 0.22, \"EU_Sales\": 0.19999999999999998, \"JP_Sales\": 0.09, \"Other_Sales\": 0.12, \"Global_Sales\": 0.6500000000000001}, {\"Platform\": \"PS3\", \"Year\": 1988, \"NA_Sales\": 0.13, \"EU_Sales\": 0.02, \"JP_Sales\": 0.0, \"Other_Sales\": 0.02, \"Global_Sales\": 0.17}, {\"Platform\": \"PS3\", \"Year\": 2006, \"NA_Sales\": 8.83, \"EU_Sales\": 7.949999999999998, \"JP_Sales\": 1.07, \"Other_Sales\": 3.69, \"Global_Sales\": 21.550000000000004}, {\"Platform\": \"PS3\", \"Year\": 2007, \"NA_Sales\": 32.969999999999985, \"EU_Sales\": 27.000000000000014, \"JP_Sales\": 4.27, \"Other_Sales\": 11.129999999999987, \"Global_Sales\": 75.48000000000005}, {\"Platform\": \"PS3\", \"Year\": 2008, \"NA_Sales\": 56.66, \"EU_Sales\": 39.99999999999999, \"JP_Sales\": 5.839999999999997, \"Other_Sales\": 17.22000000000002, \"Global_Sales\": 120.76000000000002}, {\"Platform\": \"PS3\", \"Year\": 2009, \"NA_Sales\": 62.880000000000024, \"EU_Sales\": 41.99, \"JP_Sales\": 9.059999999999993, \"Other_Sales\": 18.28000000000004, \"Global_Sales\": 132.62999999999997}, {\"Platform\": \"PS3\", \"Year\": 2010, \"NA_Sales\": 61.370000000000005, \"EU_Sales\": 52.48000000000002, \"JP_Sales\": 10.519999999999992, \"Other_Sales\": 21.58000000000003, \"Global_Sales\": 145.9800000000001}, {\"Platform\": \"PS3\", \"Year\": 2011, \"NA_Sales\": 65.10000000000004, \"EU_Sales\": 59.650000000000006, \"JP_Sales\": 14.13999999999999, \"Other_Sales\": 22.880000000000067, \"Global_Sales\": 162.3200000000001}, {\"Platform\": \"PS3\", \"Year\": 2012, \"NA_Sales\": 39.86, \"EU_Sales\": 40.55, \"JP_Sales\": 11.939999999999989, \"Other_Sales\": 17.13000000000001, \"Global_Sales\": 109.56000000000002}, {\"Platform\": \"PS3\", \"Year\": 2013, \"NA_Sales\": 41.31000000000001, \"EU_Sales\": 43.95000000000003, \"JP_Sales\": 12.119999999999989, \"Other_Sales\": 19.380000000000017, \"Global_Sales\": 117.60999999999994}, {\"Platform\": \"PS3\", \"Year\": 2014, \"NA_Sales\": 16.13, \"EU_Sales\": 20.569999999999997, \"JP_Sales\": 6.229999999999993, \"Other_Sales\": 8.049999999999988, \"Global_Sales\": 50.97000000000002}, {\"Platform\": \"PS3\", \"Year\": 2015, \"NA_Sales\": 4.319999999999998, \"EU_Sales\": 7.429999999999998, \"JP_Sales\": 3.669999999999997, \"Other_Sales\": 2.3499999999999983, \"Global_Sales\": 18.220000000000002}, {\"Platform\": \"PS3\", \"Year\": 2016, \"NA_Sales\": 0.4, \"EU_Sales\": 0.8000000000000002, \"JP_Sales\": 1.1300000000000003, \"Other_Sales\": 0.22000000000000006, \"Global_Sales\": 2.59}, {\"Platform\": \"PS4\", \"Year\": 2013, \"NA_Sales\": 10.09, \"EU_Sales\": 10.990000000000002, \"JP_Sales\": 0.9299999999999999, \"Other_Sales\": 2.7499999999999996, \"Global_Sales\": 24.760000000000005}, {\"Platform\": \"PS4\", \"Year\": 2014, \"NA_Sales\": 34.09, \"EU_Sales\": 44.800000000000004, \"JP_Sales\": 2.919999999999999, \"Other_Sales\": 17.02, \"Global_Sales\": 98.76000000000003}, {\"Platform\": \"PS4\", \"Year\": 2015, \"NA_Sales\": 40.760000000000055, \"EU_Sales\": 50.43, \"JP_Sales\": 6.189999999999993, \"Other_Sales\": 17.86000000000003, \"Global_Sales\": 115.29999999999997}, {\"Platform\": \"PS4\", \"Year\": 2016, \"NA_Sales\": 11.859999999999992, \"EU_Sales\": 17.480000000000008, \"JP_Sales\": 4.229999999999995, \"Other_Sales\": 5.729999999999992, \"Global_Sales\": 39.25000000000002}, {\"Platform\": \"PS4\", \"Year\": 2017, \"NA_Sales\": 0.0, \"EU_Sales\": 0.0, \"JP_Sales\": 0.03, \"Other_Sales\": 0.0, \"Global_Sales\": 0.03}, {\"Platform\": \"SNES\", \"Year\": 1990, \"NA_Sales\": 15.28, \"EU_Sales\": 4.6, \"JP_Sales\": 5.6, \"Other_Sales\": 0.6700000000000002, \"Global_Sales\": 26.16}, {\"Platform\": \"SNES\", \"Year\": 1991, \"NA_Sales\": 5.470000000000001, \"EU_Sales\": 1.8400000000000005, \"JP_Sales\": 8.540000000000001, \"Other_Sales\": 0.37000000000000005, \"Global_Sales\": 16.21}, {\"Platform\": \"SNES\", \"Year\": 1992, \"NA_Sales\": 9.52, \"EU_Sales\": 3.29, \"JP_Sales\": 19.669999999999998, \"Other_Sales\": 0.5, \"Global_Sales\": 32.97999999999999}, {\"Platform\": \"SNES\", \"Year\": 1993, \"NA_Sales\": 12.180000000000001, \"EU_Sales\": 3.85, \"JP_Sales\": 23.21, \"Other_Sales\": 0.78, \"Global_Sales\": 40.010000000000005}, {\"Platform\": \"SNES\", \"Year\": 1994, \"NA_Sales\": 9.43, \"EU_Sales\": 2.6700000000000004, \"JP_Sales\": 22.570000000000004, \"Other_Sales\": 0.41000000000000003, \"Global_Sales\": 35.08}, {\"Platform\": \"SNES\", \"Year\": 1995, \"NA_Sales\": 7.260000000000001, \"EU_Sales\": 2.2199999999999998, \"JP_Sales\": 22.370000000000005, \"Other_Sales\": 0.3500000000000001, \"Global_Sales\": 32.21000000000001}, {\"Platform\": \"SNES\", \"Year\": 1996, \"NA_Sales\": 2.09, \"EU_Sales\": 0.5700000000000001, \"JP_Sales\": 13.119999999999997, \"Other_Sales\": 0.14, \"Global_Sales\": 15.929999999999996}, {\"Platform\": \"SNES\", \"Year\": 1997, \"NA_Sales\": 0.0, \"EU_Sales\": 0.0, \"JP_Sales\": 0.99, \"Other_Sales\": 0.0, \"Global_Sales\": 0.99}, {\"Platform\": \"SNES\", \"Year\": 1998, \"NA_Sales\": 0.0, \"EU_Sales\": 0.0, \"JP_Sales\": 0.22000000000000003, \"Other_Sales\": 0.0, \"Global_Sales\": 0.22000000000000003}, {\"Platform\": \"SNES\", \"Year\": 1999, \"NA_Sales\": 0.0, \"EU_Sales\": 0.0, \"JP_Sales\": 0.26, \"Other_Sales\": 0.0, \"Global_Sales\": 0.26}, {\"Platform\": \"Wii\", \"Year\": 2006, \"NA_Sales\": 73.38000000000001, \"EU_Sales\": 44.72999999999999, \"JP_Sales\": 9.289999999999997, \"Other_Sales\": 13.86999999999999, \"Global_Sales\": 141.34000000000003}, {\"Platform\": \"Wii\", \"Year\": 2007, \"NA_Sales\": 85.96000000000004, \"EU_Sales\": 45.08999999999998, \"JP_Sales\": 12.119999999999987, \"Other_Sales\": 14.019999999999966, \"Global_Sales\": 157.82999999999996}, {\"Platform\": \"Wii\", \"Year\": 2008, \"NA_Sales\": 101.33000000000007, \"EU_Sales\": 48.56999999999999, \"JP_Sales\": 12.769999999999987, \"Other_Sales\": 15.769999999999953, \"Global_Sales\": 179.87999999999994}, {\"Platform\": \"Wii\", \"Year\": 2009, \"NA_Sales\": 116.83999999999993, \"EU_Sales\": 59.35999999999997, \"JP_Sales\": 16.61, \"Other_Sales\": 17.810000000000123, \"Global_Sales\": 210.8000000000002}, {\"Platform\": \"Wii\", \"Year\": 2010, \"NA_Sales\": 76.2400000000001, \"EU_Sales\": 37.020000000000024, \"JP_Sales\": 8.799999999999997, \"Other_Sales\": 10.58999999999995, \"Global_Sales\": 133.56000000000023}, {\"Platform\": \"Wii\", \"Year\": 2011, \"NA_Sales\": 33.80999999999998, \"EU_Sales\": 19.010000000000005, \"JP_Sales\": 6.35, \"Other_Sales\": 5.669999999999981, \"Global_Sales\": 65.13}, {\"Platform\": \"Wii\", \"Year\": 2012, \"NA_Sales\": 11.479999999999999, \"EU_Sales\": 6.39, \"JP_Sales\": 3.3400000000000003, \"Other_Sales\": 1.5900000000000005, \"Global_Sales\": 22.800000000000004}, {\"Platform\": \"Wii\", \"Year\": 2013, \"NA_Sales\": 4.909999999999999, \"EU_Sales\": 3.609999999999999, \"JP_Sales\": 0.05, \"Other_Sales\": 0.8100000000000002, \"Global_Sales\": 9.359999999999998}, {\"Platform\": \"Wii\", \"Year\": 2014, \"NA_Sales\": 1.82, \"EU_Sales\": 2.25, \"JP_Sales\": 0.0, \"Other_Sales\": 0.36000000000000004, \"Global_Sales\": 4.439999999999999}, {\"Platform\": \"Wii\", \"Year\": 2015, \"NA_Sales\": 0.5700000000000001, \"EU_Sales\": 0.8700000000000001, \"JP_Sales\": 0.0, \"Other_Sales\": 0.12000000000000001, \"Global_Sales\": 1.55}, {\"Platform\": \"WiiU\", \"Year\": 2012, \"NA_Sales\": 9.129999999999999, \"EU_Sales\": 5.250000000000002, \"JP_Sales\": 2.1299999999999994, \"Other_Sales\": 1.2800000000000005, \"Global_Sales\": 17.840000000000003}, {\"Platform\": \"WiiU\", \"Year\": 2013, \"NA_Sales\": 10.15, \"EU_Sales\": 6.599999999999999, \"JP_Sales\": 3.5399999999999987, \"Other_Sales\": 1.5200000000000005, \"Global_Sales\": 21.84}, {\"Platform\": \"WiiU\", \"Year\": 2014, \"NA_Sales\": 10.78, \"EU_Sales\": 6.489999999999999, \"JP_Sales\": 3.1599999999999997, \"Other_Sales\": 2.1099999999999994, \"Global_Sales\": 22.509999999999994}, {\"Platform\": \"WiiU\", \"Year\": 2015, \"NA_Sales\": 6.770000000000001, \"EU_Sales\": 4.3999999999999995, \"JP_Sales\": 3.4099999999999993, \"Other_Sales\": 1.2900000000000003, \"Global_Sales\": 16.380000000000003}, {\"Platform\": \"WiiU\", \"Year\": 2016, \"NA_Sales\": 1.49, \"EU_Sales\": 0.99, \"JP_Sales\": 0.55, \"Other_Sales\": 0.25, \"Global_Sales\": 3.2899999999999996}, {\"Platform\": \"X360\", \"Year\": 2005, \"NA_Sales\": 7.670000000000002, \"EU_Sales\": 0.5200000000000002, \"JP_Sales\": 0.29000000000000004, \"Other_Sales\": 0.6800000000000003, \"Global_Sales\": 9.179999999999998}, {\"Platform\": \"X360\", \"Year\": 2006, \"NA_Sales\": 35.3, \"EU_Sales\": 11.159999999999988, \"JP_Sales\": 1.2000000000000004, \"Other_Sales\": 4.479999999999989, \"Global_Sales\": 52.089999999999996}, {\"Platform\": \"X360\", \"Year\": 2007, \"NA_Sales\": 64.87999999999997, \"EU_Sales\": 22.920000000000016, \"JP_Sales\": 1.5200000000000002, \"Other_Sales\": 8.94999999999998, \"Global_Sales\": 98.31999999999992}, {\"Platform\": \"X360\", \"Year\": 2008, \"NA_Sales\": 83.43000000000005, \"EU_Sales\": 39.199999999999996, \"JP_Sales\": 1.9500000000000006, \"Other_Sales\": 12.849999999999989, \"Global_Sales\": 137.53000000000006}, {\"Platform\": \"X360\", \"Year\": 2009, \"NA_Sales\": 74.39999999999999, \"EU_Sales\": 34.12000000000001, \"JP_Sales\": 1.9600000000000009, \"Other_Sales\": 11.149999999999975, \"Global_Sales\": 121.56000000000002}, {\"Platform\": \"X360\", \"Year\": 2010, \"NA_Sales\": 106.54999999999995, \"EU_Sales\": 47.110000000000056, \"JP_Sales\": 2.1100000000000008, \"Other_Sales\": 14.269999999999975, \"Global_Sales\": 171.75000000000003}, {\"Platform\": \"X360\", \"Year\": 2011, \"NA_Sales\": 88.70999999999998, \"EU_Sales\": 45.01000000000004, \"JP_Sales\": 1.8300000000000012, \"Other_Sales\": 13.059999999999961, \"Global_Sales\": 148.6600000000002}, {\"Platform\": \"X360\", \"Year\": 2012, \"NA_Sales\": 57.48000000000001, \"EU_Sales\": 31.87, \"JP_Sales\": 1.0600000000000005, \"Other_Sales\": 8.269999999999992, \"Global_Sales\": 100.94999999999992}, {\"Platform\": \"X360\", \"Year\": 2013, \"NA_Sales\": 53.12999999999998, \"EU_Sales\": 28.56000000000002, \"JP_Sales\": 0.4300000000000001, \"Other_Sales\": 7.439999999999997, \"Global_Sales\": 89.61000000000001}, {\"Platform\": \"X360\", \"Year\": 2014, \"NA_Sales\": 20.090000000000007, \"EU_Sales\": 13.080000000000002, \"JP_Sales\": 0.08, \"Other_Sales\": 3.1799999999999957, \"Global_Sales\": 36.41999999999998}, {\"Platform\": \"X360\", \"Year\": 2015, \"NA_Sales\": 7.1099999999999985, \"EU_Sales\": 4.769999999999997, \"JP_Sales\": 0.0, \"Other_Sales\": 1.1400000000000003, \"Global_Sales\": 13.049999999999999}, {\"Platform\": \"X360\", \"Year\": 2016, \"NA_Sales\": 0.36000000000000004, \"EU_Sales\": 0.4000000000000001, \"JP_Sales\": 0.0, \"Other_Sales\": 0.07, \"Global_Sales\": 0.8300000000000001}, {\"Platform\": \"XB\", \"Year\": 1999, \"NA_Sales\": 0.77, \"EU_Sales\": 0.11, \"JP_Sales\": 0.0, \"Other_Sales\": 0.04, \"Global_Sales\": 0.91}, {\"Platform\": \"XB\", \"Year\": 2000, \"NA_Sales\": 0.74, \"EU_Sales\": 0.21, \"JP_Sales\": 0.0, \"Other_Sales\": 0.04, \"Global_Sales\": 0.99}, {\"Platform\": \"XB\", \"Year\": 2001, \"NA_Sales\": 17.29, \"EU_Sales\": 4.709999999999998, \"JP_Sales\": 0.37, \"Other_Sales\": 0.6600000000000003, \"Global_Sales\": 23.01999999999999}, {\"Platform\": \"XB\", \"Year\": 2002, \"NA_Sales\": 36.0, \"EU_Sales\": 12.579999999999963, \"JP_Sales\": 0.49000000000000005, \"Other_Sales\": 1.8000000000000012, \"Global_Sales\": 50.99000000000006}, {\"Platform\": \"XB\", \"Year\": 2003, \"NA_Sales\": 39.40000000000003, \"EU_Sales\": 12.929999999999966, \"JP_Sales\": 0.30000000000000004, \"Other_Sales\": 1.9100000000000013, \"Global_Sales\": 55.24000000000003}, {\"Platform\": \"XB\", \"Year\": 2004, \"NA_Sales\": 49.35000000000003, \"EU_Sales\": 14.869999999999957, \"JP_Sales\": 0.2, \"Other_Sales\": 2.1799999999999975, \"Global_Sales\": 66.66999999999997}, {\"Platform\": \"XB\", \"Year\": 2005, \"NA_Sales\": 35.09000000000001, \"EU_Sales\": 12.549999999999972, \"JP_Sales\": 0.02, \"Other_Sales\": 1.7400000000000009, \"Global_Sales\": 49.500000000000114}, {\"Platform\": \"XB\", \"Year\": 2006, \"NA_Sales\": 7.509999999999996, \"EU_Sales\": 2.259999999999997, \"JP_Sales\": 0.0, \"Other_Sales\": 0.3200000000000001, \"Global_Sales\": 10.209999999999992}, {\"Platform\": \"XB\", \"Year\": 2007, \"NA_Sales\": 0.41, \"EU_Sales\": 0.12000000000000001, \"JP_Sales\": 0.0, \"Other_Sales\": 0.02, \"Global_Sales\": 0.5499999999999999}, {\"Platform\": \"XB\", \"Year\": 2008, \"NA_Sales\": 0.13, \"EU_Sales\": 0.04, \"JP_Sales\": 0.0, \"Other_Sales\": 0.01, \"Global_Sales\": 0.18}, {\"Platform\": \"XOne\", \"Year\": 2013, \"NA_Sales\": 11.799999999999997, \"EU_Sales\": 4.94, \"JP_Sales\": 0.02, \"Other_Sales\": 1.5000000000000004, \"Global_Sales\": 18.599999999999998}, {\"Platform\": \"XOne\", \"Year\": 2014, \"NA_Sales\": 30.409999999999993, \"EU_Sales\": 17.22000000000001, \"JP_Sales\": 0.13999999999999999, \"Other_Sales\": 4.139999999999995, \"Global_Sales\": 52.43}, {\"Platform\": \"XOne\", \"Year\": 2015, \"NA_Sales\": 34.28999999999999, \"EU_Sales\": 17.98000000000002, \"JP_Sales\": 0.17000000000000004, \"Other_Sales\": 5.2299999999999915, \"Global_Sales\": 57.660000000000025}, {\"Platform\": \"XOne\", \"Year\": 2016, \"NA_Sales\": 6.689999999999997, \"EU_Sales\": 4.629999999999995, \"JP_Sales\": 0.01, \"Other_Sales\": 1.0500000000000005, \"Global_Sales\": 12.369999999999987}]}}, {\"mode\": \"vega-lite\"});\n",
       "</script>"
      ],
      "text/plain": [
       "alt.Chart(...)"
      ]
     },
     "execution_count": 42,
     "metadata": {},
     "output_type": "execute_result"
    }
   ],
   "source": [
    "\"\"\"\n",
    "Here I'm just doing some platform isolation.\n",
    "Might want to include SEGA but it's looking a little\n",
    "busy right now. Could also do like separate groups\n",
    "of platforms like Atari, Nintendo, and Sega for one and then\n",
    "Sony, Microsoft, and Nintendo for the other just to make\n",
    "a bit more sense of I guess the history or narrative of\n",
    "the market?\n",
    "\n",
    "NOTE: Note: Not sure why for some platforms it's showing outliers in years\n",
    "that the console didn't even exist in. Need to look further into this.\n",
    "\n",
    "\"\"\"\n",
    "\n",
    "data_plot1['Platform'].unique() # Getting list of consoles\n",
    "data_plot2 = data_plot1[(data_plot1.Platform=='PS') |\n",
    "                           (data_plot1.Platform=='PS2') | \n",
    "                           (data_plot1.Platform=='PS3') |\n",
    "                           (data_plot1.Platform=='PS4') |\n",
    "                           (data_plot1.Platform=='XB')  | \n",
    "                           (data_plot1.Platform=='X360') |\n",
    "                           (data_plot1.Platform=='XOne') |\n",
    "                           (data_plot1.Platform=='NES') |\n",
    "                           (data_plot1.Platform=='SNES') | \n",
    "                           (data_plot1.Platform=='N64') |\n",
    "                           (data_plot1.Platform=='GC') |\n",
    "                           (data_plot1.Platform=='Wii') |\n",
    "                           (data_plot1.Platform=='WiiU')]\n",
    "alt.Chart(data_plot2).mark_line(point = True).encode(\n",
    "     y = alt.Y('Global_Sales:Q', title = 'Total Global Sales'),\n",
    "     x = alt.X('Year:Q', title = 'Year'),\n",
    "     color = alt.Color('Platform', title = 'Console'),\n",
    "     facet = alt.Facet('Platform:N', columns = 3, sort=['PS',\n",
    "                                                        'PS2',\n",
    "                                                        'PS3',\n",
    "                                                        'PS4',\n",
    "                                                        'XB',\n",
    "                                                        'X360',\n",
    "                                                        'XOne',\n",
    "                                                        'NES',\n",
    "                                                        'SNES',\n",
    "                                                        'N64',\n",
    "                                                        'GC',\n",
    "                                                        'Wii',\n",
    "                                                        'WiiU'])\n",
    " ).properties(\n",
    "     width = 250,\n",
    "     height = 250\n",
    " )#.mark_area(opacity=0.8)\n",
    "\n",
    "#data_plot2\n",
    "#data_plot1.Platform.unique()\n",
    "#data_plot1[data_plot1.Platform == 'X360']\n",
    "\n"
   ]
  },
  {
   "cell_type": "code",
   "execution_count": 58,
   "id": "advanced-roller",
   "metadata": {},
   "outputs": [
    {
     "data": {
      "text/html": [
       "\n",
       "<div id=\"altair-viz-07b2fecd3d4d46c8ad80be673fd1b6dc\"></div>\n",
       "<script type=\"text/javascript\">\n",
       "  (function(spec, embedOpt){\n",
       "    const outputDiv = document.getElementById(\"altair-viz-07b2fecd3d4d46c8ad80be673fd1b6dc\");\n",
       "    const paths = {\n",
       "      \"vega\": \"https://cdn.jsdelivr.net/npm//vega@5?noext\",\n",
       "      \"vega-lib\": \"https://cdn.jsdelivr.net/npm//vega-lib?noext\",\n",
       "      \"vega-lite\": \"https://cdn.jsdelivr.net/npm//vega-lite@4.0.2?noext\",\n",
       "      \"vega-embed\": \"https://cdn.jsdelivr.net/npm//vega-embed@6?noext\",\n",
       "    };\n",
       "\n",
       "    function loadScript(lib) {\n",
       "      return new Promise(function(resolve, reject) {\n",
       "        var s = document.createElement('script');\n",
       "        s.src = paths[lib];\n",
       "        s.async = true;\n",
       "        s.onload = () => resolve(paths[lib]);\n",
       "        s.onerror = () => reject(`Error loading script: ${paths[lib]}`);\n",
       "        document.getElementsByTagName(\"head\")[0].appendChild(s);\n",
       "      });\n",
       "    }\n",
       "\n",
       "    function showError(err) {\n",
       "      outputDiv.innerHTML = `<div class=\"error\" style=\"color:red;\">${err}</div>`;\n",
       "      throw err;\n",
       "    }\n",
       "\n",
       "    function displayChart(vegaEmbed) {\n",
       "      vegaEmbed(outputDiv, spec, embedOpt)\n",
       "        .catch(err => showError(`Javascript Error: ${err.message}<br>This usually means there's a typo in your chart specification. See the javascript console for the full traceback.`));\n",
       "    }\n",
       "\n",
       "    if(typeof define === \"function\" && define.amd) {\n",
       "      requirejs.config({paths});\n",
       "      require([\"vega-embed\"], displayChart, err => showError(`Error loading script: ${err.message}`));\n",
       "    } else if (typeof vegaEmbed === \"function\") {\n",
       "      displayChart(vegaEmbed);\n",
       "    } else {\n",
       "      loadScript(\"vega\")\n",
       "        .then(() => loadScript(\"vega-lite\"))\n",
       "        .then(() => loadScript(\"vega-embed\"))\n",
       "        .catch(showError)\n",
       "        .then(() => displayChart(vegaEmbed));\n",
       "    }\n",
       "  })({\"config\": {\"view\": {\"continuousWidth\": 400, \"continuousHeight\": 300}}, \"data\": {\"name\": \"data-fc5698b9a9ccd2d4643dbff567a4c6b0\"}, \"mark\": \"line\", \"encoding\": {\"color\": {\"type\": \"nominal\", \"field\": \"post_xone\", \"title\": \"Xbox One released?\"}, \"x\": {\"type\": \"quantitative\", \"field\": \"Year\", \"title\": \"Year\"}, \"y\": {\"type\": \"quantitative\", \"field\": \"Density\", \"title\": \"Total Global Sales\"}}, \"height\": 250, \"transform\": [{\"bin\": {\"step\": 1}, \"field\": \"Year\", \"as\": \"Year\"}, {\"calculate\": \"datum.Count/(118*1)\", \"as\": \"Density\"}, {\"calculate\": \"datum.Year >= 2013\", \"as\": \"post_xone\"}, {\"density\": \"Year\", \"bandwidth\": 0.0, \"extent\": [2005, 2015], \"steps\": 10, \"as\": [\"Year\", \"Global_Sales\"]}], \"width\": 250, \"$schema\": \"https://vega.github.io/schema/vega-lite/v4.0.2.json\", \"datasets\": {\"data-fc5698b9a9ccd2d4643dbff567a4c6b0\": [{\"Platform\": \"X360\", \"Year\": 2005, \"NA_Sales\": 7.670000000000002, \"EU_Sales\": 0.5200000000000002, \"JP_Sales\": 0.29000000000000004, \"Other_Sales\": 0.6800000000000003, \"Global_Sales\": 9.179999999999998}, {\"Platform\": \"X360\", \"Year\": 2006, \"NA_Sales\": 35.3, \"EU_Sales\": 11.159999999999988, \"JP_Sales\": 1.2000000000000004, \"Other_Sales\": 4.479999999999989, \"Global_Sales\": 52.089999999999996}, {\"Platform\": \"X360\", \"Year\": 2007, \"NA_Sales\": 64.87999999999997, \"EU_Sales\": 22.920000000000016, \"JP_Sales\": 1.5200000000000002, \"Other_Sales\": 8.94999999999998, \"Global_Sales\": 98.31999999999992}, {\"Platform\": \"X360\", \"Year\": 2008, \"NA_Sales\": 83.43000000000005, \"EU_Sales\": 39.199999999999996, \"JP_Sales\": 1.9500000000000006, \"Other_Sales\": 12.849999999999989, \"Global_Sales\": 137.53000000000006}, {\"Platform\": \"X360\", \"Year\": 2009, \"NA_Sales\": 74.39999999999999, \"EU_Sales\": 34.12000000000001, \"JP_Sales\": 1.9600000000000009, \"Other_Sales\": 11.149999999999975, \"Global_Sales\": 121.56000000000002}, {\"Platform\": \"X360\", \"Year\": 2010, \"NA_Sales\": 106.54999999999995, \"EU_Sales\": 47.110000000000056, \"JP_Sales\": 2.1100000000000008, \"Other_Sales\": 14.269999999999975, \"Global_Sales\": 171.75000000000003}, {\"Platform\": \"X360\", \"Year\": 2011, \"NA_Sales\": 88.70999999999998, \"EU_Sales\": 45.01000000000004, \"JP_Sales\": 1.8300000000000012, \"Other_Sales\": 13.059999999999961, \"Global_Sales\": 148.6600000000002}, {\"Platform\": \"X360\", \"Year\": 2012, \"NA_Sales\": 57.48000000000001, \"EU_Sales\": 31.87, \"JP_Sales\": 1.0600000000000005, \"Other_Sales\": 8.269999999999992, \"Global_Sales\": 100.94999999999992}, {\"Platform\": \"X360\", \"Year\": 2013, \"NA_Sales\": 53.12999999999998, \"EU_Sales\": 28.56000000000002, \"JP_Sales\": 0.4300000000000001, \"Other_Sales\": 7.439999999999997, \"Global_Sales\": 89.61000000000001}, {\"Platform\": \"X360\", \"Year\": 2014, \"NA_Sales\": 20.090000000000007, \"EU_Sales\": 13.080000000000002, \"JP_Sales\": 0.08, \"Other_Sales\": 3.1799999999999957, \"Global_Sales\": 36.41999999999998}, {\"Platform\": \"X360\", \"Year\": 2015, \"NA_Sales\": 7.1099999999999985, \"EU_Sales\": 4.769999999999997, \"JP_Sales\": 0.0, \"Other_Sales\": 1.1400000000000003, \"Global_Sales\": 13.049999999999999}, {\"Platform\": \"X360\", \"Year\": 2016, \"NA_Sales\": 0.36000000000000004, \"EU_Sales\": 0.4000000000000001, \"JP_Sales\": 0.0, \"Other_Sales\": 0.07, \"Global_Sales\": 0.8300000000000001}]}}, {\"mode\": \"vega-lite\"});\n",
       "</script>"
      ],
      "text/plain": [
       "alt.Chart(...)"
      ]
     },
     "execution_count": 58,
     "metadata": {},
     "output_type": "execute_result"
    }
   ],
   "source": [
    "\"\"\"\n",
    "Competitive pairings:\n",
    "PS2 (console released 2000) vs. Xbone (console released 2001)\n",
    "PS3 (console released 2006) vs. X360 (console released 2005)\n",
    "\n",
    "Include Nintendo as a combination?\n",
    "\n",
    "Hmmm seeing a new console's release and how it may influence\n",
    "the sales of games of its predecessor's could also be interesting\n",
    "aside from comparing consoles from different companies...\n",
    "\n",
    "Here I try to get a base plot of comparing sales of titles\n",
    "of X360 pre and post XONE\n",
    "\n",
    "\"\"\"\n",
    "data_plot3 =  data_plot2[(data_plot2.Platform == 'X360')] #filter for X360\n",
    "compare = alt.Chart(data_plot3).transform_bin(\n",
    "    'Year', # name to give binned variable\n",
    "    field = 'Year', # variable to bin\n",
    "    bin = alt.Bin(step = 1) # binning parameters\n",
    ").mark_bar(size = 10).encode(\n",
    "    x = 'Year', \n",
    "    y = 'Global_Sales'\n",
    ").transform_calculate(\n",
    "    Density = 'datum.Count/(118*1)', # divide counts by sample size x binwidth\n",
    "    post_xone = 'datum.Year >= 2013'\n",
    ").transform_density(\n",
    "    density = 'Year', # variable to smooth\n",
    "    as_ = ['Year', 'Global_Sales'], # names of outputs\n",
    "    bandwidth = 0.0, # how smooth?\n",
    "    extent = [2005, 2015], # domain on which the smooth is defined\n",
    "    steps = 10 # for plotting: number of points to generate for plotting line\n",
    ").mark_line().encode(\n",
    "     y = alt.Y('Density:Q', title = 'Total Global Sales'),\n",
    "     x = alt.X('Year', title = 'Year'),\n",
    "     color = alt.Color('post_xone:N', title = 'Xbox One released?')\n",
    ").properties(\n",
    "     width = 250,\n",
    "     height = 250\n",
    ")\n",
    "compare\n",
    "\n",
    "# Troubleshooting stuff\n",
    "#temp = vg_sales[(vg_sales.Rank <= 1000)]\n",
    "#temp.Platform.unique()\n",
    "\n",
    "#vg_sales[vg_sales.Rank == 1] #82.74 million\n",
    "#vg_sales[vg_sales.Rank == 1000] #1.76 million\n",
    "\n",
    "#vg_sales_mod3[vg_sales_mod3.Year == 2006]\n",
    "#vg_sales_mod3[vg_sales_mod3.Year == '2006'].count() #this gives different result from the one above\n",
    "\n",
    "#vg_sales_mod3.loc[:,'Year'] = pd.to_numeric(vg_sales_mod3.loc[:,'Year']) #Converting Year to numeric\n",
    "#vg_sales_mod3[vg_sales_mod3.Year == 2006].count()\n",
    "\n",
    "\n",
    "#vg_sales_mod3\n",
    "#vg_sales_mod3[vg_sales_mod3.Year == 2006]\n",
    "#temp = vg_sales_mod3[(vg_sales_mod3.Platform == 'Wii') & (vg_sales_mod3.Year <= 2010)]\n",
    "#vg_sales_mod3\n",
    "#temp.Year.min()\n"
   ]
  },
  {
   "cell_type": "code",
   "execution_count": null,
   "id": "russian-austria",
   "metadata": {},
   "outputs": [],
   "source": [
    "vg_sales.groupby('Genre').aggregate(sum).sort_values(by='Global_Sales', ascending=False).head(5)"
   ]
  },
  {
   "cell_type": "markdown",
   "id": "working-plate",
   "metadata": {},
   "source": [
    "### Sales of Video Games by Genre Over Time ( Top 5 )"
   ]
  },
  {
   "cell_type": "markdown",
   "id": "specified-leadership",
   "metadata": {},
   "source": [
    "<blockquote> \n",
    "<p>\n",
    "    <strong>Figure 1</strong>: Plots show the changes in overall sales for the top 5 genres between 1980 and 2017.\n",
    "</p>\n",
    "</blockquote>"
   ]
  },
  {
   "cell_type": "code",
   "execution_count": 61,
   "id": "handmade-limitation",
   "metadata": {},
   "outputs": [
    {
     "data": {
      "text/html": [
       "\n",
       "<div id=\"altair-viz-a86cd5e578ae40898f9b0dacccbc6602\"></div>\n",
       "<script type=\"text/javascript\">\n",
       "  (function(spec, embedOpt){\n",
       "    const outputDiv = document.getElementById(\"altair-viz-a86cd5e578ae40898f9b0dacccbc6602\");\n",
       "    const paths = {\n",
       "      \"vega\": \"https://cdn.jsdelivr.net/npm//vega@5?noext\",\n",
       "      \"vega-lib\": \"https://cdn.jsdelivr.net/npm//vega-lib?noext\",\n",
       "      \"vega-lite\": \"https://cdn.jsdelivr.net/npm//vega-lite@4.0.2?noext\",\n",
       "      \"vega-embed\": \"https://cdn.jsdelivr.net/npm//vega-embed@6?noext\",\n",
       "    };\n",
       "\n",
       "    function loadScript(lib) {\n",
       "      return new Promise(function(resolve, reject) {\n",
       "        var s = document.createElement('script');\n",
       "        s.src = paths[lib];\n",
       "        s.async = true;\n",
       "        s.onload = () => resolve(paths[lib]);\n",
       "        s.onerror = () => reject(`Error loading script: ${paths[lib]}`);\n",
       "        document.getElementsByTagName(\"head\")[0].appendChild(s);\n",
       "      });\n",
       "    }\n",
       "\n",
       "    function showError(err) {\n",
       "      outputDiv.innerHTML = `<div class=\"error\" style=\"color:red;\">${err}</div>`;\n",
       "      throw err;\n",
       "    }\n",
       "\n",
       "    function displayChart(vegaEmbed) {\n",
       "      vegaEmbed(outputDiv, spec, embedOpt)\n",
       "        .catch(err => showError(`Javascript Error: ${err.message}<br>This usually means there's a typo in your chart specification. See the javascript console for the full traceback.`));\n",
       "    }\n",
       "\n",
       "    if(typeof define === \"function\" && define.amd) {\n",
       "      requirejs.config({paths});\n",
       "      require([\"vega-embed\"], displayChart, err => showError(`Error loading script: ${err.message}`));\n",
       "    } else if (typeof vegaEmbed === \"function\") {\n",
       "      displayChart(vegaEmbed);\n",
       "    } else {\n",
       "      loadScript(\"vega\")\n",
       "        .then(() => loadScript(\"vega-lite\"))\n",
       "        .then(() => loadScript(\"vega-embed\"))\n",
       "        .catch(showError)\n",
       "        .then(() => displayChart(vegaEmbed));\n",
       "    }\n",
       "  })({\"config\": {\"view\": {\"continuousWidth\": 400, \"continuousHeight\": 300}}, \"data\": {\"name\": \"data-b36c9e6b3d3efc3f2cb75ea6809baeee\"}, \"facet\": {\"type\": \"nominal\", \"field\": \"Genre\"}, \"spec\": {\"mark\": {\"type\": \"area\", \"opacity\": 0.5}, \"encoding\": {\"color\": {\"type\": \"nominal\", \"field\": \"Genre\"}, \"x\": {\"type\": \"quantitative\", \"field\": \"Year\"}, \"y\": {\"type\": \"quantitative\", \"field\": \"Global_Sales\"}}, \"width\": 150}, \"$schema\": \"https://vega.github.io/schema/vega-lite/v4.0.2.json\", \"datasets\": {\"data-b36c9e6b3d3efc3f2cb75ea6809baeee\": [{\"Genre\": \"Action\", \"Year\": 1977, \"Rank\": 5821, \"NA_Sales\": 1.5999999999999999, \"EU_Sales\": 0.1, \"JP_Sales\": 0.0, \"Other_Sales\": 0.01, \"Global_Sales\": 1.71}, {\"Genre\": \"Action\", \"Year\": 1978, \"Rank\": 6318, \"NA_Sales\": 0.25, \"EU_Sales\": 0.02, \"JP_Sales\": 0.0, \"Other_Sales\": 0.0, \"Global_Sales\": 0.27}, {\"Genre\": \"Action\", \"Year\": 1979, \"Rank\": 5800, \"NA_Sales\": 0.29, \"EU_Sales\": 0.02, \"JP_Sales\": 0.0, \"Other_Sales\": 0.0, \"Global_Sales\": 0.31}, {\"Genre\": \"Action\", \"Year\": 1980, \"Rank\": 9748, \"NA_Sales\": 0.74, \"EU_Sales\": 0.04, \"JP_Sales\": 0.0, \"Other_Sales\": 0.0, \"Global_Sales\": 0.79}, {\"Genre\": \"Action\", \"Year\": 1981, \"Rank\": 111447, \"NA_Sales\": 13.510000000000005, \"EU_Sales\": 0.8100000000000002, \"JP_Sales\": 0.0, \"Other_Sales\": 0.11999999999999998, \"Global_Sales\": 14.84}, {\"Genre\": \"Action\", \"Year\": 1982, \"Rank\": 102009, \"NA_Sales\": 6.069999999999999, \"EU_Sales\": 0.38000000000000006, \"JP_Sales\": 0.0, \"Other_Sales\": 0.05, \"Global_Sales\": 6.52}, {\"Genre\": \"Action\", \"Year\": 1983, \"Rank\": 36311, \"NA_Sales\": 2.67, \"EU_Sales\": 0.17, \"JP_Sales\": 0.0, \"Other_Sales\": 0.02, \"Global_Sales\": 2.86}, {\"Genre\": \"Action\", \"Year\": 1984, \"Rank\": 940, \"NA_Sales\": 0.8, \"EU_Sales\": 0.19, \"JP_Sales\": 0.83, \"Other_Sales\": 0.03, \"Global_Sales\": 1.85}, {\"Genre\": \"Action\", \"Year\": 1985, \"Rank\": 16245, \"NA_Sales\": 1.64, \"EU_Sales\": 0.38, \"JP_Sales\": 1.44, \"Other_Sales\": 0.06, \"Global_Sales\": 3.52}, {\"Genre\": \"Action\", \"Year\": 1986, \"Rank\": 8897, \"NA_Sales\": 6.5200000000000005, \"EU_Sales\": 1.66, \"JP_Sales\": 5.3100000000000005, \"Other_Sales\": 0.25, \"Global_Sales\": 13.740000000000002}, {\"Genre\": \"Action\", \"Year\": 1987, \"Rank\": 7316, \"NA_Sales\": 1.04, \"EU_Sales\": 0.06, \"JP_Sales\": 0.0, \"Other_Sales\": 0.01, \"Global_Sales\": 1.12}, {\"Genre\": \"Action\", \"Year\": 1988, \"Rank\": 16630, \"NA_Sales\": 1.2800000000000002, \"EU_Sales\": 0.18, \"JP_Sales\": 0.42, \"Other_Sales\": 0.03, \"Global_Sales\": 1.92}, {\"Genre\": \"Action\", \"Year\": 1989, \"Rank\": 11797, \"NA_Sales\": 4.03, \"EU_Sales\": 0.47000000000000003, \"JP_Sales\": 0.31, \"Other_Sales\": 0.05, \"Global_Sales\": 4.85}, {\"Genre\": \"Action\", \"Year\": 1990, \"Rank\": 2505, \"NA_Sales\": 4.2700000000000005, \"EU_Sales\": 0.9700000000000001, \"JP_Sales\": 1.01, \"Other_Sales\": 0.14, \"Global_Sales\": 6.390000000000001}, {\"Genre\": \"Action\", \"Year\": 1991, \"Rank\": 25052, \"NA_Sales\": 3.4699999999999998, \"EU_Sales\": 1.08, \"JP_Sales\": 2.0599999999999996, \"Other_Sales\": 0.15, \"Global_Sales\": 6.76}, {\"Genre\": \"Action\", \"Year\": 1992, \"Rank\": 319, \"NA_Sales\": 2.21, \"EU_Sales\": 0.96, \"JP_Sales\": 0.54, \"Other_Sales\": 0.13, \"Global_Sales\": 3.83}, {\"Genre\": \"Action\", \"Year\": 1993, \"Rank\": 50955, \"NA_Sales\": 0.64, \"EU_Sales\": 0.22, \"JP_Sales\": 0.9200000000000002, \"Other_Sales\": 0.03, \"Global_Sales\": 1.81}, {\"Genre\": \"Action\", \"Year\": 1994, \"Rank\": 42811, \"NA_Sales\": 0.57, \"EU_Sales\": 0.12, \"JP_Sales\": 0.8400000000000001, \"Other_Sales\": 0.02, \"Global_Sales\": 1.55}, {\"Genre\": \"Action\", \"Year\": 1995, \"Rank\": 50751, \"NA_Sales\": 1.7300000000000002, \"EU_Sales\": 0.26, \"JP_Sales\": 1.2599999999999998, \"Other_Sales\": 0.14, \"Global_Sales\": 3.5700000000000007}, {\"Genre\": \"Action\", \"Year\": 1996, \"Rank\": 136730, \"NA_Sales\": 10.65, \"EU_Sales\": 5.879999999999998, \"JP_Sales\": 2.62, \"Other_Sales\": 1.4500000000000002, \"Global_Sales\": 20.580000000000005}, {\"Genre\": \"Action\", \"Year\": 1997, \"Rank\": 202456, \"NA_Sales\": 14.4, \"EU_Sales\": 9.859999999999996, \"JP_Sales\": 1.9000000000000001, \"Other_Sales\": 1.4300000000000004, \"Global_Sales\": 27.580000000000002}, {\"Genre\": \"Action\", \"Year\": 1998, \"Rank\": 306435, \"NA_Sales\": 20.149999999999995, \"EU_Sales\": 11.899999999999999, \"JP_Sales\": 5.549999999999999, \"Other_Sales\": 1.8100000000000007, \"Global_Sales\": 39.440000000000005}, {\"Genre\": \"Action\", \"Year\": 1999, \"Rank\": 260782, \"NA_Sales\": 15.489999999999997, \"EU_Sales\": 9.079999999999998, \"JP_Sales\": 2.9, \"Other_Sales\": 1.3100000000000005, \"Global_Sales\": 28.81999999999999}, {\"Genre\": \"Action\", \"Year\": 2000, \"Rank\": 281725, \"NA_Sales\": 17.95000000000001, \"EU_Sales\": 10.9, \"JP_Sales\": 3.7399999999999993, \"Other_Sales\": 1.6200000000000006, \"Global_Sales\": 34.270000000000024}, {\"Genre\": \"Action\", \"Year\": 2001, \"Rank\": 484139, \"NA_Sales\": 29.650000000000006, \"EU_Sales\": 19.320000000000018, \"JP_Sales\": 5.989999999999999, \"Other_Sales\": 4.339999999999994, \"Global_Sales\": 59.57000000000001}, {\"Genre\": \"Action\", \"Year\": 2002, \"Rank\": 966407, \"NA_Sales\": 48.90000000000002, \"EU_Sales\": 27.790000000000024, \"JP_Sales\": 5.099999999999999, \"Other_Sales\": 6.839999999999991, \"Global_Sales\": 89.13999999999993}, {\"Genre\": \"Action\", \"Year\": 2003, \"Rank\": 1149363, \"NA_Sales\": 37.76000000000002, \"EU_Sales\": 20.88000000000003, \"JP_Sales\": 4.19, \"Other_Sales\": 5.169999999999989, \"Global_Sales\": 67.96}, {\"Genre\": \"Action\", \"Year\": 2004, \"Rank\": 961372, \"NA_Sales\": 39.11000000000002, \"EU_Sales\": 16.05999999999998, \"JP_Sales\": 5.09, \"Other_Sales\": 16.240000000000016, \"Global_Sales\": 76.59999999999997}, {\"Genre\": \"Action\", \"Year\": 2005, \"Rank\": 1508290, \"NA_Sales\": 50.42000000000001, \"EU_Sales\": 22.24000000000003, \"JP_Sales\": 6.409999999999999, \"Other_Sales\": 7.649999999999982, \"Global_Sales\": 86.90000000000008}, {\"Genre\": \"Action\", \"Year\": 2006, \"Rank\": 1770819, \"NA_Sales\": 38.799999999999976, \"EU_Sales\": 15.03999999999997, \"JP_Sales\": 5.909999999999997, \"Other_Sales\": 7.079999999999985, \"Global_Sales\": 67.28999999999996}, {\"Genre\": \"Action\", \"Year\": 2007, \"Rank\": 1578409, \"NA_Sales\": 59.42999999999997, \"EU_Sales\": 25.890000000000047, \"JP_Sales\": 6.169999999999997, \"Other_Sales\": 15.58999999999997, \"Global_Sales\": 107.82000000000005}, {\"Genre\": \"Action\", \"Year\": 2008, \"Rank\": 1654984, \"NA_Sales\": 77.30000000000003, \"EU_Sales\": 42.19000000000001, \"JP_Sales\": 6.079999999999996, \"Other_Sales\": 19.540000000000074, \"Global_Sales\": 145.10000000000005}, {\"Genre\": \"Action\", \"Year\": 2009, \"Rank\": 2093780, \"NA_Sales\": 71.66999999999997, \"EU_Sales\": 39.200000000000045, \"JP_Sales\": 11.959999999999988, \"Other_Sales\": 16.67000000000005, \"Global_Sales\": 139.4200000000001}, {\"Genre\": \"Action\", \"Year\": 2010, \"Rank\": 1633627, \"NA_Sales\": 59.72000000000002, \"EU_Sales\": 35.33000000000004, \"JP_Sales\": 9.239999999999993, \"Other_Sales\": 12.899999999999963, \"Global_Sales\": 118.63999999999997}, {\"Genre\": \"Action\", \"Year\": 2011, \"Rank\": 1955702, \"NA_Sales\": 57.39, \"EU_Sales\": 43.849999999999994, \"JP_Sales\": 10.829999999999995, \"Other_Sales\": 14.269999999999957, \"Global_Sales\": 126.28999999999998}, {\"Genre\": \"Action\", \"Year\": 2012, \"Rank\": 2274149, \"NA_Sales\": 52.030000000000015, \"EU_Sales\": 41.88000000000006, \"JP_Sales\": 12.29999999999997, \"Other_Sales\": 14.359999999999982, \"Global_Sales\": 122.03999999999988}, {\"Genre\": \"Action\", \"Year\": 2013, \"Rank\": 1134345, \"NA_Sales\": 53.87000000000001, \"EU_Sales\": 45.33000000000004, \"JP_Sales\": 10.879999999999994, \"Other_Sales\": 15.409999999999982, \"Global_Sales\": 125.86}, {\"Genre\": \"Action\", \"Year\": 2014, \"Rank\": 1456173, \"NA_Sales\": 38.730000000000025, \"EU_Sales\": 39.95000000000002, \"JP_Sales\": 6.499999999999994, \"Other_Sales\": 13.299999999999972, \"Global_Sales\": 99.02000000000008}, {\"Genre\": \"Action\", \"Year\": 2015, \"Rank\": 2722749, \"NA_Sales\": 22.830000000000016, \"EU_Sales\": 24.66000000000003, \"JP_Sales\": 15.849999999999977, \"Other_Sales\": 7.329999999999981, \"Global_Sales\": 70.70999999999997}, {\"Genre\": \"Action\", \"Year\": 2016, \"Rank\": 1380834, \"NA_Sales\": 5.869999999999992, \"EU_Sales\": 6.359999999999994, \"JP_Sales\": 5.789999999999992, \"Other_Sales\": 1.8300000000000007, \"Global_Sales\": 19.910000000000025}, {\"Genre\": \"Action\", \"Year\": 2017, \"Rank\": 16441, \"NA_Sales\": 0.0, \"EU_Sales\": 0.0, \"JP_Sales\": 0.01, \"Other_Sales\": 0.0, \"Global_Sales\": 0.01}, {\"Genre\": \"Platform\", \"Year\": 1981, \"Rank\": 3693, \"NA_Sales\": 6.470000000000001, \"EU_Sales\": 0.37, \"JP_Sales\": 0.0, \"Other_Sales\": 0.08, \"Global_Sales\": 6.93}, {\"Genre\": \"Platform\", \"Year\": 1982, \"Rank\": 11520, \"NA_Sales\": 4.6899999999999995, \"EU_Sales\": 0.28, \"JP_Sales\": 0.0, \"Other_Sales\": 0.060000000000000005, \"Global_Sales\": 5.03}, {\"Genre\": \"Platform\", \"Year\": 1983, \"Rank\": 7727, \"NA_Sales\": 2.8, \"EU_Sales\": 0.43, \"JP_Sales\": 3.62, \"Other_Sales\": 0.08, \"Global_Sales\": 6.93}, {\"Genre\": \"Platform\", \"Year\": 1984, \"Rank\": 17119, \"NA_Sales\": 0.02, \"EU_Sales\": 0.01, \"JP_Sales\": 0.69, \"Other_Sales\": 0.0, \"Global_Sales\": 0.72}, {\"Genre\": \"Platform\", \"Year\": 1985, \"Rank\": 7434, \"NA_Sales\": 29.47, \"EU_Sales\": 3.77, \"JP_Sales\": 8.67, \"Other_Sales\": 0.8, \"Global_Sales\": 43.17}, {\"Genre\": \"Platform\", \"Year\": 1986, \"Rank\": 8108, \"NA_Sales\": 1.07, \"EU_Sales\": 0.18, \"JP_Sales\": 8.110000000000001, \"Other_Sales\": 0.03, \"Global_Sales\": 9.39}, {\"Genre\": \"Platform\", \"Year\": 1987, \"Rank\": 4785, \"NA_Sales\": 0.9, \"EU_Sales\": 0.14, \"JP_Sales\": 0.69, \"Other_Sales\": 0.01, \"Global_Sales\": 1.7400000000000002}, {\"Genre\": \"Platform\", \"Year\": 1988, \"Rank\": 2661, \"NA_Sales\": 16.34, \"EU_Sales\": 4.99, \"JP_Sales\": 5.699999999999999, \"Other_Sales\": 0.7000000000000001, \"Global_Sales\": 27.73}, {\"Genre\": \"Platform\", \"Year\": 1989, \"Rank\": 3554, \"NA_Sales\": 12.14, \"EU_Sales\": 3.0799999999999996, \"JP_Sales\": 4.97, \"Other_Sales\": 0.47, \"Global_Sales\": 20.660000000000004}, {\"Genre\": \"Platform\", \"Year\": 1990, \"Rank\": 3444, \"NA_Sales\": 14.139999999999999, \"EU_Sales\": 3.99, \"JP_Sales\": 4.28, \"Other_Sales\": 0.5700000000000001, \"Global_Sales\": 22.97}, {\"Genre\": \"Platform\", \"Year\": 1991, \"Rank\": 19737, \"NA_Sales\": 4.36, \"EU_Sales\": 1.1900000000000002, \"JP_Sales\": 1.9100000000000001, \"Other_Sales\": 0.17, \"Global_Sales\": 7.64}, {\"Genre\": \"Platform\", \"Year\": 1992, \"Rank\": 25321, \"NA_Sales\": 8.23, \"EU_Sales\": 2.05, \"JP_Sales\": 2.79, \"Other_Sales\": 0.33999999999999997, \"Global_Sales\": 13.42}, {\"Genre\": \"Platform\", \"Year\": 1993, \"Rank\": 48182, \"NA_Sales\": 8.659999999999998, \"EU_Sales\": 3.1599999999999997, \"JP_Sales\": 5.209999999999999, \"Other_Sales\": 0.6500000000000001, \"Global_Sales\": 18.669999999999998}, {\"Genre\": \"Platform\", \"Year\": 1994, \"Rank\": 35748, \"NA_Sales\": 14.88, \"EU_Sales\": 5.7299999999999995, \"JP_Sales\": 7.020000000000001, \"Other_Sales\": 1.1300000000000001, \"Global_Sales\": 28.740000000000002}, {\"Genre\": \"Platform\", \"Year\": 1995, \"Rank\": 87110, \"NA_Sales\": 6.610000000000001, \"EU_Sales\": 3.2199999999999998, \"JP_Sales\": 6.3599999999999985, \"Other_Sales\": 0.5, \"Global_Sales\": 16.689999999999998}, {\"Genre\": \"Platform\", \"Year\": 1996, \"Rank\": 81078, \"NA_Sales\": 13.809999999999999, \"EU_Sales\": 6.830000000000001, \"JP_Sales\": 6.76, \"Other_Sales\": 0.8300000000000001, \"Global_Sales\": 28.23}, {\"Genre\": \"Platform\", \"Year\": 1997, \"Rank\": 106754, \"NA_Sales\": 11.489999999999998, \"EU_Sales\": 6.759999999999998, \"JP_Sales\": 3.71, \"Other_Sales\": 0.9300000000000002, \"Global_Sales\": 22.88}, {\"Genre\": \"Platform\", \"Year\": 1998, \"Rank\": 135045, \"NA_Sales\": 17.05, \"EU_Sales\": 8.189999999999998, \"JP_Sales\": 3.29, \"Other_Sales\": 1.3000000000000003, \"Global_Sales\": 29.879999999999992}, {\"Genre\": \"Platform\", \"Year\": 1999, \"Rank\": 88824, \"NA_Sales\": 13.000000000000004, \"EU_Sales\": 5.339999999999998, \"JP_Sales\": 1.6600000000000001, \"Other_Sales\": 0.8000000000000003, \"Global_Sales\": 20.82}, {\"Genre\": \"Platform\", \"Year\": 2000, \"Rank\": 159003, \"NA_Sales\": 7.87, \"EU_Sales\": 4.64, \"JP_Sales\": 2.56, \"Other_Sales\": 0.9800000000000004, \"Global_Sales\": 16.06}, {\"Genre\": \"Platform\", \"Year\": 2001, \"Rank\": 295847, \"NA_Sales\": 21.609999999999996, \"EU_Sales\": 11.62, \"JP_Sales\": 3.5399999999999996, \"Other_Sales\": 2.5599999999999974, \"Global_Sales\": 39.28}, {\"Genre\": \"Platform\", \"Year\": 2002, \"Rank\": 557565, \"NA_Sales\": 26.869999999999994, \"EU_Sales\": 11.759999999999996, \"JP_Sales\": 4.5200000000000005, \"Other_Sales\": 2.4399999999999973, \"Global_Sales\": 46.25000000000001}, {\"Genre\": \"Platform\", \"Year\": 2003, \"Rank\": 683540, \"NA_Sales\": 25.310000000000002, \"EU_Sales\": 12.499999999999986, \"JP_Sales\": 2.2199999999999998, \"Other_Sales\": 2.789999999999995, \"Global_Sales\": 42.89}, {\"Genre\": \"Platform\", \"Year\": 2004, \"Rank\": 401365, \"NA_Sales\": 26.350000000000012, \"EU_Sales\": 12.04999999999999, \"JP_Sales\": 6.110000000000001, \"Other_Sales\": 2.8299999999999956, \"Global_Sales\": 47.34000000000001}, {\"Genre\": \"Platform\", \"Year\": 2005, \"Rank\": 747231, \"NA_Sales\": 15.619999999999996, \"EU_Sales\": 5.389999999999995, \"JP_Sales\": 1.12, \"Other_Sales\": 1.4300000000000004, \"Global_Sales\": 23.61}, {\"Genre\": \"Platform\", \"Year\": 2006, \"Rank\": 478212, \"NA_Sales\": 23.420000000000016, \"EU_Sales\": 12.489999999999991, \"JP_Sales\": 9.329999999999998, \"Other_Sales\": 5.199999999999996, \"Global_Sales\": 50.54}, {\"Genre\": \"Platform\", \"Year\": 2007, \"Rank\": 319463, \"NA_Sales\": 19.019999999999996, \"EU_Sales\": 9.769999999999992, \"JP_Sales\": 2.9799999999999995, \"Other_Sales\": 3.7599999999999985, \"Global_Sales\": 35.59}, {\"Genre\": \"Platform\", \"Year\": 2008, \"Rank\": 435154, \"NA_Sales\": 17.589999999999993, \"EU_Sales\": 10.780000000000001, \"JP_Sales\": 2.359999999999999, \"Other_Sales\": 4.939999999999997, \"Global_Sales\": 35.72000000000002}, {\"Genre\": \"Platform\", \"Year\": 2009, \"Rank\": 233511, \"NA_Sales\": 20.280000000000005, \"EU_Sales\": 11.579999999999998, \"JP_Sales\": 4.84, \"Other_Sales\": 4.3699999999999966, \"Global_Sales\": 41.10000000000001}, {\"Genre\": \"Platform\", \"Year\": 2010, \"Rank\": 213631, \"NA_Sales\": 17.210000000000004, \"EU_Sales\": 7.939999999999997, \"JP_Sales\": 3.679999999999999, \"Other_Sales\": 2.5899999999999976, \"Global_Sales\": 31.96}, {\"Genre\": \"Platform\", \"Year\": 2011, \"Rank\": 291639, \"NA_Sales\": 13.059999999999999, \"EU_Sales\": 8.859999999999998, \"JP_Sales\": 3.4899999999999993, \"Other_Sales\": 2.7099999999999973, \"Global_Sales\": 28.109999999999992}, {\"Genre\": \"Platform\", \"Year\": 2012, \"Rank\": 89675, \"NA_Sales\": 7.32, \"EU_Sales\": 5.879999999999999, \"JP_Sales\": 3.8400000000000003, \"Other_Sales\": 1.5200000000000002, \"Global_Sales\": 18.549999999999997}, {\"Genre\": \"Platform\", \"Year\": 2013, \"Rank\": 236077, \"NA_Sales\": 11.619999999999994, \"EU_Sales\": 9.089999999999998, \"JP_Sales\": 2.0799999999999996, \"Other_Sales\": 2.299999999999999, \"Global_Sales\": 25.12}, {\"Genre\": \"Platform\", \"Year\": 2014, \"Rank\": 54643, \"NA_Sales\": 3.02, \"EU_Sales\": 3.6300000000000003, \"JP_Sales\": 1.26, \"Other_Sales\": 0.9600000000000001, \"Global_Sales\": 8.89}, {\"Genre\": \"Platform\", \"Year\": 2015, \"Rank\": 134542, \"NA_Sales\": 2.499999999999999, \"EU_Sales\": 1.8100000000000003, \"JP_Sales\": 1.2900000000000003, \"Other_Sales\": 0.45000000000000007, \"Global_Sales\": 6.050000000000002}, {\"Genre\": \"Platform\", \"Year\": 2016, \"Rank\": 108603, \"NA_Sales\": 0.79, \"EU_Sales\": 0.8700000000000001, \"JP_Sales\": 0.11, \"Other_Sales\": 0.31000000000000005, \"Global_Sales\": 2.0699999999999994}, {\"Genre\": \"Role-Playing\", \"Year\": 1986, \"Rank\": 612, \"NA_Sales\": 0.49, \"EU_Sales\": 0.0, \"JP_Sales\": 0.52, \"Other_Sales\": 1.51, \"Global_Sales\": 2.52}, {\"Genre\": \"Role-Playing\", \"Year\": 1987, \"Rank\": 4661, \"NA_Sales\": 0.47, \"EU_Sales\": 0.0, \"JP_Sales\": 4.18, \"Other_Sales\": 0.0, \"Global_Sales\": 4.65}, {\"Genre\": \"Role-Playing\", \"Year\": 1988, \"Rank\": 4608, \"NA_Sales\": 0.1, \"EU_Sales\": 0.0, \"JP_Sales\": 5.779999999999999, \"Other_Sales\": 0.0, \"Global_Sales\": 5.88}, {\"Genre\": \"Role-Playing\", \"Year\": 1989, \"Rank\": 3721, \"NA_Sales\": 0.0, \"EU_Sales\": 0.0, \"JP_Sales\": 2.2, \"Other_Sales\": 0.0, \"Global_Sales\": 2.2}, {\"Genre\": \"Role-Playing\", \"Year\": 1990, \"Rank\": 1834, \"NA_Sales\": 0.08, \"EU_Sales\": 0.0, \"JP_Sales\": 4.42, \"Other_Sales\": 0.02, \"Global_Sales\": 4.52}, {\"Genre\": \"Role-Playing\", \"Year\": 1991, \"Rank\": 27824, \"NA_Sales\": 0.24, \"EU_Sales\": 0.09, \"JP_Sales\": 2.8099999999999996, \"Other_Sales\": 0.12, \"Global_Sales\": 3.25}, {\"Genre\": \"Role-Playing\", \"Year\": 1992, \"Rank\": 18853, \"NA_Sales\": 0.0, \"EU_Sales\": 0.0, \"JP_Sales\": 6.83, \"Other_Sales\": 0.03, \"Global_Sales\": 6.86}, {\"Genre\": \"Role-Playing\", \"Year\": 1993, \"Rank\": 58819, \"NA_Sales\": 0.25, \"EU_Sales\": 0.07, \"JP_Sales\": 5.25, \"Other_Sales\": 0.02, \"Global_Sales\": 5.590000000000001}, {\"Genre\": \"Role-Playing\", \"Year\": 1994, \"Rank\": 143425, \"NA_Sales\": 0.86, \"EU_Sales\": 0.0, \"JP_Sales\": 6.23, \"Other_Sales\": 0.04, \"Global_Sales\": 7.110000000000001}, {\"Genre\": \"Role-Playing\", \"Year\": 1995, \"Rank\": 144686, \"NA_Sales\": 0.71, \"EU_Sales\": 0.30000000000000004, \"JP_Sales\": 13.09, \"Other_Sales\": 0.17000000000000004, \"Global_Sales\": 14.260000000000002}, {\"Genre\": \"Role-Playing\", \"Year\": 1996, \"Rank\": 181244, \"NA_Sales\": 12.78, \"EU_Sales\": 11.04, \"JP_Sales\": 18.779999999999998, \"Other_Sales\": 1.3900000000000003, \"Global_Sales\": 43.96}, {\"Genre\": \"Role-Playing\", \"Year\": 1997, \"Rank\": 123332, \"NA_Sales\": 5.3100000000000005, \"EU_Sales\": 3.4399999999999995, \"JP_Sales\": 11.560000000000002, \"Other_Sales\": 1.5100000000000005, \"Global_Sales\": 21.79}, {\"Genre\": \"Role-Playing\", \"Year\": 1998, \"Rank\": 174480, \"NA_Sales\": 9.16, \"EU_Sales\": 6.439999999999999, \"JP_Sales\": 11.33, \"Other_Sales\": 1.1600000000000004, \"Global_Sales\": 28.090000000000007}, {\"Genre\": \"Role-Playing\", \"Year\": 1999, \"Rank\": 173289, \"NA_Sales\": 16.839999999999996, \"EU_Sales\": 11.170000000000002, \"JP_Sales\": 18.990000000000002, \"Other_Sales\": 1.9700000000000009, \"Global_Sales\": 49.419999999999995}, {\"Genre\": \"Role-Playing\", \"Year\": 2000, \"Rank\": 165095, \"NA_Sales\": 7.2, \"EU_Sales\": 4.200000000000001, \"JP_Sales\": 15.799999999999999, \"Other_Sales\": 1.8400000000000003, \"Global_Sales\": 29.029999999999998}, {\"Genre\": \"Role-Playing\", \"Year\": 2001, \"Rank\": 327994, \"NA_Sales\": 7.459999999999998, \"EU_Sales\": 4.139999999999999, \"JP_Sales\": 9.549999999999995, \"Other_Sales\": 0.8700000000000003, \"Global_Sales\": 22.06000000000001}, {\"Genre\": \"Role-Playing\", \"Year\": 2002, \"Rank\": 430639, \"NA_Sales\": 20.8, \"EU_Sales\": 9.679999999999996, \"JP_Sales\": 14.170000000000002, \"Other_Sales\": 1.7800000000000007, \"Global_Sales\": 46.429999999999986}, {\"Genre\": \"Role-Playing\", \"Year\": 2003, \"Rank\": 339579, \"NA_Sales\": 13.799999999999997, \"EU_Sales\": 5.6999999999999975, \"JP_Sales\": 9.739999999999998, \"Other_Sales\": 1.1600000000000004, \"Global_Sales\": 30.389999999999983}, {\"Genre\": \"Role-Playing\", \"Year\": 2004, \"Rank\": 452132, \"NA_Sales\": 21.570000000000014, \"EU_Sales\": 16.74000000000001, \"JP_Sales\": 13.489999999999998, \"Other_Sales\": 2.179999999999999, \"Global_Sales\": 53.98}, {\"Genre\": \"Role-Playing\", \"Year\": 2005, \"Rank\": 614297, \"NA_Sales\": 12.259999999999998, \"EU_Sales\": 4.959999999999994, \"JP_Sales\": 9.309999999999999, \"Other_Sales\": 2.069999999999999, \"Global_Sales\": 28.639999999999983}, {\"Genre\": \"Role-Playing\", \"Year\": 2006, \"Rank\": 1004134, \"NA_Sales\": 24.380000000000006, \"EU_Sales\": 8.119999999999996, \"JP_Sales\": 20.46000000000002, \"Other_Sales\": 5.4399999999999915, \"Global_Sales\": 58.36000000000001}, {\"Genre\": \"Role-Playing\", \"Year\": 2007, \"Rank\": 953583, \"NA_Sales\": 19.800000000000008, \"EU_Sales\": 8.369999999999994, \"JP_Sales\": 12.479999999999995, \"Other_Sales\": 3.2599999999999945, \"Global_Sales\": 43.940000000000026}, {\"Genre\": \"Role-Playing\", \"Year\": 2008, \"Rank\": 956242, \"NA_Sales\": 25.37999999999999, \"EU_Sales\": 11.35999999999999, \"JP_Sales\": 17.69000000000001, \"Other_Sales\": 5.669999999999988, \"Global_Sales\": 60.240000000000045}, {\"Genre\": \"Role-Playing\", \"Year\": 2009, \"Rank\": 921028, \"NA_Sales\": 19.080000000000002, \"EU_Sales\": 7.479999999999997, \"JP_Sales\": 17.140000000000008, \"Other_Sales\": 3.4699999999999944, \"Global_Sales\": 48.00000000000001}, {\"Genre\": \"Role-Playing\", \"Year\": 2010, \"Rank\": 830751, \"NA_Sales\": 28.54999999999999, \"EU_Sales\": 13.69999999999999, \"JP_Sales\": 23.669999999999995, \"Other_Sales\": 4.639999999999993, \"Global_Sales\": 70.51999999999997}, {\"Genre\": \"Role-Playing\", \"Year\": 2011, \"Rank\": 814101, \"NA_Sales\": 20.02, \"EU_Sales\": 14.219999999999995, \"JP_Sales\": 14.469999999999988, \"Other_Sales\": 5.059999999999995, \"Global_Sales\": 53.820000000000014}, {\"Genre\": \"Role-Playing\", \"Year\": 2012, \"Rank\": 620105, \"NA_Sales\": 17.429999999999996, \"EU_Sales\": 11.969999999999997, \"JP_Sales\": 14.419999999999995, \"Other_Sales\": 3.559999999999998, \"Global_Sales\": 47.84000000000002}, {\"Genre\": \"Role-Playing\", \"Year\": 2013, \"Rank\": 568953, \"NA_Sales\": 13.090000000000003, \"EU_Sales\": 8.94, \"JP_Sales\": 19.86, \"Other_Sales\": 2.9999999999999982, \"Global_Sales\": 44.920000000000016}, {\"Genre\": \"Role-Playing\", \"Year\": 2014, \"Rank\": 809058, \"NA_Sales\": 13.56, \"EU_Sales\": 11.239999999999993, \"JP_Sales\": 17.709999999999997, \"Other_Sales\": 3.3799999999999963, \"Global_Sales\": 45.859999999999985}, {\"Genre\": \"Role-Playing\", \"Year\": 2015, \"Rank\": 706714, \"NA_Sales\": 13.34999999999999, \"EU_Sales\": 12.519999999999996, \"JP_Sales\": 6.709999999999998, \"Other_Sales\": 3.849999999999998, \"Global_Sales\": 36.439999999999976}, {\"Genre\": \"Role-Playing\", \"Year\": 2016, \"Rank\": 425798, \"NA_Sales\": 1.3900000000000001, \"EU_Sales\": 1.2900000000000003, \"JP_Sales\": 3.629999999999999, \"Other_Sales\": 0.4400000000000001, \"Global_Sales\": 6.759999999999995}, {\"Genre\": \"Role-Playing\", \"Year\": 2017, \"Rank\": 30637, \"NA_Sales\": 0.0, \"EU_Sales\": 0.0, \"JP_Sales\": 0.04, \"Other_Sales\": 0.0, \"Global_Sales\": 0.04}, {\"Genre\": \"Shooter\", \"Year\": 1977, \"Rank\": 2115, \"NA_Sales\": 0.91, \"EU_Sales\": 0.06, \"JP_Sales\": 0.0, \"Other_Sales\": 0.01, \"Global_Sales\": 0.98}, {\"Genre\": \"Shooter\", \"Year\": 1978, \"Rank\": 608, \"NA_Sales\": 2.36, \"EU_Sales\": 0.14, \"JP_Sales\": 0.0, \"Other_Sales\": 0.03, \"Global_Sales\": 2.53}, {\"Genre\": \"Shooter\", \"Year\": 1980, \"Rank\": 804, \"NA_Sales\": 6.5600000000000005, \"EU_Sales\": 0.43000000000000005, \"JP_Sales\": 0.0, \"Other_Sales\": 0.08, \"Global_Sales\": 7.069999999999999}, {\"Genre\": \"Shooter\", \"Year\": 1981, \"Rank\": 31031, \"NA_Sales\": 9.370000000000003, \"EU_Sales\": 0.56, \"JP_Sales\": 0.0, \"Other_Sales\": 0.09, \"Global_Sales\": 10.040000000000001}, {\"Genre\": \"Shooter\", \"Year\": 1982, \"Rank\": 14330, \"NA_Sales\": 3.55, \"EU_Sales\": 0.21000000000000002, \"JP_Sales\": 0.0, \"Other_Sales\": 0.05, \"Global_Sales\": 3.79}, {\"Genre\": \"Shooter\", \"Year\": 1983, \"Rank\": 4098, \"NA_Sales\": 0.45, \"EU_Sales\": 0.03, \"JP_Sales\": 0.0, \"Other_Sales\": 0.01, \"Global_Sales\": 0.48}, {\"Genre\": \"Shooter\", \"Year\": 1984, \"Rank\": 2808, \"NA_Sales\": 27.79, \"EU_Sales\": 0.85, \"JP_Sales\": 1.96, \"Other_Sales\": 0.5, \"Global_Sales\": 31.099999999999998}, {\"Genre\": \"Shooter\", \"Year\": 1985, \"Rank\": 2061, \"NA_Sales\": 0.65, \"EU_Sales\": 0.14, \"JP_Sales\": 0.21, \"Other_Sales\": 0.0, \"Global_Sales\": 1.0}, {\"Genre\": \"Shooter\", \"Year\": 1986, \"Rank\": 10350, \"NA_Sales\": 0.9400000000000001, \"EU_Sales\": 0.16, \"JP_Sales\": 2.77, \"Other_Sales\": 0.02, \"Global_Sales\": 3.89}, {\"Genre\": \"Shooter\", \"Year\": 1987, \"Rank\": 10980, \"NA_Sales\": 0.6599999999999999, \"EU_Sales\": 0.03, \"JP_Sales\": 0.0, \"Other_Sales\": 0.0, \"Global_Sales\": 0.71}, {\"Genre\": \"Shooter\", \"Year\": 1988, \"Rank\": 3942, \"NA_Sales\": 0.47, \"EU_Sales\": 0.03, \"JP_Sales\": 0.0, \"Other_Sales\": 0.01, \"Global_Sales\": 0.51}, {\"Genre\": \"Shooter\", \"Year\": 1989, \"Rank\": 1680, \"NA_Sales\": 0.4, \"EU_Sales\": 0.39, \"JP_Sales\": 0.36, \"Other_Sales\": 0.04, \"Global_Sales\": 1.2}, {\"Genre\": \"Shooter\", \"Year\": 1991, \"Rank\": 18166, \"NA_Sales\": 1.06, \"EU_Sales\": 0.38, \"JP_Sales\": 0.5, \"Other_Sales\": 0.05, \"Global_Sales\": 2.0}, {\"Genre\": \"Shooter\", \"Year\": 1992, \"Rank\": 33609, \"NA_Sales\": 0.02, \"EU_Sales\": 0.0, \"JP_Sales\": 0.26, \"Other_Sales\": 0.0, \"Global_Sales\": 0.29000000000000004}, {\"Genre\": \"Shooter\", \"Year\": 1993, \"Rank\": 11602, \"NA_Sales\": 1.61, \"EU_Sales\": 0.51, \"JP_Sales\": 0.89, \"Other_Sales\": 0.07, \"Global_Sales\": 3.08}, {\"Genre\": \"Shooter\", \"Year\": 1994, \"Rank\": 63892, \"NA_Sales\": 3.71, \"EU_Sales\": 2.57, \"JP_Sales\": 1.67, \"Other_Sales\": 0.35000000000000003, \"Global_Sales\": 8.3}, {\"Genre\": \"Shooter\", \"Year\": 1995, \"Rank\": 297570, \"NA_Sales\": 0.7000000000000001, \"EU_Sales\": 0.4800000000000002, \"JP_Sales\": 2.8499999999999996, \"Other_Sales\": 0.11999999999999998, \"Global_Sales\": 4.1499999999999995}, {\"Genre\": \"Shooter\", \"Year\": 1996, \"Rank\": 200520, \"NA_Sales\": 3.28, \"EU_Sales\": 2.139999999999999, \"JP_Sales\": 1.11, \"Other_Sales\": 0.37, \"Global_Sales\": 6.91}, {\"Genre\": \"Shooter\", \"Year\": 1997, \"Rank\": 217943, \"NA_Sales\": 15.0, \"EU_Sales\": 4.5, \"JP_Sales\": 2.17, \"Other_Sales\": 0.4900000000000001, \"Global_Sales\": 22.169999999999998}, {\"Genre\": \"Shooter\", \"Year\": 1998, \"Rank\": 193020, \"NA_Sales\": 5.61, \"EU_Sales\": 3.3599999999999994, \"JP_Sales\": 0.36, \"Other_Sales\": 0.4700000000000001, \"Global_Sales\": 9.799999999999997}, {\"Genre\": \"Shooter\", \"Year\": 1999, \"Rank\": 95027, \"NA_Sales\": 7.769999999999999, \"EU_Sales\": 3.7299999999999986, \"JP_Sales\": 0.29000000000000004, \"Other_Sales\": 0.44000000000000006, \"Global_Sales\": 12.249999999999998}, {\"Genre\": \"Shooter\", \"Year\": 2000, \"Rank\": 163589, \"NA_Sales\": 3.9999999999999996, \"EU_Sales\": 2.169999999999999, \"JP_Sales\": 0.2, \"Other_Sales\": 0.4600000000000001, \"Global_Sales\": 6.81}, {\"Genre\": \"Shooter\", \"Year\": 2001, \"Rank\": 258247, \"NA_Sales\": 15.11, \"EU_Sales\": 7.499999999999998, \"JP_Sales\": 0.53, \"Other_Sales\": 1.6700000000000006, \"Global_Sales\": 24.770000000000003}, {\"Genre\": \"Shooter\", \"Year\": 2002, \"Rank\": 585759, \"NA_Sales\": 29.18999999999999, \"EU_Sales\": 15.189999999999989, \"JP_Sales\": 1.02, \"Other_Sales\": 3.8299999999999947, \"Global_Sales\": 49.329999999999984}, {\"Genre\": \"Shooter\", \"Year\": 2003, \"Rank\": 669194, \"NA_Sales\": 16.170000000000012, \"EU_Sales\": 7.979999999999995, \"JP_Sales\": 0.21000000000000002, \"Other_Sales\": 2.2299999999999986, \"Global_Sales\": 27.210000000000008}, {\"Genre\": \"Shooter\", \"Year\": 2004, \"Rank\": 738154, \"NA_Sales\": 30.260000000000005, \"EU_Sales\": 12.859999999999982, \"JP_Sales\": 0.65, \"Other_Sales\": 3.209999999999995, \"Global_Sales\": 47.400000000000034}, {\"Genre\": \"Shooter\", \"Year\": 2005, \"Rank\": 816150, \"NA_Sales\": 28.34000000000001, \"EU_Sales\": 9.299999999999988, \"JP_Sales\": 1.32, \"Other_Sales\": 3.259999999999995, \"Global_Sales\": 42.26000000000004}, {\"Genre\": \"Shooter\", \"Year\": 2006, \"Rank\": 643559, \"NA_Sales\": 24.370000000000015, \"EU_Sales\": 9.659999999999982, \"JP_Sales\": 1.8900000000000003, \"Other_Sales\": 4.849999999999995, \"Global_Sales\": 40.80000000000004}, {\"Genre\": \"Shooter\", \"Year\": 2007, \"Rank\": 639388, \"NA_Sales\": 38.88000000000001, \"EU_Sales\": 22.090000000000014, \"JP_Sales\": 1.5300000000000007, \"Other_Sales\": 8.489999999999988, \"Global_Sales\": 71.03999999999999}, {\"Genre\": \"Shooter\", \"Year\": 2008, \"Rank\": 633454, \"NA_Sales\": 34.95, \"EU_Sales\": 16.11, \"JP_Sales\": 0.7700000000000002, \"Other_Sales\": 7.499999999999995, \"Global_Sales\": 59.51000000000001}, {\"Genre\": \"Shooter\", \"Year\": 2009, \"Rank\": 731234, \"NA_Sales\": 39.24, \"EU_Sales\": 21.38000000000002, \"JP_Sales\": 1.1500000000000004, \"Other_Sales\": 8.609999999999987, \"Global_Sales\": 70.43}, {\"Genre\": \"Shooter\", \"Year\": 2010, \"Rank\": 627951, \"NA_Sales\": 44.11000000000001, \"EU_Sales\": 25.020000000000007, \"JP_Sales\": 2.1300000000000003, \"Other_Sales\": 8.649999999999991, \"Global_Sales\": 79.87999999999992}, {\"Genre\": \"Shooter\", \"Year\": 2011, \"Rank\": 636612, \"NA_Sales\": 49.430000000000014, \"EU_Sales\": 35.33000000000001, \"JP_Sales\": 2.7299999999999986, \"Other_Sales\": 11.549999999999994, \"Global_Sales\": 99.61}, {\"Genre\": \"Shooter\", \"Year\": 2012, \"Rank\": 288976, \"NA_Sales\": 35.07000000000001, \"EU_Sales\": 25.940000000000005, \"JP_Sales\": 2.619999999999999, \"Other_Sales\": 8.819999999999995, \"Global_Sales\": 72.86999999999999}, {\"Genre\": \"Shooter\", \"Year\": 2013, \"Rank\": 372545, \"NA_Sales\": 30.699999999999996, \"EU_Sales\": 23.149999999999995, \"JP_Sales\": 1.7300000000000004, \"Other_Sales\": 7.149999999999994, \"Global_Sales\": 62.799999999999976}, {\"Genre\": \"Shooter\", \"Year\": 2014, \"Rank\": 196375, \"NA_Sales\": 30.720000000000002, \"EU_Sales\": 25.81, \"JP_Sales\": 1.08, \"Other_Sales\": 8.379999999999997, \"Global_Sales\": 65.99999999999996}, {\"Genre\": \"Shooter\", \"Year\": 2015, \"Rank\": 125348, \"NA_Sales\": 30.789999999999992, \"EU_Sales\": 24.230000000000008, \"JP_Sales\": 2.689999999999999, \"Other_Sales\": 8.409999999999995, \"Global_Sales\": 66.14999999999999}, {\"Genre\": \"Shooter\", \"Year\": 2016, \"Rank\": 279947, \"NA_Sales\": 7.439999999999998, \"EU_Sales\": 7.699999999999999, \"JP_Sales\": 0.6100000000000001, \"Other_Sales\": 2.4199999999999977, \"Global_Sales\": 18.219999999999995}, {\"Genre\": \"Sports\", \"Year\": 1980, \"Rank\": 7909, \"NA_Sales\": 0.94, \"EU_Sales\": 0.06, \"JP_Sales\": 0.0, \"Other_Sales\": 0.02, \"Global_Sales\": 1.0}, {\"Genre\": \"Sports\", \"Year\": 1981, \"Rank\": 31315, \"NA_Sales\": 0.74, \"EU_Sales\": 0.04, \"JP_Sales\": 0.0, \"Other_Sales\": 0.0, \"Global_Sales\": 0.7899999999999999}, {\"Genre\": \"Sports\", \"Year\": 1982, \"Rank\": 7660, \"NA_Sales\": 0.98, \"EU_Sales\": 0.06, \"JP_Sales\": 0.0, \"Other_Sales\": 0.02, \"Global_Sales\": 1.05}, {\"Genre\": \"Sports\", \"Year\": 1983, \"Rank\": 422, \"NA_Sales\": 0.73, \"EU_Sales\": 0.1, \"JP_Sales\": 2.35, \"Other_Sales\": 0.02, \"Global_Sales\": 3.2}, {\"Genre\": \"Sports\", \"Year\": 1984, \"Rank\": 1055, \"NA_Sales\": 1.7, \"EU_Sales\": 0.39, \"JP_Sales\": 4.02, \"Other_Sales\": 0.06, \"Global_Sales\": 6.18}, {\"Genre\": \"Sports\", \"Year\": 1985, \"Rank\": 870, \"NA_Sales\": 0.18, \"EU_Sales\": 0.23, \"JP_Sales\": 1.53, \"Other_Sales\": 0.02, \"Global_Sales\": 1.96}, {\"Genre\": \"Sports\", \"Year\": 1986, \"Rank\": 7150, \"NA_Sales\": 2.3499999999999996, \"EU_Sales\": 0.47000000000000003, \"JP_Sales\": 2.69, \"Other_Sales\": 0.07, \"Global_Sales\": 5.57}, {\"Genre\": \"Sports\", \"Year\": 1987, \"Rank\": 25593, \"NA_Sales\": 0.4, \"EU_Sales\": 0.03, \"JP_Sales\": 3.2800000000000002, \"Other_Sales\": 0.0, \"Global_Sales\": 3.7199999999999998}, {\"Genre\": \"Sports\", \"Year\": 1988, \"Rank\": 2349, \"NA_Sales\": 1.37, \"EU_Sales\": 0.32, \"JP_Sales\": 1.86, \"Other_Sales\": 0.05, \"Global_Sales\": 3.5999999999999996}, {\"Genre\": \"Sports\", \"Year\": 1989, \"Rank\": 2775, \"NA_Sales\": 2.24, \"EU_Sales\": 0.9, \"JP_Sales\": 2.47, \"Other_Sales\": 0.11, \"Global_Sales\": 5.720000000000001}, {\"Genre\": \"Sports\", \"Year\": 1990, \"Rank\": 12639, \"NA_Sales\": 0.28, \"EU_Sales\": 0.5, \"JP_Sales\": 1.28, \"Other_Sales\": 0.05, \"Global_Sales\": 2.11}, {\"Genre\": \"Sports\", \"Year\": 1991, \"Rank\": 47236, \"NA_Sales\": 0.41, \"EU_Sales\": 0.1, \"JP_Sales\": 1.88, \"Other_Sales\": 0.02, \"Global_Sales\": 2.4099999999999997}, {\"Genre\": \"Sports\", \"Year\": 1992, \"Rank\": 19890, \"NA_Sales\": 1.75, \"EU_Sales\": 0.25, \"JP_Sales\": 0.9, \"Other_Sales\": 0.05, \"Global_Sales\": 2.95}, {\"Genre\": \"Sports\", \"Year\": 1993, \"Rank\": 62954, \"NA_Sales\": 0.04, \"EU_Sales\": 0.01, \"JP_Sales\": 3.1299999999999994, \"Other_Sales\": 0.0, \"Global_Sales\": 3.1799999999999997}, {\"Genre\": \"Sports\", \"Year\": 1994, \"Rank\": 159258, \"NA_Sales\": 2.4999999999999996, \"EU_Sales\": 0.55, \"JP_Sales\": 5.229999999999999, \"Other_Sales\": 0.13, \"Global_Sales\": 8.389999999999999}, {\"Genre\": \"Sports\", \"Year\": 1995, \"Rank\": 238428, \"NA_Sales\": 2.5599999999999996, \"EU_Sales\": 1.2800000000000002, \"JP_Sales\": 3.8699999999999997, \"Other_Sales\": 0.28, \"Global_Sales\": 7.980000000000002}, {\"Genre\": \"Sports\", \"Year\": 1996, \"Rank\": 396533, \"NA_Sales\": 7.779999999999999, \"EU_Sales\": 3.7799999999999985, \"JP_Sales\": 5.080000000000002, \"Other_Sales\": 0.7800000000000004, \"Global_Sales\": 17.450000000000006}, {\"Genre\": \"Sports\", \"Year\": 1997, \"Rank\": 256773, \"NA_Sales\": 15.549999999999999, \"EU_Sales\": 5.469999999999997, \"JP_Sales\": 7.760000000000001, \"Other_Sales\": 1.4600000000000009, \"Global_Sales\": 30.220000000000002}, {\"Genre\": \"Sports\", \"Year\": 1998, \"Rank\": 408981, \"NA_Sales\": 25.509999999999998, \"EU_Sales\": 10.759999999999996, \"JP_Sales\": 5.0600000000000005, \"Other_Sales\": 1.8800000000000008, \"Global_Sales\": 43.25000000000002}, {\"Genre\": \"Sports\", \"Year\": 1999, \"Rank\": 405210, \"NA_Sales\": 15.089999999999998, \"EU_Sales\": 7.029999999999996, \"JP_Sales\": 6.829999999999999, \"Other_Sales\": 1.2600000000000005, \"Global_Sales\": 30.289999999999996}, {\"Genre\": \"Sports\", \"Year\": 2000, \"Rank\": 542242, \"NA_Sales\": 21.560000000000002, \"EU_Sales\": 9.769999999999996, \"JP_Sales\": 6.359999999999999, \"Other_Sales\": 2.359999999999997, \"Global_Sales\": 41.19}, {\"Genre\": \"Sports\", \"Year\": 2001, \"Rank\": 645014, \"NA_Sales\": 29.430000000000003, \"EU_Sales\": 14.189999999999994, \"JP_Sales\": 3.9, \"Other_Sales\": 4.65999999999999, \"Global_Sales\": 52.14000000000002}, {\"Genre\": \"Sports\", \"Year\": 2002, \"Rank\": 1677175, \"NA_Sales\": 36.410000000000004, \"EU_Sales\": 19.83000000000004, \"JP_Sales\": 4.6899999999999995, \"Other_Sales\": 6.389999999999986, \"Global_Sales\": 67.42999999999994}, {\"Genre\": \"Sports\", \"Year\": 2003, \"Rank\": 873211, \"NA_Sales\": 36.739999999999995, \"EU_Sales\": 18.700000000000014, \"JP_Sales\": 4.279999999999999, \"Other_Sales\": 5.7799999999999905, \"Global_Sales\": 65.40999999999998}, {\"Genre\": \"Sports\", \"Year\": 2004, \"Rank\": 740073, \"NA_Sales\": 38.79000000000002, \"EU_Sales\": 15.00999999999999, \"JP_Sales\": 4.42, \"Other_Sales\": 5.859999999999991, \"Global_Sales\": 64.15000000000005}, {\"Genre\": \"Sports\", \"Year\": 2005, \"Rank\": 914036, \"NA_Sales\": 36.72000000000002, \"EU_Sales\": 14.199999999999983, \"JP_Sales\": 3.5500000000000003, \"Other_Sales\": 5.889999999999989, \"Global_Sales\": 60.38000000000004}, {\"Genre\": \"Sports\", \"Year\": 2006, \"Rank\": 1216813, \"NA_Sales\": 74.44000000000003, \"EU_Sales\": 40.249999999999986, \"JP_Sales\": 8.789999999999994, \"Other_Sales\": 14.429999999999977, \"Global_Sales\": 137.96000000000006}, {\"Genre\": \"Sports\", \"Year\": 2007, \"Rank\": 1337207, \"NA_Sales\": 47.82000000000003, \"EU_Sales\": 26.56000000000002, \"JP_Sales\": 9.589999999999991, \"Other_Sales\": 14.329999999999982, \"Global_Sales\": 98.25000000000001}, {\"Genre\": \"Sports\", \"Year\": 2008, \"Rank\": 1523646, \"NA_Sales\": 49.059999999999974, \"EU_Sales\": 27.11000000000002, \"JP_Sales\": 5.629999999999997, \"Other_Sales\": 14.239999999999974, \"Global_Sales\": 97.01999999999997}, {\"Genre\": \"Sports\", \"Year\": 2009, \"Rank\": 1417262, \"NA_Sales\": 71.70999999999991, \"EU_Sales\": 42.16999999999997, \"JP_Sales\": 9.809999999999995, \"Other_Sales\": 15.159999999999977, \"Global_Sales\": 138.8700000000001}, {\"Genre\": \"Sports\", \"Year\": 2010, \"Rank\": 1476367, \"NA_Sales\": 49.47000000000001, \"EU_Sales\": 29.240000000000013, \"JP_Sales\": 4.419999999999999, \"Other_Sales\": 10.59999999999997, \"Global_Sales\": 94.01}, {\"Genre\": \"Sports\", \"Year\": 2011, \"Rank\": 1018817, \"NA_Sales\": 27.53999999999999, \"EU_Sales\": 20.130000000000017, \"JP_Sales\": 3.0799999999999996, \"Other_Sales\": 6.749999999999986, \"Global_Sales\": 57.430000000000014}, {\"Genre\": \"Sports\", \"Year\": 2012, \"Rank\": 376221, \"NA_Sales\": 16.399999999999995, \"EU_Sales\": 8.829999999999997, \"JP_Sales\": 2.61, \"Other_Sales\": 3.0799999999999974, \"Global_Sales\": 30.950000000000006}, {\"Genre\": \"Sports\", \"Year\": 2013, \"Rank\": 356332, \"NA_Sales\": 19.320000000000007, \"EU_Sales\": 15.34, \"JP_Sales\": 2.15, \"Other_Sales\": 5.099999999999999, \"Global_Sales\": 41.92000000000002}, {\"Genre\": \"Sports\", \"Year\": 2014, \"Rank\": 320026, \"NA_Sales\": 19.82000000000001, \"EU_Sales\": 18.7, \"JP_Sales\": 1.6000000000000008, \"Other_Sales\": 6.52, \"Global_Sales\": 46.66}, {\"Genre\": \"Sports\", \"Year\": 2015, \"Rank\": 529044, \"NA_Sales\": 18.02, \"EU_Sales\": 16.690000000000005, \"JP_Sales\": 0.7200000000000001, \"Other_Sales\": 5.619999999999994, \"Global_Sales\": 41.54000000000001}, {\"Genre\": \"Sports\", \"Year\": 2016, \"Rank\": 360626, \"NA_Sales\": 4.569999999999999, \"EU_Sales\": 7.359999999999996, \"JP_Sales\": 0.7800000000000001, \"Other_Sales\": 1.9200000000000004, \"Global_Sales\": 14.599999999999996}]}}, {\"mode\": \"vega-lite\"});\n",
       "</script>"
      ],
      "text/plain": [
       "alt.FacetChart(...)"
      ]
     },
     "execution_count": 61,
     "metadata": {},
     "output_type": "execute_result"
    }
   ],
   "source": [
    "data_plot4 = vg_sales[(vg_sales.Genre=='Action') | (vg_sales.Genre=='Sports') | (vg_sales.Genre=='Shooter') \n",
    "                      | (vg_sales.Genre=='Role-Playing') | (vg_sales.Genre=='Platform')].groupby(['Genre','Year']).aggregate(sum).reset_index()\n",
    "alt.Chart(data_plot4).mark_line().properties(\n",
    "     width=500\n",
    ").encode(\n",
    "    x=alt.X('Year:Q'),\n",
    "    y=alt.Y('Global_Sales'),\n",
    "    color=alt.Color('Genre')#sum sales\n",
    ").properties(width=150).mark_area(opacity = 0.5).facet('Genre')"
   ]
  },
  {
   "cell_type": "markdown",
   "id": "graphic-packaging",
   "metadata": {},
   "source": [
    "---\n",
    "## 4. Conclusion"
   ]
  }
 ],
 "metadata": {
  "kernelspec": {
   "display_name": "Python 3",
   "language": "python",
   "name": "python3"
  },
  "language_info": {
   "codemirror_mode": {
    "name": "ipython",
    "version": 3
   },
   "file_extension": ".py",
   "mimetype": "text/x-python",
   "name": "python",
   "nbconvert_exporter": "python",
   "pygments_lexer": "ipython3",
   "version": "3.7.10"
  }
 },
 "nbformat": 4,
 "nbformat_minor": 5
}
