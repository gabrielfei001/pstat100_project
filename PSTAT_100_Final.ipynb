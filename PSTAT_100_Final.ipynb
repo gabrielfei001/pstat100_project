{
 "cells": [
  {
   "cell_type": "markdown",
   "id": "lovely-fluid",
   "metadata": {},
   "source": [
    "# Game Development"
   ]
  },
  {
   "cell_type": "code",
   "execution_count": 30,
   "id": "stylish-wages",
   "metadata": {},
   "outputs": [],
   "source": [
    "# libraries\n",
    "import pandas as pd\n",
    "import numpy as np\n",
    "import altair as alt"
   ]
  },
  {
   "cell_type": "markdown",
   "id": "later-merit",
   "metadata": {},
   "source": [
    "Group Members:\n",
    "\n",
    "#### Author contributions\n",
    "\n",
    "Author 1 contributed ...\n",
    "\n",
    "Author 2 contributed ...\n",
    "\n",
    "#### Abstract\n",
    "\n",
    "Prepare an abstract *after* you've written the entire report. The abstract should be 4-6 sentences summarizing the report contents. Typically:\n",
    "* the first 1-2 sentences introduce and motivate the topic;\n",
    "* the next 1-2 sentences state the aims;\n",
    "* the next 1-2 sentences state the findings."
   ]
  },
  {
   "cell_type": "markdown",
   "id": "naked-passage",
   "metadata": {},
   "source": [
    "---\n",
    "## Background: Sales of videogames \n",
    "\n",
    "Videogames have been an increasingly popular form of entertainment coming out of the crash of 1983 to the present pushing computational hardware, content creation, competitive play, and opening many commercial opportunities along the way. Titles or the games themselves have existed through various means such as consoles or specifically curated hardware from companies such as Sony with their Playstation series of console, Microsoft with Xbox consoles, and Nintendo with their most recent Switch console. Another popular option in terms of hardware comes through custom built computers.\n",
    "<br>\n"
   ]
  },
  {
   "cell_type": "code",
   "execution_count": 39,
   "id": "narrow-barcelona",
   "metadata": {},
   "outputs": [
    {
     "data": {
      "text/html": [
       "<div>\n",
       "<style scoped>\n",
       "    .dataframe tbody tr th:only-of-type {\n",
       "        vertical-align: middle;\n",
       "    }\n",
       "\n",
       "    .dataframe tbody tr th {\n",
       "        vertical-align: top;\n",
       "    }\n",
       "\n",
       "    .dataframe thead th {\n",
       "        text-align: right;\n",
       "    }\n",
       "</style>\n",
       "<table border=\"1\" class=\"dataframe\">\n",
       "  <thead>\n",
       "    <tr style=\"text-align: right;\">\n",
       "      <th></th>\n",
       "      <th>Rank</th>\n",
       "      <th>Name</th>\n",
       "      <th>Platform</th>\n",
       "      <th>Year</th>\n",
       "      <th>Genre</th>\n",
       "      <th>Publisher</th>\n",
       "      <th>NA_Sales</th>\n",
       "      <th>EU_Sales</th>\n",
       "      <th>JP_Sales</th>\n",
       "      <th>Other_Sales</th>\n",
       "      <th>Global_Sales</th>\n",
       "    </tr>\n",
       "  </thead>\n",
       "  <tbody>\n",
       "    <tr>\n",
       "      <th>0</th>\n",
       "      <td>1</td>\n",
       "      <td>Wii Sports</td>\n",
       "      <td>Wii</td>\n",
       "      <td>2006</td>\n",
       "      <td>Sports</td>\n",
       "      <td>Nintendo</td>\n",
       "      <td>41.49</td>\n",
       "      <td>29.02</td>\n",
       "      <td>3.77</td>\n",
       "      <td>8.46</td>\n",
       "      <td>82.74</td>\n",
       "    </tr>\n",
       "    <tr>\n",
       "      <th>1</th>\n",
       "      <td>2</td>\n",
       "      <td>Super Mario Bros.</td>\n",
       "      <td>NES</td>\n",
       "      <td>1985</td>\n",
       "      <td>Platform</td>\n",
       "      <td>Nintendo</td>\n",
       "      <td>29.08</td>\n",
       "      <td>3.58</td>\n",
       "      <td>6.81</td>\n",
       "      <td>0.77</td>\n",
       "      <td>40.24</td>\n",
       "    </tr>\n",
       "    <tr>\n",
       "      <th>2</th>\n",
       "      <td>3</td>\n",
       "      <td>Mario Kart Wii</td>\n",
       "      <td>Wii</td>\n",
       "      <td>2008</td>\n",
       "      <td>Racing</td>\n",
       "      <td>Nintendo</td>\n",
       "      <td>15.85</td>\n",
       "      <td>12.88</td>\n",
       "      <td>3.79</td>\n",
       "      <td>3.31</td>\n",
       "      <td>35.82</td>\n",
       "    </tr>\n",
       "    <tr>\n",
       "      <th>3</th>\n",
       "      <td>4</td>\n",
       "      <td>Wii Sports Resort</td>\n",
       "      <td>Wii</td>\n",
       "      <td>2009</td>\n",
       "      <td>Sports</td>\n",
       "      <td>Nintendo</td>\n",
       "      <td>15.75</td>\n",
       "      <td>11.01</td>\n",
       "      <td>3.28</td>\n",
       "      <td>2.96</td>\n",
       "      <td>33.00</td>\n",
       "    </tr>\n",
       "    <tr>\n",
       "      <th>4</th>\n",
       "      <td>5</td>\n",
       "      <td>Pokemon Red/Pokemon Blue</td>\n",
       "      <td>GB</td>\n",
       "      <td>1996</td>\n",
       "      <td>Role-Playing</td>\n",
       "      <td>Nintendo</td>\n",
       "      <td>11.27</td>\n",
       "      <td>8.89</td>\n",
       "      <td>10.22</td>\n",
       "      <td>1.00</td>\n",
       "      <td>31.37</td>\n",
       "    </tr>\n",
       "  </tbody>\n",
       "</table>\n",
       "</div>"
      ],
      "text/plain": [
       "   Rank                      Name Platform  Year         Genre Publisher  \\\n",
       "0     1                Wii Sports      Wii  2006        Sports  Nintendo   \n",
       "1     2         Super Mario Bros.      NES  1985      Platform  Nintendo   \n",
       "2     3            Mario Kart Wii      Wii  2008        Racing  Nintendo   \n",
       "3     4         Wii Sports Resort      Wii  2009        Sports  Nintendo   \n",
       "4     5  Pokemon Red/Pokemon Blue       GB  1996  Role-Playing  Nintendo   \n",
       "\n",
       "   NA_Sales  EU_Sales  JP_Sales  Other_Sales  Global_Sales  \n",
       "0     41.49     29.02      3.77         8.46         82.74  \n",
       "1     29.08      3.58      6.81         0.77         40.24  \n",
       "2     15.85     12.88      3.79         3.31         35.82  \n",
       "3     15.75     11.01      3.28         2.96         33.00  \n",
       "4     11.27      8.89     10.22         1.00         31.37  "
      ]
     },
     "execution_count": 39,
     "metadata": {},
     "output_type": "execute_result"
    }
   ],
   "source": [
    "vg_sales.head()"
   ]
  },
  {
   "cell_type": "markdown",
   "id": "naked-fifteen",
   "metadata": {},
   "source": [
    "<blockquote> \n",
    "<p>\n",
    "    <strong>Figure 1</strong>: Shows the total number of video game sold globally from 1980 - 2016.\n",
    "</p>\n",
    "</blockquote>"
   ]
  },
  {
   "cell_type": "code",
   "execution_count": 32,
   "id": "proper-buffalo",
   "metadata": {},
   "outputs": [
    {
     "data": {
      "text/html": [
       "\n",
       "<div id=\"altair-viz-eae77c015047440eb31e137e68a7a410\"></div>\n",
       "<script type=\"text/javascript\">\n",
       "  (function(spec, embedOpt){\n",
       "    let outputDiv = document.currentScript.previousElementSibling;\n",
       "    if (outputDiv.id !== \"altair-viz-eae77c015047440eb31e137e68a7a410\") {\n",
       "      outputDiv = document.getElementById(\"altair-viz-eae77c015047440eb31e137e68a7a410\");\n",
       "    }\n",
       "    const paths = {\n",
       "      \"vega\": \"https://cdn.jsdelivr.net/npm//vega@5?noext\",\n",
       "      \"vega-lib\": \"https://cdn.jsdelivr.net/npm//vega-lib?noext\",\n",
       "      \"vega-lite\": \"https://cdn.jsdelivr.net/npm//vega-lite@4.8.1?noext\",\n",
       "      \"vega-embed\": \"https://cdn.jsdelivr.net/npm//vega-embed@6?noext\",\n",
       "    };\n",
       "\n",
       "    function loadScript(lib) {\n",
       "      return new Promise(function(resolve, reject) {\n",
       "        var s = document.createElement('script');\n",
       "        s.src = paths[lib];\n",
       "        s.async = true;\n",
       "        s.onload = () => resolve(paths[lib]);\n",
       "        s.onerror = () => reject(`Error loading script: ${paths[lib]}`);\n",
       "        document.getElementsByTagName(\"head\")[0].appendChild(s);\n",
       "      });\n",
       "    }\n",
       "\n",
       "    function showError(err) {\n",
       "      outputDiv.innerHTML = `<div class=\"error\" style=\"color:red;\">${err}</div>`;\n",
       "      throw err;\n",
       "    }\n",
       "\n",
       "    function displayChart(vegaEmbed) {\n",
       "      vegaEmbed(outputDiv, spec, embedOpt)\n",
       "        .catch(err => showError(`Javascript Error: ${err.message}<br>This usually means there's a typo in your chart specification. See the javascript console for the full traceback.`));\n",
       "    }\n",
       "\n",
       "    if(typeof define === \"function\" && define.amd) {\n",
       "      requirejs.config({paths});\n",
       "      require([\"vega-embed\"], displayChart, err => showError(`Error loading script: ${err.message}`));\n",
       "    } else if (typeof vegaEmbed === \"function\") {\n",
       "      displayChart(vegaEmbed);\n",
       "    } else {\n",
       "      loadScript(\"vega\")\n",
       "        .then(() => loadScript(\"vega-lite\"))\n",
       "        .then(() => loadScript(\"vega-embed\"))\n",
       "        .catch(showError)\n",
       "        .then(() => displayChart(vegaEmbed));\n",
       "    }\n",
       "  })({\"config\": {\"view\": {\"continuousWidth\": 400, \"continuousHeight\": 300}}, \"data\": {\"name\": \"data-1b838e84fbb5d262541a1b1a7e35035b\"}, \"mark\": \"bar\", \"encoding\": {\"x\": {\"type\": \"nominal\", \"field\": \"Year\"}, \"y\": {\"type\": \"quantitative\", \"field\": \"Global_Sales\"}}, \"$schema\": \"https://vega.github.io/schema/vega-lite/v4.8.1.json\", \"datasets\": {\"data-1b838e84fbb5d262541a1b1a7e35035b\": [{\"Year\": \"1980\", \"Rank\": 29826, \"NA_Sales\": 10.590000000000003, \"EU_Sales\": 0.6700000000000002, \"JP_Sales\": 0.0, \"Other_Sales\": 0.11999999999999998, \"Global_Sales\": 11.379999999999999}, {\"Year\": \"1981\", \"Rank\": 190488, \"NA_Sales\": 33.04999999999999, \"EU_Sales\": 1.9600000000000006, \"JP_Sales\": 0.0, \"Other_Sales\": 0.3200000000000001, \"Global_Sales\": 35.77000000000001}, {\"Year\": \"1982\", \"Rank\": 149186, \"NA_Sales\": 26.920000000000005, \"EU_Sales\": 1.6500000000000008, \"JP_Sales\": 0.0, \"Other_Sales\": 0.31000000000000016, \"Global_Sales\": 28.859999999999996}, {\"Year\": \"1983\", \"Rank\": 56759, \"NA_Sales\": 7.76, \"EU_Sales\": 0.8000000000000003, \"JP_Sales\": 8.1, \"Other_Sales\": 0.13999999999999999, \"Global_Sales\": 16.790000000000003}, {\"Year\": \"1984\", \"Rank\": 22911, \"NA_Sales\": 33.28, \"EU_Sales\": 2.0999999999999996, \"JP_Sales\": 14.269999999999998, \"Other_Sales\": 0.7000000000000002, \"Global_Sales\": 50.360000000000014}, {\"Year\": \"1985\", \"Rank\": 55505, \"NA_Sales\": 33.27, \"EU_Sales\": 4.74, \"JP_Sales\": 14.56, \"Other_Sales\": 0.9200000000000002, \"Global_Sales\": 53.940000000000005}, {\"Year\": \"1986\", \"Rank\": 35986, \"NA_Sales\": 12.5, \"EU_Sales\": 2.8400000000000007, \"JP_Sales\": 19.81, \"Other_Sales\": 1.9300000000000002, \"Global_Sales\": 37.07}, {\"Year\": \"1987\", \"Rank\": 54701, \"NA_Sales\": 8.460000000000003, \"EU_Sales\": 1.4100000000000001, \"JP_Sales\": 11.63, \"Other_Sales\": 0.20000000000000004, \"Global_Sales\": 21.739999999999995}, {\"Year\": \"1988\", \"Rank\": 37181, \"NA_Sales\": 23.869999999999997, \"EU_Sales\": 6.590000000000001, \"JP_Sales\": 15.759999999999998, \"Other_Sales\": 0.9900000000000001, \"Global_Sales\": 47.22}, {\"Year\": \"1989\", \"Rank\": 40156, \"NA_Sales\": 45.15, \"EU_Sales\": 8.44, \"JP_Sales\": 18.360000000000003, \"Other_Sales\": 1.5000000000000002, \"Global_Sales\": 73.45}, {\"Year\": \"1990\", \"Rank\": 25106, \"NA_Sales\": 25.46, \"EU_Sales\": 7.629999999999998, \"JP_Sales\": 14.880000000000003, \"Other_Sales\": 1.4000000000000004, \"Global_Sales\": 49.38999999999999}, {\"Year\": \"1991\", \"Rank\": 212821, \"NA_Sales\": 12.76, \"EU_Sales\": 3.9499999999999993, \"JP_Sales\": 14.780000000000001, \"Other_Sales\": 0.7400000000000001, \"Global_Sales\": 32.230000000000004}, {\"Year\": \"1992\", \"Rank\": 208926, \"NA_Sales\": 33.87, \"EU_Sales\": 11.710000000000003, \"JP_Sales\": 28.91, \"Other_Sales\": 1.6500000000000004, \"Global_Sales\": 76.15999999999998}, {\"Year\": \"1993\", \"Rank\": 378762, \"NA_Sales\": 14.120000000000001, \"EU_Sales\": 4.6499999999999995, \"JP_Sales\": 25.33000000000001, \"Other_Sales\": 0.8900000000000001, \"Global_Sales\": 45.98}, {\"Year\": \"1994\", \"Rank\": 868891, \"NA_Sales\": 28.150000000000002, \"EU_Sales\": 14.879999999999997, \"JP_Sales\": 33.990000000000016, \"Other_Sales\": 2.199999999999999, \"Global_Sales\": 79.17000000000003}, {\"Year\": \"1995\", \"Rank\": 1879594, \"NA_Sales\": 24.82000000000001, \"EU_Sales\": 14.709999999999981, \"JP_Sales\": 45.750000000000014, \"Other_Sales\": 2.6399999999999926, \"Global_Sales\": 88.10999999999991}, {\"Year\": \"1996\", \"Rank\": 1911672, \"NA_Sales\": 86.75999999999999, \"EU_Sales\": 47.259999999999984, \"JP_Sales\": 57.43999999999997, \"Other_Sales\": 7.689999999999979, \"Global_Sales\": 199.14999999999995}, {\"Year\": \"1997\", \"Rank\": 1896978, \"NA_Sales\": 94.30000000000007, \"EU_Sales\": 48.319999999999986, \"JP_Sales\": 48.86999999999997, \"Other_Sales\": 9.129999999999978, \"Global_Sales\": 200.98000000000013}, {\"Year\": \"1998\", \"Rank\": 2623490, \"NA_Sales\": 128.35999999999999, \"EU_Sales\": 66.70000000000012, \"JP_Sales\": 50.04, \"Other_Sales\": 11.02999999999994, \"Global_Sales\": 256.46999999999963}, {\"Year\": \"1999\", \"Rank\": 2187044, \"NA_Sales\": 125.61000000000004, \"EU_Sales\": 62.67000000000003, \"JP_Sales\": 52.34, \"Other_Sales\": 10.049999999999951, \"Global_Sales\": 251.27000000000018}, {\"Year\": \"2000\", \"Rank\": 2376372, \"NA_Sales\": 92.10000000000005, \"EU_Sales\": 52.75000000000003, \"JP_Sales\": 42.770000000000046, \"Other_Sales\": 11.619999999999937, \"Global_Sales\": 201.5600000000002}, {\"Year\": \"2001\", \"Rank\": 3386770, \"NA_Sales\": 173.7200000000004, \"EU_Sales\": 94.88999999999986, \"JP_Sales\": 40.06999999999999, \"Other_Sales\": 22.760000000000186, \"Global_Sales\": 331.4699999999991}, {\"Year\": \"2002\", \"Rank\": 6830188, \"NA_Sales\": 215.78000000000011, \"EU_Sales\": 109.09000000000034, \"JP_Sales\": 41.76000000000002, \"Other_Sales\": 27.280000000000253, \"Global_Sales\": 395.5199999999983}, {\"Year\": \"2003\", \"Rank\": 6110995, \"NA_Sales\": 192.97000000000062, \"EU_Sales\": 102.37000000000032, \"JP_Sales\": 34.43000000000002, \"Other_Sales\": 26.010000000000247, \"Global_Sales\": 357.8499999999989}, {\"Year\": \"2004\", \"Rank\": 5677266, \"NA_Sales\": 218.41000000000034, \"EU_Sales\": 105.92000000000036, \"JP_Sales\": 41.64999999999999, \"Other_Sales\": 47.23999999999984, \"Global_Sales\": 414.0099999999987}, {\"Year\": \"2005\", \"Rank\": 7680275, \"NA_Sales\": 241.5500000000005, \"EU_Sales\": 121.5600000000004, \"JP_Sales\": 54.28000000000001, \"Other_Sales\": 40.54999999999983, \"Global_Sales\": 458.50999999999766}, {\"Year\": \"2006\", \"Rank\": 9563593, \"NA_Sales\": 262.9299999999988, \"EU_Sales\": 128.46000000000018, \"JP_Sales\": 73.72999999999998, \"Other_Sales\": 54.429999999999836, \"Global_Sales\": 521.0399999999917}, {\"Year\": \"2007\", \"Rank\": 10331350, \"NA_Sales\": 310.4299999999983, \"EU_Sales\": 159.7499999999997, \"JP_Sales\": 60.21000000000011, \"Other_Sales\": 77.58000000000102, \"Global_Sales\": 609.8399999999934}, {\"Year\": \"2008\", \"Rank\": 12088007, \"NA_Sales\": 349.3999999999992, \"EU_Sales\": 183.7799999999998, \"JP_Sales\": 60.26000000000002, \"Other_Sales\": 82.39000000000141, \"Global_Sales\": 678.8999999999952}, {\"Year\": \"2009\", \"Rank\": 12420219, \"NA_Sales\": 338.67999999999887, \"EU_Sales\": 190.70999999999984, \"JP_Sales\": 61.88999999999998, \"Other_Sales\": 74.77000000000145, \"Global_Sales\": 667.2999999999947}, {\"Year\": \"2010\", \"Rank\": 11021245, \"NA_Sales\": 301.35999999999996, \"EU_Sales\": 175.40000000000018, \"JP_Sales\": 59.450000000000216, \"Other_Sales\": 59.89999999999995, \"Global_Sales\": 600.2499999999949}, {\"Year\": \"2011\", \"Rank\": 9977031, \"NA_Sales\": 240.2500000000009, \"EU_Sales\": 166.3600000000002, \"JP_Sales\": 53.040000000000084, \"Other_Sales\": 54.38999999999983, \"Global_Sales\": 515.7999999999972}, {\"Year\": \"2012\", \"Rank\": 5525585, \"NA_Sales\": 154.03000000000003, \"EU_Sales\": 117.46000000000002, \"JP_Sales\": 51.74000000000012, \"Other_Sales\": 37.82, \"Global_Sales\": 363.4899999999984}, {\"Year\": \"2013\", \"Rank\": 4398356, \"NA_Sales\": 154.7700000000001, \"EU_Sales\": 123.80000000000005, \"JP_Sales\": 47.59000000000005, \"Other_Sales\": 39.82000000000001, \"Global_Sales\": 368.10999999999865}, {\"Year\": \"2014\", \"Rank\": 4808736, \"NA_Sales\": 131.9700000000002, \"EU_Sales\": 125.1000000000001, \"JP_Sales\": 39.460000000000086, \"Other_Sales\": 40.02, \"Global_Sales\": 337.0299999999985}, {\"Year\": \"2015\", \"Rank\": 6015847, \"NA_Sales\": 102.37999999999992, \"EU_Sales\": 97.21000000000002, \"JP_Sales\": 33.72000000000013, \"Other_Sales\": 30.010000000000133, \"Global_Sales\": 264.43999999999795}, {\"Year\": \"2016\", \"Rank\": 3899499, \"NA_Sales\": 22.66000000000006, \"EU_Sales\": 26.760000000000066, \"JP_Sales\": 13.66999999999997, \"Other_Sales\": 7.749999999999982, \"Global_Sales\": 70.90000000000013}, {\"Year\": \"2017\", \"Rank\": 47078, \"NA_Sales\": 0.0, \"EU_Sales\": 0.0, \"JP_Sales\": 0.05, \"Other_Sales\": 0.0, \"Global_Sales\": 0.05}, {\"Year\": \"2020\", \"Rank\": 5959, \"NA_Sales\": 0.27, \"EU_Sales\": 0.0, \"JP_Sales\": 0.0, \"Other_Sales\": 0.02, \"Global_Sales\": 0.29}]}}, {\"mode\": \"vega-lite\"});\n",
       "</script>"
      ],
      "text/plain": [
       "alt.Chart(...)"
      ]
     },
     "execution_count": 32,
     "metadata": {},
     "output_type": "execute_result"
    }
   ],
   "source": [
    "vg_sales = pd.read_csv('vgsales.csv')\n",
    "vg_sales_mod = vg_sales.dropna(0)\n",
    "vg_sales_mod2 = vg_sales_mod.groupby('Year').sum().reset_index()\n",
    "alt.data_transformers.disable_max_rows()\n",
    "alt.Chart(vg_sales_mod2).mark_bar().encode(\n",
    "    x=alt.X('Year'),\n",
    "    y=alt.Y('Global_Sales') #sum sales\n",
    ")"
   ]
  },
  {
   "cell_type": "markdown",
   "id": "processed-lighter",
   "metadata": {},
   "source": [
    "--- \n",
    "## 1. Data Description"
   ]
  },
  {
   "cell_type": "markdown",
   "id": "stable-durham",
   "metadata": {},
   "source": [
    "## 2. Methods"
   ]
  },
  {
   "cell_type": "markdown",
   "id": "restricted-affiliation",
   "metadata": {},
   "source": [
    "## 3. Results"
   ]
  },
  {
   "cell_type": "markdown",
   "id": "celtic-reception",
   "metadata": {},
   "source": [
    "## 4. Conclusion"
   ]
  }
 ],
 "metadata": {
  "kernelspec": {
   "display_name": "Python 3",
   "language": "python",
   "name": "python3"
  },
  "language_info": {
   "codemirror_mode": {
    "name": "ipython",
    "version": 3
   },
   "file_extension": ".py",
   "mimetype": "text/x-python",
   "name": "python",
   "nbconvert_exporter": "python",
   "pygments_lexer": "ipython3",
   "version": "3.9.1"
  }
 },
 "nbformat": 4,
 "nbformat_minor": 5
}
